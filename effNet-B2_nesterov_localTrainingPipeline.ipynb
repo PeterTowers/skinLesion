{
 "cells": [
  {
   "cell_type": "markdown",
   "metadata": {
    "collapsed": true,
    "id": "y8ZLYo6bHx6x"
   },
   "source": [
    "# SkinLesion - Desafio ISIC 2019 - EfficientNets\n",
    "Pré-treinadas com o ImageNet."
   ]
  },
  {
   "cell_type": "markdown",
   "metadata": {
    "id": "_4MeXtKlLa_7"
   },
   "source": [
    "## Pipeline checklist\n",
    "\n",
    "1. *Path* do modelo a ser carregado;\n",
    "2. Configurações da *learning rate*;\n",
    "3. Épocas de treinamento (inicial e final);\n",
    "4. Nome do modelo a ser salvo (número da época final).\n"
   ]
  },
  {
   "cell_type": "markdown",
   "metadata": {
    "id": "WLDDcO38NPlh"
   },
   "source": [
    "## To do:\n",
    "\n",
    "\n",
    "* Trocar **MICRO** F1-score por *weighted* F1-score:\n",
    "  * Da forma como a média micro é implementada, seus resultados são iguais (literalmente, os mesmos) aos da acurácia.\n",
    "*   List item\n",
    "\n"
   ]
  },
  {
   "cell_type": "markdown",
   "metadata": {
    "id": "KU8MneXMHx61"
   },
   "source": [
    "## Imports"
   ]
  },
  {
   "cell_type": "code",
   "execution_count": 4,
   "metadata": {
    "colab": {
     "base_uri": "https://localhost:8080/"
    },
    "executionInfo": {
     "elapsed": 7048,
     "status": "ok",
     "timestamp": 1635512914507,
     "user": {
      "displayName": "Pedro Torres",
      "photoUrl": "https://lh3.googleusercontent.com/a-/AOh14GiOC_XQxtwkufSV38J42QN0teV5PKC9LlYXQ2mCEA=s64",
      "userId": "01891466493932664969"
     },
     "user_tz": 180
    },
    "id": "QLqyfewnHx63",
    "outputId": "b16a5d0f-9230-45d5-dbb8-c72bb24986c2"
   },
   "outputs": [],
   "source": [
    "import matplotlib.pyplot as plt\n",
    "import numpy as np\n",
    "import pandas as pd\n",
    "import tensorflow as tf\n",
    "\n",
    "from sklearn.metrics import classification_report\n",
    "from sklearn.utils.class_weight import compute_class_weight\n",
    "\n",
    "from tensorflow import keras\n",
    "from tensorflow.keras import layers\n",
    "from tensorflow.keras.applications import EfficientNetB2\n",
    "from tensorflow.keras.metrics import CategoricalAccuracy\n",
    "from tensorflow.keras.preprocessing.image import ImageDataGenerator\n",
    "\n",
    "import tensorflow_addons as tfa"
   ]
  },
  {
   "cell_type": "markdown",
   "metadata": {
    "id": "9rSoo1qzYHjm"
   },
   "source": [
    "Abertura dos dataframes"
   ]
  },
  {
   "cell_type": "code",
   "execution_count": 6,
   "metadata": {
    "executionInfo": {
     "elapsed": 3306,
     "status": "ok",
     "timestamp": 1635513183997,
     "user": {
      "displayName": "Pedro Torres",
      "photoUrl": "https://lh3.googleusercontent.com/a-/AOh14GiOC_XQxtwkufSV38J42QN0teV5PKC9LlYXQ2mCEA=s64",
      "userId": "01891466493932664969"
     },
     "user_tz": 180
    },
    "id": "hSw-FonxHx63"
   },
   "outputs": [],
   "source": [
    "# Open dataframes containing the images for training, validation and test\n",
    "train_df = pd.read_csv(\n",
    "    r\"./dataframes/isic2019_train.csv\")\n",
    "\n",
    "aug_df = pd.read_csv(\n",
    "    r\"./dataframes/isic2019_train_aug1_oversampled.csv\")\n",
    "\n",
    "val_df = pd.read_csv(\n",
    "    r\"./dataframes/isic2019_val.csv\")\n",
    "\n",
    "test_df = pd.read_csv(\n",
    "    r\"./dataframes/isic2019_test.csv\")"
   ]
  },
  {
   "cell_type": "markdown",
   "metadata": {
    "id": "Rm8uIqhyoTdW"
   },
   "source": [
    "## Treinamento da arquitetura EfficientNet-***B2***"
   ]
  },
  {
   "cell_type": "markdown",
   "metadata": {
    "id": "A2SJBncuHx6-"
   },
   "source": [
    "### Dependências\n",
    "#### Métricas"
   ]
  },
  {
   "cell_type": "code",
   "execution_count": 3,
   "metadata": {
    "executionInfo": {
     "elapsed": 6377,
     "status": "ok",
     "timestamp": 1635513190371,
     "user": {
      "displayName": "Pedro Torres",
      "photoUrl": "https://lh3.googleusercontent.com/a-/AOh14GiOC_XQxtwkufSV38J42QN0teV5PKC9LlYXQ2mCEA=s64",
      "userId": "01891466493932664969"
     },
     "user_tz": 180
    },
    "id": "gVuYDvM3Hx6_",
    "scrolled": true
   },
   "outputs": [
    {
     "name": "stderr",
     "output_type": "stream",
     "text": [
      "2021-11-18 17:39:18.732293: I tensorflow/compiler/jit/xla_cpu_device.cc:41] Not creating XLA devices, tf_xla_enable_xla_devices not set\n",
      "2021-11-18 17:39:18.732945: I tensorflow/stream_executor/platform/default/dso_loader.cc:49] Successfully opened dynamic library libcuda.so.1\n",
      "2021-11-18 17:39:18.813377: I tensorflow/stream_executor/cuda/cuda_gpu_executor.cc:941] successful NUMA node read from SysFS had negative value (-1), but there must be at least one NUMA node, so returning NUMA node zero\n",
      "2021-11-18 17:39:18.814901: I tensorflow/core/common_runtime/gpu/gpu_device.cc:1720] Found device 0 with properties: \n",
      "pciBusID: 0000:01:00.0 name: GeForce GTX 1070 computeCapability: 6.1\n",
      "coreClock: 1.797GHz coreCount: 15 deviceMemorySize: 7.93GiB deviceMemoryBandwidth: 238.66GiB/s\n",
      "2021-11-18 17:39:18.814955: I tensorflow/stream_executor/platform/default/dso_loader.cc:49] Successfully opened dynamic library libcudart.so.10.1\n",
      "2021-11-18 17:39:18.855815: I tensorflow/stream_executor/platform/default/dso_loader.cc:49] Successfully opened dynamic library libcublas.so.10\n",
      "2021-11-18 17:39:18.855917: I tensorflow/stream_executor/platform/default/dso_loader.cc:49] Successfully opened dynamic library libcublasLt.so.10\n",
      "2021-11-18 17:39:18.878588: I tensorflow/stream_executor/platform/default/dso_loader.cc:49] Successfully opened dynamic library libcufft.so.10\n",
      "2021-11-18 17:39:18.883860: I tensorflow/stream_executor/platform/default/dso_loader.cc:49] Successfully opened dynamic library libcurand.so.10\n",
      "2021-11-18 17:39:18.921321: I tensorflow/stream_executor/platform/default/dso_loader.cc:49] Successfully opened dynamic library libcusolver.so.10\n",
      "2021-11-18 17:39:18.926087: I tensorflow/stream_executor/platform/default/dso_loader.cc:49] Successfully opened dynamic library libcusparse.so.10\n",
      "2021-11-18 17:39:19.005233: I tensorflow/stream_executor/platform/default/dso_loader.cc:49] Successfully opened dynamic library libcudnn.so.7\n",
      "2021-11-18 17:39:19.005467: I tensorflow/stream_executor/cuda/cuda_gpu_executor.cc:941] successful NUMA node read from SysFS had negative value (-1), but there must be at least one NUMA node, so returning NUMA node zero\n",
      "2021-11-18 17:39:19.006177: I tensorflow/stream_executor/cuda/cuda_gpu_executor.cc:941] successful NUMA node read from SysFS had negative value (-1), but there must be at least one NUMA node, so returning NUMA node zero\n",
      "2021-11-18 17:39:19.006665: I tensorflow/core/common_runtime/gpu/gpu_device.cc:1862] Adding visible gpu devices: 0\n",
      "2021-11-18 17:39:19.007055: I tensorflow/core/platform/cpu_feature_guard.cc:142] This TensorFlow binary is optimized with oneAPI Deep Neural Network Library (oneDNN) to use the following CPU instructions in performance-critical operations:  SSE4.1 SSE4.2 AVX\n",
      "To enable them in other operations, rebuild TensorFlow with the appropriate compiler flags.\n",
      "2021-11-18 17:39:19.007346: I tensorflow/stream_executor/cuda/cuda_gpu_executor.cc:941] successful NUMA node read from SysFS had negative value (-1), but there must be at least one NUMA node, so returning NUMA node zero\n",
      "2021-11-18 17:39:19.007887: I tensorflow/core/common_runtime/gpu/gpu_device.cc:1720] Found device 0 with properties: \n",
      "pciBusID: 0000:01:00.0 name: GeForce GTX 1070 computeCapability: 6.1\n",
      "coreClock: 1.797GHz coreCount: 15 deviceMemorySize: 7.93GiB deviceMemoryBandwidth: 238.66GiB/s\n",
      "2021-11-18 17:39:19.007924: I tensorflow/stream_executor/platform/default/dso_loader.cc:49] Successfully opened dynamic library libcudart.so.10.1\n",
      "2021-11-18 17:39:19.007948: I tensorflow/stream_executor/platform/default/dso_loader.cc:49] Successfully opened dynamic library libcublas.so.10\n",
      "2021-11-18 17:39:19.007965: I tensorflow/stream_executor/platform/default/dso_loader.cc:49] Successfully opened dynamic library libcublasLt.so.10\n",
      "2021-11-18 17:39:19.007980: I tensorflow/stream_executor/platform/default/dso_loader.cc:49] Successfully opened dynamic library libcufft.so.10\n",
      "2021-11-18 17:39:19.007996: I tensorflow/stream_executor/platform/default/dso_loader.cc:49] Successfully opened dynamic library libcurand.so.10\n",
      "2021-11-18 17:39:19.008012: I tensorflow/stream_executor/platform/default/dso_loader.cc:49] Successfully opened dynamic library libcusolver.so.10\n",
      "2021-11-18 17:39:19.008028: I tensorflow/stream_executor/platform/default/dso_loader.cc:49] Successfully opened dynamic library libcusparse.so.10\n",
      "2021-11-18 17:39:19.008045: I tensorflow/stream_executor/platform/default/dso_loader.cc:49] Successfully opened dynamic library libcudnn.so.7\n",
      "2021-11-18 17:39:19.008090: I tensorflow/stream_executor/cuda/cuda_gpu_executor.cc:941] successful NUMA node read from SysFS had negative value (-1), but there must be at least one NUMA node, so returning NUMA node zero\n",
      "2021-11-18 17:39:19.008658: I tensorflow/stream_executor/cuda/cuda_gpu_executor.cc:941] successful NUMA node read from SysFS had negative value (-1), but there must be at least one NUMA node, so returning NUMA node zero\n",
      "2021-11-18 17:39:19.009079: I tensorflow/core/common_runtime/gpu/gpu_device.cc:1862] Adding visible gpu devices: 0\n",
      "2021-11-18 17:39:19.009514: I tensorflow/stream_executor/platform/default/dso_loader.cc:49] Successfully opened dynamic library libcudart.so.10.1\n",
      "2021-11-18 17:39:20.800508: I tensorflow/core/common_runtime/gpu/gpu_device.cc:1261] Device interconnect StreamExecutor with strength 1 edge matrix:\n",
      "2021-11-18 17:39:20.800541: I tensorflow/core/common_runtime/gpu/gpu_device.cc:1267]      0 \n",
      "2021-11-18 17:39:20.800549: I tensorflow/core/common_runtime/gpu/gpu_device.cc:1280] 0:   N \n",
      "2021-11-18 17:39:20.801501: I tensorflow/stream_executor/cuda/cuda_gpu_executor.cc:941] successful NUMA node read from SysFS had negative value (-1), but there must be at least one NUMA node, so returning NUMA node zero\n",
      "2021-11-18 17:39:20.801960: I tensorflow/stream_executor/cuda/cuda_gpu_executor.cc:941] successful NUMA node read from SysFS had negative value (-1), but there must be at least one NUMA node, so returning NUMA node zero\n",
      "2021-11-18 17:39:20.802382: I tensorflow/stream_executor/cuda/cuda_gpu_executor.cc:941] successful NUMA node read from SysFS had negative value (-1), but there must be at least one NUMA node, so returning NUMA node zero\n",
      "2021-11-18 17:39:20.802774: I tensorflow/core/common_runtime/gpu/gpu_device.cc:1406] Created TensorFlow device (/job:localhost/replica:0/task:0/device:GPU:0 with 7011 MB memory) -> physical GPU (device: 0, name: GeForce GTX 1070, pci bus id: 0000:01:00.0, compute capability: 6.1)\n",
      "2021-11-18 17:39:20.806859: I tensorflow/compiler/jit/xla_gpu_device.cc:99] Not creating XLA devices, tf_xla_enable_xla_devices not set\n"
     ]
    }
   ],
   "source": [
    "# Multiclass F1-score MACRO Avg.\n",
    "macro_f1 = tfa.metrics.F1Score(\n",
    "    num_classes=8,\n",
    "    average='macro',\n",
    "    name=\"Macro F1\",\n",
    ")\n",
    "\n",
    "# Multiclass F1-score weighted (by the number of true instances in each class)\n",
    "# average\n",
    "weighted_f1 = tfa.metrics.F1Score(\n",
    "    num_classes=8,\n",
    "    average='weighted',\n",
    "    name=\"Weighted F1\",\n",
    ")"
   ]
  },
  {
   "cell_type": "markdown",
   "metadata": {
    "id": "2w-aphjOl-g2"
   },
   "source": [
    "#### Cálculo dos pesos das classes"
   ]
  },
  {
   "cell_type": "code",
   "execution_count": 5,
   "metadata": {
    "colab": {
     "base_uri": "https://localhost:8080/"
    },
    "executionInfo": {
     "elapsed": 14,
     "status": "ok",
     "timestamp": 1635513190372,
     "user": {
      "displayName": "Pedro Torres",
      "photoUrl": "https://lh3.googleusercontent.com/a-/AOh14GiOC_XQxtwkufSV38J42QN0teV5PKC9LlYXQ2mCEA=s64",
      "userId": "01891466493932664969"
     },
     "user_tz": 180
    },
    "id": "4Ft7oAeDl-g3",
    "outputId": "16d73aff-8b08-45ec-cbfd-c8cf7e9b1e3a"
   },
   "outputs": [
    {
     "name": "stdout",
     "output_type": "stream",
     "text": [
      "{0: 3.651359143327842, 1: 0.9528697334479793, 2: 1.206518780620577, 3: 13.271706586826348, 4: 0.7002764612954187, 5: 0.2459359742565468, 6: 5.037215909090909, 7: 12.521892655367232}\n"
     ]
    }
   ],
   "source": [
    "# # Compute class' weights\n",
    "# class_weights = compute_class_weight(\n",
    "#     class_weight='balanced',\n",
    "#     classes=np.unique(train_df.lesion),\n",
    "#     y=train_df.lesion)\n",
    "\n",
    "# class_weights = dict(enumerate(class_weights))\n",
    "\n",
    "# print(class_weights)"
   ]
  },
  {
   "cell_type": "markdown",
   "metadata": {
    "id": "vQV19Ir_qoA4"
   },
   "source": [
    "### Geradores dos tensores (**B2**)"
   ]
  },
  {
   "cell_type": "code",
   "execution_count": 8,
   "metadata": {
    "colab": {
     "base_uri": "https://localhost:8080/"
    },
    "executionInfo": {
     "elapsed": 515,
     "status": "ok",
     "timestamp": 1635513190884,
     "user": {
      "displayName": "Pedro Torres",
      "photoUrl": "https://lh3.googleusercontent.com/a-/AOh14GiOC_XQxtwkufSV38J42QN0teV5PKC9LlYXQ2mCEA=s64",
      "userId": "01891466493932664969"
     },
     "user_tz": 180
    },
    "id": "eBvYu_b3qoA4",
    "outputId": "471c63c5-c1ed-40e3-fd80-b3acf96811bd"
   },
   "outputs": [
    {
     "name": "stdout",
     "output_type": "stream",
     "text": [
      "Found 72946 validated image filenames.\n",
      "Found 5066 validated image filenames.\n",
      "Found 2534 validated image filenames.\n"
     ]
    }
   ],
   "source": [
    "IMG_SIZE = 260\n",
    "BATCH_SIZE = 32\n",
    "\n",
    "train_dataGen = ImageDataGenerator(rescale=1./255)\n",
    "\n",
    "train_generator = train_dataGen.flow_from_dataframe(\n",
    "    dataframe=aug_df, x_col='image_path', class_mode='raw', seed=31415,\n",
    "    y_col=['MEL', 'NV', 'BCC', 'AK', 'BKL', 'DF', 'VASC', 'SCC'],\n",
    "    target_size=(IMG_SIZE, IMG_SIZE), batch_size=BATCH_SIZE)\n",
    "\n",
    "val_generator = train_dataGen.flow_from_dataframe(\n",
    "    dataframe=val_df, x_col='image_path', class_mode='raw', seed=31415,\n",
    "    y_col=['MEL', 'NV', 'BCC', 'AK', 'BKL', 'DF', 'VASC', 'SCC'],\n",
    "    target_size=(IMG_SIZE, IMG_SIZE), batch_size=BATCH_SIZE)\n",
    "\n",
    "test_generator = train_dataGen.flow_from_dataframe(\n",
    "    dataframe=test_df, x_col='image_path', class_mode='raw', seed=31415,\n",
    "    y_col=['MEL', 'NV', 'BCC', 'AK', 'BKL', 'DF', 'VASC', 'SCC'],\n",
    "    target_size=(IMG_SIZE, IMG_SIZE), batch_size=BATCH_SIZE)"
   ]
  },
  {
   "cell_type": "markdown",
   "metadata": {
    "id": "jg_iRMo7qoA5"
   },
   "source": [
    "### Instanciação da arquitetura"
   ]
  },
  {
   "cell_type": "code",
   "execution_count": 12,
   "metadata": {
    "executionInfo": {
     "elapsed": 6,
     "status": "ok",
     "timestamp": 1635513190884,
     "user": {
      "displayName": "Pedro Torres",
      "photoUrl": "https://lh3.googleusercontent.com/a-/AOh14GiOC_XQxtwkufSV38J42QN0teV5PKC9LlYXQ2mCEA=s64",
      "userId": "01891466493932664969"
     },
     "user_tz": 180
    },
    "id": "OHZO6Tz4qoA5"
   },
   "outputs": [],
   "source": [
    "# # Load EfficientNet pre-trained w/ ImageNet\n",
    "# base_model = EfficientNetB2(include_top=False, weights=\"imagenet\")\n",
    "\n",
    "# # Rebuild top\n",
    "# avg = layers.GlobalAveragePooling2D(name=\"avg_pool\")(base_model.output)\n",
    "# norm = layers.BatchNormalization()(avg)\n",
    "# dropout = layers.Dropout(0.35, name=\"top_dropout\")(norm)\n",
    "# output = layers.Dense(8, activation=\"softmax\", name=\"pred\")(dropout)\n",
    "\n",
    "# model = tf.keras.Model(base_model.input, output, name=\"EfficientNetB2_Oversampled\")\n",
    "\n",
    "# # Freeze the pretrained weights\n",
    "# for layer in base_model.layers:\n",
    "#     layer.trainable = False"
   ]
  },
  {
   "cell_type": "markdown",
   "metadata": {
    "id": "INWnzak6okwE"
   },
   "source": [
    "### Otimizador **SGD com Nesterov**"
   ]
  },
  {
   "cell_type": "markdown",
   "metadata": {
    "id": "ALiEevlBtodk"
   },
   "source": [
    "#### Treinamento das camadas superiores"
   ]
  },
  {
   "cell_type": "code",
   "execution_count": 13,
   "metadata": {
    "executionInfo": {
     "elapsed": 7,
     "status": "ok",
     "timestamp": 1635513190885,
     "user": {
      "displayName": "Pedro Torres",
      "photoUrl": "https://lh3.googleusercontent.com/a-/AOh14GiOC_XQxtwkufSV38J42QN0teV5PKC9LlYXQ2mCEA=s64",
      "userId": "01891466493932664969"
     },
     "user_tz": 180
    },
    "id": "yHKpm3rEBGlz"
   },
   "outputs": [],
   "source": [
    "# Load previous best weights\n",
    "# model.load_weights(\n",
    "#      '/content/drive/MyDrive/Colab Notebooks/skinLesionClass/models/effNetB2_15top10').expect_partial()\n",
    "\n",
    "# # Learning rate scheduler\n",
    "# lr_schedule = tf.keras.optimizers.schedules.ExponentialDecay(\n",
    "#     initial_learning_rate=1e-3,\n",
    "#     decay_steps=827*20,\n",
    "#     decay_rate=0.1,\n",
    "#     staircase=True)\n",
    "\n",
    "# Freeze all layer's pretrained weights\n",
    "for layer in model.layers[:-4]:\n",
    "    layer.trainable = False\n",
    "\n",
    "# Optimizer setup\n",
    "optimizer = tf.keras.optimizers.SGD(\n",
    "    learning_rate=5e-5, momentum=0.9, nesterov=True)\n",
    "\n",
    "# Metrics\n",
    "metrics = [CategoricalAccuracy(name='Categorical Accuracy'),\n",
    "           macro_f1, weighted_f1]\n",
    "\n",
    "# Compile model\n",
    "model.compile(optimizer=optimizer, loss=\"categorical_crossentropy\",\n",
    "              metrics=metrics)"
   ]
  },
  {
   "cell_type": "code",
   "execution_count": 9,
   "metadata": {
    "scrolled": true
   },
   "outputs": [
    {
     "name": "stderr",
     "output_type": "stream",
     "text": [
      "WARNING:absl:Importing a function (__inference_block4b_se_reduce_layer_call_and_return_conditional_losses_732934) with ops with custom gradients. Will likely fail if a gradient is requested.\n",
      "WARNING:absl:Importing a function (__inference_block6d_activation_layer_call_and_return_conditional_losses_736102) with ops with custom gradients. Will likely fail if a gradient is requested.\n",
      "WARNING:absl:Importing a function (__inference_block7b_expand_activation_layer_call_and_return_conditional_losses_736989) with ops with custom gradients. Will likely fail if a gradient is requested.\n",
      "WARNING:absl:Importing a function (__inference_block6e_expand_activation_layer_call_and_return_conditional_losses_736378) with ops with custom gradients. Will likely fail if a gradient is requested.\n",
      "WARNING:absl:Importing a function (__inference_block7a_activation_layer_call_and_return_conditional_losses_736766) with ops with custom gradients. Will likely fail if a gradient is requested.\n",
      "WARNING:absl:Importing a function (__inference_block5d_se_reduce_layer_call_and_return_conditional_losses_734873) with ops with custom gradients. Will likely fail if a gradient is requested.\n",
      "WARNING:absl:Importing a function (__inference_block6d_activation_layer_call_and_return_conditional_losses_757314) with ops with custom gradients. Will likely fail if a gradient is requested.\n",
      "WARNING:absl:Importing a function (__inference__wrapped_model_722207) with ops with custom gradients. Will likely fail if a gradient is requested.\n",
      "WARNING:absl:Importing a function (__inference__wrapped_model_722207) with ops with custom gradients. Will likely fail if a gradient is requested.\n",
      "WARNING:absl:Importing a function (__inference__wrapped_model_722207) with ops with custom gradients. Will likely fail if a gradient is requested.\n",
      "WARNING:absl:Importing a function (__inference__wrapped_model_722207) with ops with custom gradients. Will likely fail if a gradient is requested.\n",
      "WARNING:absl:Importing a function (__inference__wrapped_model_722207) with ops with custom gradients. Will likely fail if a gradient is requested.\n",
      "WARNING:absl:Importing a function (__inference__wrapped_model_722207) with ops with custom gradients. Will likely fail if a gradient is requested.\n",
      "WARNING:absl:Importing a function (__inference__wrapped_model_722207) with ops with custom gradients. Will likely fail if a gradient is requested.\n",
      "WARNING:absl:Importing a function (__inference__wrapped_model_722207) with ops with custom gradients. Will likely fail if a gradient is requested.\n",
      "WARNING:absl:Importing a function (__inference__wrapped_model_722207) with ops with custom gradients. Will likely fail if a gradient is requested.\n",
      "WARNING:absl:Importing a function (__inference__wrapped_model_722207) with ops with custom gradients. Will likely fail if a gradient is requested.\n",
      "WARNING:absl:Importing a function (__inference__wrapped_model_722207) with ops with custom gradients. Will likely fail if a gradient is requested.\n",
      "WARNING:absl:Importing a function (__inference__wrapped_model_722207) with ops with custom gradients. Will likely fail if a gradient is requested.\n",
      "WARNING:absl:Importing a function (__inference__wrapped_model_722207) with ops with custom gradients. Will likely fail if a gradient is requested.\n",
      "WARNING:absl:Importing a function (__inference__wrapped_model_722207) with ops with custom gradients. Will likely fail if a gradient is requested.\n",
      "WARNING:absl:Importing a function (__inference__wrapped_model_722207) with ops with custom gradients. Will likely fail if a gradient is requested.\n",
      "WARNING:absl:Importing a function (__inference__wrapped_model_722207) with ops with custom gradients. Will likely fail if a gradient is requested.\n",
      "WARNING:absl:Importing a function (__inference__wrapped_model_722207) with ops with custom gradients. Will likely fail if a gradient is requested.\n",
      "WARNING:absl:Importing a function (__inference__wrapped_model_722207) with ops with custom gradients. Will likely fail if a gradient is requested.\n",
      "WARNING:absl:Importing a function (__inference__wrapped_model_722207) with ops with custom gradients. Will likely fail if a gradient is requested.\n",
      "WARNING:absl:Importing a function (__inference__wrapped_model_722207) with ops with custom gradients. Will likely fail if a gradient is requested.\n",
      "WARNING:absl:Importing a function (__inference__wrapped_model_722207) with ops with custom gradients. Will likely fail if a gradient is requested.\n",
      "WARNING:absl:Importing a function (__inference__wrapped_model_722207) with ops with custom gradients. Will likely fail if a gradient is requested.\n",
      "WARNING:absl:Importing a function (__inference__wrapped_model_722207) with ops with custom gradients. Will likely fail if a gradient is requested.\n",
      "WARNING:absl:Importing a function (__inference__wrapped_model_722207) with ops with custom gradients. Will likely fail if a gradient is requested.\n",
      "WARNING:absl:Importing a function (__inference__wrapped_model_722207) with ops with custom gradients. Will likely fail if a gradient is requested.\n",
      "WARNING:absl:Importing a function (__inference__wrapped_model_722207) with ops with custom gradients. Will likely fail if a gradient is requested.\n",
      "WARNING:absl:Importing a function (__inference__wrapped_model_722207) with ops with custom gradients. Will likely fail if a gradient is requested.\n",
      "WARNING:absl:Importing a function (__inference__wrapped_model_722207) with ops with custom gradients. Will likely fail if a gradient is requested.\n",
      "WARNING:absl:Importing a function (__inference__wrapped_model_722207) with ops with custom gradients. Will likely fail if a gradient is requested.\n",
      "WARNING:absl:Importing a function (__inference__wrapped_model_722207) with ops with custom gradients. Will likely fail if a gradient is requested.\n",
      "WARNING:absl:Importing a function (__inference__wrapped_model_722207) with ops with custom gradients. Will likely fail if a gradient is requested.\n",
      "WARNING:absl:Importing a function (__inference__wrapped_model_722207) with ops with custom gradients. Will likely fail if a gradient is requested.\n",
      "WARNING:absl:Importing a function (__inference__wrapped_model_722207) with ops with custom gradients. Will likely fail if a gradient is requested.\n",
      "WARNING:absl:Importing a function (__inference__wrapped_model_722207) with ops with custom gradients. Will likely fail if a gradient is requested.\n",
      "WARNING:absl:Importing a function (__inference__wrapped_model_722207) with ops with custom gradients. Will likely fail if a gradient is requested.\n",
      "WARNING:absl:Importing a function (__inference__wrapped_model_722207) with ops with custom gradients. Will likely fail if a gradient is requested.\n",
      "WARNING:absl:Importing a function (__inference__wrapped_model_722207) with ops with custom gradients. Will likely fail if a gradient is requested.\n",
      "WARNING:absl:Importing a function (__inference__wrapped_model_722207) with ops with custom gradients. Will likely fail if a gradient is requested.\n",
      "WARNING:absl:Importing a function (__inference__wrapped_model_722207) with ops with custom gradients. Will likely fail if a gradient is requested.\n",
      "WARNING:absl:Importing a function (__inference__wrapped_model_722207) with ops with custom gradients. Will likely fail if a gradient is requested.\n",
      "WARNING:absl:Importing a function (__inference__wrapped_model_722207) with ops with custom gradients. Will likely fail if a gradient is requested.\n",
      "WARNING:absl:Importing a function (__inference__wrapped_model_722207) with ops with custom gradients. Will likely fail if a gradient is requested.\n",
      "WARNING:absl:Importing a function (__inference__wrapped_model_722207) with ops with custom gradients. Will likely fail if a gradient is requested.\n",
      "WARNING:absl:Importing a function (__inference__wrapped_model_722207) with ops with custom gradients. Will likely fail if a gradient is requested.\n",
      "WARNING:absl:Importing a function (__inference__wrapped_model_722207) with ops with custom gradients. Will likely fail if a gradient is requested.\n",
      "WARNING:absl:Importing a function (__inference__wrapped_model_722207) with ops with custom gradients. Will likely fail if a gradient is requested.\n",
      "WARNING:absl:Importing a function (__inference__wrapped_model_722207) with ops with custom gradients. Will likely fail if a gradient is requested.\n"
     ]
    },
    {
     "name": "stderr",
     "output_type": "stream",
     "text": [
      "WARNING:absl:Importing a function (__inference__wrapped_model_722207) with ops with custom gradients. Will likely fail if a gradient is requested.\n",
      "WARNING:absl:Importing a function (__inference__wrapped_model_722207) with ops with custom gradients. Will likely fail if a gradient is requested.\n",
      "WARNING:absl:Importing a function (__inference__wrapped_model_722207) with ops with custom gradients. Will likely fail if a gradient is requested.\n",
      "WARNING:absl:Importing a function (__inference__wrapped_model_722207) with ops with custom gradients. Will likely fail if a gradient is requested.\n",
      "WARNING:absl:Importing a function (__inference__wrapped_model_722207) with ops with custom gradients. Will likely fail if a gradient is requested.\n",
      "WARNING:absl:Importing a function (__inference__wrapped_model_722207) with ops with custom gradients. Will likely fail if a gradient is requested.\n",
      "WARNING:absl:Importing a function (__inference__wrapped_model_722207) with ops with custom gradients. Will likely fail if a gradient is requested.\n",
      "WARNING:absl:Importing a function (__inference__wrapped_model_722207) with ops with custom gradients. Will likely fail if a gradient is requested.\n",
      "WARNING:absl:Importing a function (__inference__wrapped_model_722207) with ops with custom gradients. Will likely fail if a gradient is requested.\n",
      "WARNING:absl:Importing a function (__inference__wrapped_model_722207) with ops with custom gradients. Will likely fail if a gradient is requested.\n",
      "WARNING:absl:Importing a function (__inference__wrapped_model_722207) with ops with custom gradients. Will likely fail if a gradient is requested.\n",
      "WARNING:absl:Importing a function (__inference__wrapped_model_722207) with ops with custom gradients. Will likely fail if a gradient is requested.\n",
      "WARNING:absl:Importing a function (__inference__wrapped_model_722207) with ops with custom gradients. Will likely fail if a gradient is requested.\n",
      "WARNING:absl:Importing a function (__inference__wrapped_model_722207) with ops with custom gradients. Will likely fail if a gradient is requested.\n",
      "WARNING:absl:Importing a function (__inference__wrapped_model_722207) with ops with custom gradients. Will likely fail if a gradient is requested.\n",
      "WARNING:absl:Importing a function (__inference__wrapped_model_722207) with ops with custom gradients. Will likely fail if a gradient is requested.\n",
      "WARNING:absl:Importing a function (__inference__wrapped_model_722207) with ops with custom gradients. Will likely fail if a gradient is requested.\n",
      "WARNING:absl:Importing a function (__inference__wrapped_model_722207) with ops with custom gradients. Will likely fail if a gradient is requested.\n",
      "WARNING:absl:Importing a function (__inference__wrapped_model_722207) with ops with custom gradients. Will likely fail if a gradient is requested.\n",
      "WARNING:absl:Importing a function (__inference__wrapped_model_722207) with ops with custom gradients. Will likely fail if a gradient is requested.\n",
      "WARNING:absl:Importing a function (__inference__wrapped_model_722207) with ops with custom gradients. Will likely fail if a gradient is requested.\n",
      "WARNING:absl:Importing a function (__inference__wrapped_model_722207) with ops with custom gradients. Will likely fail if a gradient is requested.\n",
      "WARNING:absl:Importing a function (__inference_EfficientNetB2_Oversampled_layer_call_and_return_conditional_losses_746441) with ops with custom gradients. Will likely fail if a gradient is requested.\n",
      "WARNING:absl:Importing a function (__inference_EfficientNetB2_Oversampled_layer_call_and_return_conditional_losses_746441) with ops with custom gradients. Will likely fail if a gradient is requested.\n",
      "WARNING:absl:Importing a function (__inference_EfficientNetB2_Oversampled_layer_call_and_return_conditional_losses_746441) with ops with custom gradients. Will likely fail if a gradient is requested.\n",
      "WARNING:absl:Importing a function (__inference_EfficientNetB2_Oversampled_layer_call_and_return_conditional_losses_746441) with ops with custom gradients. Will likely fail if a gradient is requested.\n",
      "WARNING:absl:Importing a function (__inference_EfficientNetB2_Oversampled_layer_call_and_return_conditional_losses_746441) with ops with custom gradients. Will likely fail if a gradient is requested.\n",
      "WARNING:absl:Importing a function (__inference_EfficientNetB2_Oversampled_layer_call_and_return_conditional_losses_746441) with ops with custom gradients. Will likely fail if a gradient is requested.\n",
      "WARNING:absl:Importing a function (__inference_EfficientNetB2_Oversampled_layer_call_and_return_conditional_losses_746441) with ops with custom gradients. Will likely fail if a gradient is requested.\n",
      "WARNING:absl:Importing a function (__inference_EfficientNetB2_Oversampled_layer_call_and_return_conditional_losses_746441) with ops with custom gradients. Will likely fail if a gradient is requested.\n",
      "WARNING:absl:Importing a function (__inference_EfficientNetB2_Oversampled_layer_call_and_return_conditional_losses_746441) with ops with custom gradients. Will likely fail if a gradient is requested.\n",
      "WARNING:absl:Importing a function (__inference_EfficientNetB2_Oversampled_layer_call_and_return_conditional_losses_746441) with ops with custom gradients. Will likely fail if a gradient is requested.\n",
      "WARNING:absl:Importing a function (__inference_EfficientNetB2_Oversampled_layer_call_and_return_conditional_losses_746441) with ops with custom gradients. Will likely fail if a gradient is requested.\n",
      "WARNING:absl:Importing a function (__inference_EfficientNetB2_Oversampled_layer_call_and_return_conditional_losses_746441) with ops with custom gradients. Will likely fail if a gradient is requested.\n",
      "WARNING:absl:Importing a function (__inference_EfficientNetB2_Oversampled_layer_call_and_return_conditional_losses_746441) with ops with custom gradients. Will likely fail if a gradient is requested.\n",
      "WARNING:absl:Importing a function (__inference_EfficientNetB2_Oversampled_layer_call_and_return_conditional_losses_746441) with ops with custom gradients. Will likely fail if a gradient is requested.\n",
      "WARNING:absl:Importing a function (__inference_EfficientNetB2_Oversampled_layer_call_and_return_conditional_losses_746441) with ops with custom gradients. Will likely fail if a gradient is requested.\n",
      "WARNING:absl:Importing a function (__inference_EfficientNetB2_Oversampled_layer_call_and_return_conditional_losses_746441) with ops with custom gradients. Will likely fail if a gradient is requested.\n",
      "WARNING:absl:Importing a function (__inference_EfficientNetB2_Oversampled_layer_call_and_return_conditional_losses_746441) with ops with custom gradients. Will likely fail if a gradient is requested.\n",
      "WARNING:absl:Importing a function (__inference_EfficientNetB2_Oversampled_layer_call_and_return_conditional_losses_746441) with ops with custom gradients. Will likely fail if a gradient is requested.\n",
      "WARNING:absl:Importing a function (__inference_EfficientNetB2_Oversampled_layer_call_and_return_conditional_losses_746441) with ops with custom gradients. Will likely fail if a gradient is requested.\n",
      "WARNING:absl:Importing a function (__inference_EfficientNetB2_Oversampled_layer_call_and_return_conditional_losses_746441) with ops with custom gradients. Will likely fail if a gradient is requested.\n",
      "WARNING:absl:Importing a function (__inference_EfficientNetB2_Oversampled_layer_call_and_return_conditional_losses_746441) with ops with custom gradients. Will likely fail if a gradient is requested.\n",
      "WARNING:absl:Importing a function (__inference_EfficientNetB2_Oversampled_layer_call_and_return_conditional_losses_746441) with ops with custom gradients. Will likely fail if a gradient is requested.\n",
      "WARNING:absl:Importing a function (__inference_EfficientNetB2_Oversampled_layer_call_and_return_conditional_losses_746441) with ops with custom gradients. Will likely fail if a gradient is requested.\n",
      "WARNING:absl:Importing a function (__inference_EfficientNetB2_Oversampled_layer_call_and_return_conditional_losses_746441) with ops with custom gradients. Will likely fail if a gradient is requested.\n",
      "WARNING:absl:Importing a function (__inference_EfficientNetB2_Oversampled_layer_call_and_return_conditional_losses_746441) with ops with custom gradients. Will likely fail if a gradient is requested.\n"
     ]
    },
    {
     "name": "stderr",
     "output_type": "stream",
     "text": [
      "WARNING:absl:Importing a function (__inference_EfficientNetB2_Oversampled_layer_call_and_return_conditional_losses_746441) with ops with custom gradients. Will likely fail if a gradient is requested.\n",
      "WARNING:absl:Importing a function (__inference_EfficientNetB2_Oversampled_layer_call_and_return_conditional_losses_746441) with ops with custom gradients. Will likely fail if a gradient is requested.\n",
      "WARNING:absl:Importing a function (__inference_EfficientNetB2_Oversampled_layer_call_and_return_conditional_losses_746441) with ops with custom gradients. Will likely fail if a gradient is requested.\n",
      "WARNING:absl:Importing a function (__inference_EfficientNetB2_Oversampled_layer_call_and_return_conditional_losses_746441) with ops with custom gradients. Will likely fail if a gradient is requested.\n",
      "WARNING:absl:Importing a function (__inference_EfficientNetB2_Oversampled_layer_call_and_return_conditional_losses_746441) with ops with custom gradients. Will likely fail if a gradient is requested.\n",
      "WARNING:absl:Importing a function (__inference_EfficientNetB2_Oversampled_layer_call_and_return_conditional_losses_746441) with ops with custom gradients. Will likely fail if a gradient is requested.\n",
      "WARNING:absl:Importing a function (__inference_EfficientNetB2_Oversampled_layer_call_and_return_conditional_losses_746441) with ops with custom gradients. Will likely fail if a gradient is requested.\n",
      "WARNING:absl:Importing a function (__inference_EfficientNetB2_Oversampled_layer_call_and_return_conditional_losses_746441) with ops with custom gradients. Will likely fail if a gradient is requested.\n",
      "WARNING:absl:Importing a function (__inference_EfficientNetB2_Oversampled_layer_call_and_return_conditional_losses_746441) with ops with custom gradients. Will likely fail if a gradient is requested.\n",
      "WARNING:absl:Importing a function (__inference_EfficientNetB2_Oversampled_layer_call_and_return_conditional_losses_746441) with ops with custom gradients. Will likely fail if a gradient is requested.\n",
      "WARNING:absl:Importing a function (__inference_EfficientNetB2_Oversampled_layer_call_and_return_conditional_losses_746441) with ops with custom gradients. Will likely fail if a gradient is requested.\n",
      "WARNING:absl:Importing a function (__inference_EfficientNetB2_Oversampled_layer_call_and_return_conditional_losses_746441) with ops with custom gradients. Will likely fail if a gradient is requested.\n",
      "WARNING:absl:Importing a function (__inference_EfficientNetB2_Oversampled_layer_call_and_return_conditional_losses_746441) with ops with custom gradients. Will likely fail if a gradient is requested.\n",
      "WARNING:absl:Importing a function (__inference_EfficientNetB2_Oversampled_layer_call_and_return_conditional_losses_746441) with ops with custom gradients. Will likely fail if a gradient is requested.\n",
      "WARNING:absl:Importing a function (__inference_EfficientNetB2_Oversampled_layer_call_and_return_conditional_losses_746441) with ops with custom gradients. Will likely fail if a gradient is requested.\n",
      "WARNING:absl:Importing a function (__inference_EfficientNetB2_Oversampled_layer_call_and_return_conditional_losses_746441) with ops with custom gradients. Will likely fail if a gradient is requested.\n",
      "WARNING:absl:Importing a function (__inference_EfficientNetB2_Oversampled_layer_call_and_return_conditional_losses_746441) with ops with custom gradients. Will likely fail if a gradient is requested.\n",
      "WARNING:absl:Importing a function (__inference_EfficientNetB2_Oversampled_layer_call_and_return_conditional_losses_746441) with ops with custom gradients. Will likely fail if a gradient is requested.\n",
      "WARNING:absl:Importing a function (__inference_EfficientNetB2_Oversampled_layer_call_and_return_conditional_losses_746441) with ops with custom gradients. Will likely fail if a gradient is requested.\n",
      "WARNING:absl:Importing a function (__inference_EfficientNetB2_Oversampled_layer_call_and_return_conditional_losses_746441) with ops with custom gradients. Will likely fail if a gradient is requested.\n",
      "WARNING:absl:Importing a function (__inference_EfficientNetB2_Oversampled_layer_call_and_return_conditional_losses_746441) with ops with custom gradients. Will likely fail if a gradient is requested.\n",
      "WARNING:absl:Importing a function (__inference_EfficientNetB2_Oversampled_layer_call_and_return_conditional_losses_746441) with ops with custom gradients. Will likely fail if a gradient is requested.\n",
      "WARNING:absl:Importing a function (__inference_EfficientNetB2_Oversampled_layer_call_and_return_conditional_losses_746441) with ops with custom gradients. Will likely fail if a gradient is requested.\n",
      "WARNING:absl:Importing a function (__inference_EfficientNetB2_Oversampled_layer_call_and_return_conditional_losses_746441) with ops with custom gradients. Will likely fail if a gradient is requested.\n",
      "WARNING:absl:Importing a function (__inference_EfficientNetB2_Oversampled_layer_call_and_return_conditional_losses_746441) with ops with custom gradients. Will likely fail if a gradient is requested.\n",
      "WARNING:absl:Importing a function (__inference_EfficientNetB2_Oversampled_layer_call_and_return_conditional_losses_746441) with ops with custom gradients. Will likely fail if a gradient is requested.\n",
      "WARNING:absl:Importing a function (__inference_EfficientNetB2_Oversampled_layer_call_and_return_conditional_losses_746441) with ops with custom gradients. Will likely fail if a gradient is requested.\n",
      "WARNING:absl:Importing a function (__inference_EfficientNetB2_Oversampled_layer_call_and_return_conditional_losses_746441) with ops with custom gradients. Will likely fail if a gradient is requested.\n",
      "WARNING:absl:Importing a function (__inference_EfficientNetB2_Oversampled_layer_call_and_return_conditional_losses_746441) with ops with custom gradients. Will likely fail if a gradient is requested.\n",
      "WARNING:absl:Importing a function (__inference_EfficientNetB2_Oversampled_layer_call_and_return_conditional_losses_746441) with ops with custom gradients. Will likely fail if a gradient is requested.\n",
      "WARNING:absl:Importing a function (__inference_EfficientNetB2_Oversampled_layer_call_and_return_conditional_losses_746441) with ops with custom gradients. Will likely fail if a gradient is requested.\n",
      "WARNING:absl:Importing a function (__inference_EfficientNetB2_Oversampled_layer_call_and_return_conditional_losses_746441) with ops with custom gradients. Will likely fail if a gradient is requested.\n",
      "WARNING:absl:Importing a function (__inference_EfficientNetB2_Oversampled_layer_call_and_return_conditional_losses_746441) with ops with custom gradients. Will likely fail if a gradient is requested.\n",
      "WARNING:absl:Importing a function (__inference_EfficientNetB2_Oversampled_layer_call_and_return_conditional_losses_746441) with ops with custom gradients. Will likely fail if a gradient is requested.\n",
      "WARNING:absl:Importing a function (__inference_EfficientNetB2_Oversampled_layer_call_and_return_conditional_losses_746441) with ops with custom gradients. Will likely fail if a gradient is requested.\n",
      "WARNING:absl:Importing a function (__inference_EfficientNetB2_Oversampled_layer_call_and_return_conditional_losses_746441) with ops with custom gradients. Will likely fail if a gradient is requested.\n",
      "WARNING:absl:Importing a function (__inference_EfficientNetB2_Oversampled_layer_call_and_return_conditional_losses_746441) with ops with custom gradients. Will likely fail if a gradient is requested.\n",
      "WARNING:absl:Importing a function (__inference_EfficientNetB2_Oversampled_layer_call_and_return_conditional_losses_746441) with ops with custom gradients. Will likely fail if a gradient is requested.\n",
      "WARNING:absl:Importing a function (__inference_EfficientNetB2_Oversampled_layer_call_and_return_conditional_losses_746441) with ops with custom gradients. Will likely fail if a gradient is requested.\n",
      "WARNING:absl:Importing a function (__inference_EfficientNetB2_Oversampled_layer_call_and_return_conditional_losses_746441) with ops with custom gradients. Will likely fail if a gradient is requested.\n",
      "WARNING:absl:Importing a function (__inference_EfficientNetB2_Oversampled_layer_call_and_return_conditional_losses_746441) with ops with custom gradients. Will likely fail if a gradient is requested.\n"
     ]
    },
    {
     "name": "stderr",
     "output_type": "stream",
     "text": [
      "WARNING:absl:Importing a function (__inference_EfficientNetB2_Oversampled_layer_call_and_return_conditional_losses_746441) with ops with custom gradients. Will likely fail if a gradient is requested.\n",
      "WARNING:absl:Importing a function (__inference_EfficientNetB2_Oversampled_layer_call_and_return_conditional_losses_746441) with ops with custom gradients. Will likely fail if a gradient is requested.\n",
      "WARNING:absl:Importing a function (__inference_EfficientNetB2_Oversampled_layer_call_and_return_conditional_losses_746441) with ops with custom gradients. Will likely fail if a gradient is requested.\n",
      "WARNING:absl:Importing a function (__inference_EfficientNetB2_Oversampled_layer_call_and_return_conditional_losses_748761) with ops with custom gradients. Will likely fail if a gradient is requested.\n",
      "WARNING:absl:Importing a function (__inference_EfficientNetB2_Oversampled_layer_call_and_return_conditional_losses_748761) with ops with custom gradients. Will likely fail if a gradient is requested.\n",
      "WARNING:absl:Importing a function (__inference_EfficientNetB2_Oversampled_layer_call_and_return_conditional_losses_748761) with ops with custom gradients. Will likely fail if a gradient is requested.\n",
      "WARNING:absl:Importing a function (__inference_EfficientNetB2_Oversampled_layer_call_and_return_conditional_losses_748761) with ops with custom gradients. Will likely fail if a gradient is requested.\n",
      "WARNING:absl:Importing a function (__inference_EfficientNetB2_Oversampled_layer_call_and_return_conditional_losses_748761) with ops with custom gradients. Will likely fail if a gradient is requested.\n",
      "WARNING:absl:Importing a function (__inference_EfficientNetB2_Oversampled_layer_call_and_return_conditional_losses_748761) with ops with custom gradients. Will likely fail if a gradient is requested.\n",
      "WARNING:absl:Importing a function (__inference_EfficientNetB2_Oversampled_layer_call_and_return_conditional_losses_748761) with ops with custom gradients. Will likely fail if a gradient is requested.\n",
      "WARNING:absl:Importing a function (__inference_EfficientNetB2_Oversampled_layer_call_and_return_conditional_losses_748761) with ops with custom gradients. Will likely fail if a gradient is requested.\n",
      "WARNING:absl:Importing a function (__inference_EfficientNetB2_Oversampled_layer_call_and_return_conditional_losses_748761) with ops with custom gradients. Will likely fail if a gradient is requested.\n",
      "WARNING:absl:Importing a function (__inference_EfficientNetB2_Oversampled_layer_call_and_return_conditional_losses_748761) with ops with custom gradients. Will likely fail if a gradient is requested.\n",
      "WARNING:absl:Importing a function (__inference_EfficientNetB2_Oversampled_layer_call_and_return_conditional_losses_748761) with ops with custom gradients. Will likely fail if a gradient is requested.\n",
      "WARNING:absl:Importing a function (__inference_EfficientNetB2_Oversampled_layer_call_and_return_conditional_losses_748761) with ops with custom gradients. Will likely fail if a gradient is requested.\n",
      "WARNING:absl:Importing a function (__inference_EfficientNetB2_Oversampled_layer_call_and_return_conditional_losses_748761) with ops with custom gradients. Will likely fail if a gradient is requested.\n",
      "WARNING:absl:Importing a function (__inference_EfficientNetB2_Oversampled_layer_call_and_return_conditional_losses_748761) with ops with custom gradients. Will likely fail if a gradient is requested.\n",
      "WARNING:absl:Importing a function (__inference_EfficientNetB2_Oversampled_layer_call_and_return_conditional_losses_748761) with ops with custom gradients. Will likely fail if a gradient is requested.\n",
      "WARNING:absl:Importing a function (__inference_EfficientNetB2_Oversampled_layer_call_and_return_conditional_losses_748761) with ops with custom gradients. Will likely fail if a gradient is requested.\n",
      "WARNING:absl:Importing a function (__inference_EfficientNetB2_Oversampled_layer_call_and_return_conditional_losses_748761) with ops with custom gradients. Will likely fail if a gradient is requested.\n",
      "WARNING:absl:Importing a function (__inference_EfficientNetB2_Oversampled_layer_call_and_return_conditional_losses_748761) with ops with custom gradients. Will likely fail if a gradient is requested.\n",
      "WARNING:absl:Importing a function (__inference_EfficientNetB2_Oversampled_layer_call_and_return_conditional_losses_748761) with ops with custom gradients. Will likely fail if a gradient is requested.\n",
      "WARNING:absl:Importing a function (__inference_EfficientNetB2_Oversampled_layer_call_and_return_conditional_losses_748761) with ops with custom gradients. Will likely fail if a gradient is requested.\n",
      "WARNING:absl:Importing a function (__inference_EfficientNetB2_Oversampled_layer_call_and_return_conditional_losses_748761) with ops with custom gradients. Will likely fail if a gradient is requested.\n",
      "WARNING:absl:Importing a function (__inference_EfficientNetB2_Oversampled_layer_call_and_return_conditional_losses_748761) with ops with custom gradients. Will likely fail if a gradient is requested.\n",
      "WARNING:absl:Importing a function (__inference_EfficientNetB2_Oversampled_layer_call_and_return_conditional_losses_748761) with ops with custom gradients. Will likely fail if a gradient is requested.\n",
      "WARNING:absl:Importing a function (__inference_EfficientNetB2_Oversampled_layer_call_and_return_conditional_losses_748761) with ops with custom gradients. Will likely fail if a gradient is requested.\n",
      "WARNING:absl:Importing a function (__inference_EfficientNetB2_Oversampled_layer_call_and_return_conditional_losses_748761) with ops with custom gradients. Will likely fail if a gradient is requested.\n",
      "WARNING:absl:Importing a function (__inference_EfficientNetB2_Oversampled_layer_call_and_return_conditional_losses_748761) with ops with custom gradients. Will likely fail if a gradient is requested.\n",
      "WARNING:absl:Importing a function (__inference_EfficientNetB2_Oversampled_layer_call_and_return_conditional_losses_748761) with ops with custom gradients. Will likely fail if a gradient is requested.\n",
      "WARNING:absl:Importing a function (__inference_EfficientNetB2_Oversampled_layer_call_and_return_conditional_losses_748761) with ops with custom gradients. Will likely fail if a gradient is requested.\n",
      "WARNING:absl:Importing a function (__inference_EfficientNetB2_Oversampled_layer_call_and_return_conditional_losses_748761) with ops with custom gradients. Will likely fail if a gradient is requested.\n",
      "WARNING:absl:Importing a function (__inference_EfficientNetB2_Oversampled_layer_call_and_return_conditional_losses_748761) with ops with custom gradients. Will likely fail if a gradient is requested.\n",
      "WARNING:absl:Importing a function (__inference_EfficientNetB2_Oversampled_layer_call_and_return_conditional_losses_748761) with ops with custom gradients. Will likely fail if a gradient is requested.\n",
      "WARNING:absl:Importing a function (__inference_EfficientNetB2_Oversampled_layer_call_and_return_conditional_losses_748761) with ops with custom gradients. Will likely fail if a gradient is requested.\n",
      "WARNING:absl:Importing a function (__inference_EfficientNetB2_Oversampled_layer_call_and_return_conditional_losses_748761) with ops with custom gradients. Will likely fail if a gradient is requested.\n",
      "WARNING:absl:Importing a function (__inference_EfficientNetB2_Oversampled_layer_call_and_return_conditional_losses_748761) with ops with custom gradients. Will likely fail if a gradient is requested.\n",
      "WARNING:absl:Importing a function (__inference_EfficientNetB2_Oversampled_layer_call_and_return_conditional_losses_748761) with ops with custom gradients. Will likely fail if a gradient is requested.\n",
      "WARNING:absl:Importing a function (__inference_EfficientNetB2_Oversampled_layer_call_and_return_conditional_losses_748761) with ops with custom gradients. Will likely fail if a gradient is requested.\n",
      "WARNING:absl:Importing a function (__inference_EfficientNetB2_Oversampled_layer_call_and_return_conditional_losses_748761) with ops with custom gradients. Will likely fail if a gradient is requested.\n",
      "WARNING:absl:Importing a function (__inference_EfficientNetB2_Oversampled_layer_call_and_return_conditional_losses_748761) with ops with custom gradients. Will likely fail if a gradient is requested.\n"
     ]
    },
    {
     "name": "stderr",
     "output_type": "stream",
     "text": [
      "WARNING:absl:Importing a function (__inference_EfficientNetB2_Oversampled_layer_call_and_return_conditional_losses_748761) with ops with custom gradients. Will likely fail if a gradient is requested.\n",
      "WARNING:absl:Importing a function (__inference_EfficientNetB2_Oversampled_layer_call_and_return_conditional_losses_748761) with ops with custom gradients. Will likely fail if a gradient is requested.\n",
      "WARNING:absl:Importing a function (__inference_EfficientNetB2_Oversampled_layer_call_and_return_conditional_losses_748761) with ops with custom gradients. Will likely fail if a gradient is requested.\n",
      "WARNING:absl:Importing a function (__inference_EfficientNetB2_Oversampled_layer_call_and_return_conditional_losses_748761) with ops with custom gradients. Will likely fail if a gradient is requested.\n",
      "WARNING:absl:Importing a function (__inference_EfficientNetB2_Oversampled_layer_call_and_return_conditional_losses_748761) with ops with custom gradients. Will likely fail if a gradient is requested.\n",
      "WARNING:absl:Importing a function (__inference_EfficientNetB2_Oversampled_layer_call_and_return_conditional_losses_748761) with ops with custom gradients. Will likely fail if a gradient is requested.\n",
      "WARNING:absl:Importing a function (__inference_EfficientNetB2_Oversampled_layer_call_and_return_conditional_losses_748761) with ops with custom gradients. Will likely fail if a gradient is requested.\n",
      "WARNING:absl:Importing a function (__inference_EfficientNetB2_Oversampled_layer_call_and_return_conditional_losses_748761) with ops with custom gradients. Will likely fail if a gradient is requested.\n",
      "WARNING:absl:Importing a function (__inference_EfficientNetB2_Oversampled_layer_call_and_return_conditional_losses_748761) with ops with custom gradients. Will likely fail if a gradient is requested.\n",
      "WARNING:absl:Importing a function (__inference_EfficientNetB2_Oversampled_layer_call_and_return_conditional_losses_748761) with ops with custom gradients. Will likely fail if a gradient is requested.\n",
      "WARNING:absl:Importing a function (__inference_EfficientNetB2_Oversampled_layer_call_and_return_conditional_losses_748761) with ops with custom gradients. Will likely fail if a gradient is requested.\n",
      "WARNING:absl:Importing a function (__inference_EfficientNetB2_Oversampled_layer_call_and_return_conditional_losses_748761) with ops with custom gradients. Will likely fail if a gradient is requested.\n",
      "WARNING:absl:Importing a function (__inference_EfficientNetB2_Oversampled_layer_call_and_return_conditional_losses_748761) with ops with custom gradients. Will likely fail if a gradient is requested.\n",
      "WARNING:absl:Importing a function (__inference_EfficientNetB2_Oversampled_layer_call_and_return_conditional_losses_748761) with ops with custom gradients. Will likely fail if a gradient is requested.\n",
      "WARNING:absl:Importing a function (__inference_EfficientNetB2_Oversampled_layer_call_and_return_conditional_losses_748761) with ops with custom gradients. Will likely fail if a gradient is requested.\n",
      "WARNING:absl:Importing a function (__inference_EfficientNetB2_Oversampled_layer_call_and_return_conditional_losses_748761) with ops with custom gradients. Will likely fail if a gradient is requested.\n",
      "WARNING:absl:Importing a function (__inference_EfficientNetB2_Oversampled_layer_call_and_return_conditional_losses_748761) with ops with custom gradients. Will likely fail if a gradient is requested.\n",
      "WARNING:absl:Importing a function (__inference_EfficientNetB2_Oversampled_layer_call_and_return_conditional_losses_748761) with ops with custom gradients. Will likely fail if a gradient is requested.\n",
      "WARNING:absl:Importing a function (__inference_EfficientNetB2_Oversampled_layer_call_and_return_conditional_losses_748761) with ops with custom gradients. Will likely fail if a gradient is requested.\n",
      "WARNING:absl:Importing a function (__inference_EfficientNetB2_Oversampled_layer_call_and_return_conditional_losses_748761) with ops with custom gradients. Will likely fail if a gradient is requested.\n",
      "WARNING:absl:Importing a function (__inference_EfficientNetB2_Oversampled_layer_call_and_return_conditional_losses_748761) with ops with custom gradients. Will likely fail if a gradient is requested.\n",
      "WARNING:absl:Importing a function (__inference_EfficientNetB2_Oversampled_layer_call_and_return_conditional_losses_748761) with ops with custom gradients. Will likely fail if a gradient is requested.\n",
      "WARNING:absl:Importing a function (__inference_EfficientNetB2_Oversampled_layer_call_and_return_conditional_losses_748761) with ops with custom gradients. Will likely fail if a gradient is requested.\n",
      "WARNING:absl:Importing a function (__inference_EfficientNetB2_Oversampled_layer_call_and_return_conditional_losses_748761) with ops with custom gradients. Will likely fail if a gradient is requested.\n",
      "WARNING:absl:Importing a function (__inference_EfficientNetB2_Oversampled_layer_call_and_return_conditional_losses_748761) with ops with custom gradients. Will likely fail if a gradient is requested.\n",
      "WARNING:absl:Importing a function (__inference_EfficientNetB2_Oversampled_layer_call_and_return_conditional_losses_748761) with ops with custom gradients. Will likely fail if a gradient is requested.\n",
      "WARNING:absl:Importing a function (__inference_EfficientNetB2_Oversampled_layer_call_and_return_conditional_losses_748761) with ops with custom gradients. Will likely fail if a gradient is requested.\n",
      "WARNING:absl:Importing a function (__inference_EfficientNetB2_Oversampled_layer_call_and_return_conditional_losses_748761) with ops with custom gradients. Will likely fail if a gradient is requested.\n",
      "WARNING:absl:Importing a function (__inference_EfficientNetB2_Oversampled_layer_call_and_return_conditional_losses_748761) with ops with custom gradients. Will likely fail if a gradient is requested.\n",
      "WARNING:absl:Importing a function (__inference_EfficientNetB2_Oversampled_layer_call_and_return_conditional_losses_748761) with ops with custom gradients. Will likely fail if a gradient is requested.\n",
      "WARNING:absl:Importing a function (__inference_EfficientNetB2_Oversampled_layer_call_and_return_conditional_losses_748761) with ops with custom gradients. Will likely fail if a gradient is requested.\n",
      "WARNING:absl:Importing a function (__inference_block7b_activation_layer_call_and_return_conditional_losses_737045) with ops with custom gradients. Will likely fail if a gradient is requested.\n",
      "WARNING:absl:Importing a function (__inference_block5b_se_reduce_layer_call_and_return_conditional_losses_755199) with ops with custom gradients. Will likely fail if a gradient is requested.\n",
      "WARNING:absl:Importing a function (__inference_block2c_se_reduce_layer_call_and_return_conditional_losses_752037) with ops with custom gradients. Will likely fail if a gradient is requested.\n",
      "WARNING:absl:Importing a function (__inference_block3b_se_reduce_layer_call_and_return_conditional_losses_752724) with ops with custom gradients. Will likely fail if a gradient is requested.\n",
      "WARNING:absl:Importing a function (__inference_block6c_activation_layer_call_and_return_conditional_losses_735770) with ops with custom gradients. Will likely fail if a gradient is requested.\n",
      "WARNING:absl:Importing a function (__inference_block5b_se_reduce_layer_call_and_return_conditional_losses_734209) with ops with custom gradients. Will likely fail if a gradient is requested.\n",
      "WARNING:absl:Importing a function (__inference_block5b_activation_layer_call_and_return_conditional_losses_734162) with ops with custom gradients. Will likely fail if a gradient is requested.\n",
      "WARNING:absl:Importing a function (__inference_block6c_activation_layer_call_and_return_conditional_losses_756947) with ops with custom gradients. Will likely fail if a gradient is requested.\n",
      "WARNING:absl:Importing a function (__inference_block4c_se_reduce_layer_call_and_return_conditional_losses_733266) with ops with custom gradients. Will likely fail if a gradient is requested.\n",
      "WARNING:absl:Importing a function (__inference_block6b_expand_activation_layer_call_and_return_conditional_losses_735382) with ops with custom gradients. Will likely fail if a gradient is requested.\n",
      "WARNING:absl:Importing a function (__inference_block6a_expand_activation_layer_call_and_return_conditional_losses_756183) with ops with custom gradients. Will likely fail if a gradient is requested.\n"
     ]
    },
    {
     "name": "stderr",
     "output_type": "stream",
     "text": [
      "WARNING:absl:Importing a function (__inference_block6d_expand_activation_layer_call_and_return_conditional_losses_736046) with ops with custom gradients. Will likely fail if a gradient is requested.\n",
      "WARNING:absl:Importing a function (__inference_block3c_se_reduce_layer_call_and_return_conditional_losses_732322) with ops with custom gradients. Will likely fail if a gradient is requested.\n",
      "WARNING:absl:Importing a function (__inference_block2a_activation_layer_call_and_return_conditional_losses_751310) with ops with custom gradients. Will likely fail if a gradient is requested.\n",
      "WARNING:absl:Importing a function (__inference_block3c_activation_layer_call_and_return_conditional_losses_753051) with ops with custom gradients. Will likely fail if a gradient is requested.\n",
      "WARNING:absl:Importing a function (__inference_block3a_expand_activation_layer_call_and_return_conditional_losses_752287) with ops with custom gradients. Will likely fail if a gradient is requested.\n",
      "WARNING:absl:Importing a function (__inference_stem_activation_layer_call_and_return_conditional_losses_730124) with ops with custom gradients. Will likely fail if a gradient is requested.\n",
      "WARNING:absl:Importing a function (__inference_block1a_se_reduce_layer_call_and_return_conditional_losses_750754) with ops with custom gradients. Will likely fail if a gradient is requested.\n",
      "WARNING:absl:Importing a function (__inference_block4a_se_reduce_layer_call_and_return_conditional_losses_753458) with ops with custom gradients. Will likely fail if a gradient is requested.\n",
      "WARNING:absl:Importing a function (__inference_block5c_activation_layer_call_and_return_conditional_losses_755526) with ops with custom gradients. Will likely fail if a gradient is requested.\n",
      "WARNING:absl:Importing a function (__inference_block2c_activation_layer_call_and_return_conditional_losses_731331) with ops with custom gradients. Will likely fail if a gradient is requested.\n",
      "WARNING:absl:Importing a function (__inference_block5d_expand_activation_layer_call_and_return_conditional_losses_755816) with ops with custom gradients. Will likely fail if a gradient is requested.\n",
      "WARNING:absl:Importing a function (__inference_block5a_se_reduce_layer_call_and_return_conditional_losses_733930) with ops with custom gradients. Will likely fail if a gradient is requested.\n",
      "WARNING:absl:Importing a function (__inference_block3b_activation_layer_call_and_return_conditional_losses_752684) with ops with custom gradients. Will likely fail if a gradient is requested.\n",
      "WARNING:absl:Importing a function (__inference_block3b_expand_activation_layer_call_and_return_conditional_losses_752607) with ops with custom gradients. Will likely fail if a gradient is requested.\n",
      "WARNING:absl:Importing a function (__inference_block1a_activation_layer_call_and_return_conditional_losses_750714) with ops with custom gradients. Will likely fail if a gradient is requested.\n",
      "WARNING:absl:Importing a function (__inference_block6b_expand_activation_layer_call_and_return_conditional_losses_756503) with ops with custom gradients. Will likely fail if a gradient is requested.\n",
      "WARNING:absl:Importing a function (__inference_block4a_activation_layer_call_and_return_conditional_losses_753418) with ops with custom gradients. Will likely fail if a gradient is requested.\n",
      "WARNING:absl:Importing a function (__inference_block2b_se_reduce_layer_call_and_return_conditional_losses_751670) with ops with custom gradients. Will likely fail if a gradient is requested.\n",
      "WARNING:absl:Importing a function (__inference_block6e_expand_activation_layer_call_and_return_conditional_losses_757604) with ops with custom gradients. Will likely fail if a gradient is requested.\n",
      "WARNING:absl:Importing a function (__inference_block2b_activation_layer_call_and_return_conditional_losses_730999) with ops with custom gradients. Will likely fail if a gradient is requested.\n",
      "WARNING:absl:Importing a function (__inference_stem_activation_layer_call_and_return_conditional_losses_750637) with ops with custom gradients. Will likely fail if a gradient is requested.\n",
      "WARNING:absl:Importing a function (__inference_block4a_se_reduce_layer_call_and_return_conditional_losses_732655) with ops with custom gradients. Will likely fail if a gradient is requested.\n",
      "WARNING:absl:Importing a function (__inference_block4b_activation_layer_call_and_return_conditional_losses_732887) with ops with custom gradients. Will likely fail if a gradient is requested.\n",
      "WARNING:absl:Importing a function (__inference_block4c_activation_layer_call_and_return_conditional_losses_754105) with ops with custom gradients. Will likely fail if a gradient is requested.\n",
      "WARNING:absl:Importing a function (__inference_top_activation_layer_call_and_return_conditional_losses_758658) with ops with custom gradients. Will likely fail if a gradient is requested.\n",
      "WARNING:absl:Importing a function (__inference_block6b_activation_layer_call_and_return_conditional_losses_735438) with ops with custom gradients. Will likely fail if a gradient is requested.\n",
      "WARNING:absl:Importing a function (__inference_block5a_expand_activation_layer_call_and_return_conditional_losses_754762) with ops with custom gradients. Will likely fail if a gradient is requested.\n",
      "WARNING:absl:Importing a function (__inference_block4c_activation_layer_call_and_return_conditional_losses_733219) with ops with custom gradients. Will likely fail if a gradient is requested.\n",
      "WARNING:absl:Importing a function (__inference_block4b_expand_activation_layer_call_and_return_conditional_losses_753661) with ops with custom gradients. Will likely fail if a gradient is requested.\n",
      "WARNING:absl:Importing a function (__inference_block7b_se_reduce_layer_call_and_return_conditional_losses_737092) with ops with custom gradients. Will likely fail if a gradient is requested.\n",
      "WARNING:absl:Importing a function (__inference_block6a_activation_layer_call_and_return_conditional_losses_756260) with ops with custom gradients. Will likely fail if a gradient is requested.\n",
      "WARNING:absl:Importing a function (__inference_block6e_se_reduce_layer_call_and_return_conditional_losses_757721) with ops with custom gradients. Will likely fail if a gradient is requested.\n",
      "WARNING:absl:Importing a function (__inference_block5c_activation_layer_call_and_return_conditional_losses_734494) with ops with custom gradients. Will likely fail if a gradient is requested.\n",
      "WARNING:absl:Importing a function (__inference_block2a_expand_activation_layer_call_and_return_conditional_losses_730663) with ops with custom gradients. Will likely fail if a gradient is requested.\n",
      "WARNING:absl:Importing a function (__inference_block6b_se_reduce_layer_call_and_return_conditional_losses_735485) with ops with custom gradients. Will likely fail if a gradient is requested.\n",
      "WARNING:absl:Importing a function (__inference_block7b_expand_activation_layer_call_and_return_conditional_losses_758291) with ops with custom gradients. Will likely fail if a gradient is requested.\n",
      "WARNING:absl:Importing a function (__inference_block7a_se_reduce_layer_call_and_return_conditional_losses_758088) with ops with custom gradients. Will likely fail if a gradient is requested.\n",
      "WARNING:absl:Importing a function (__inference_block5b_expand_activation_layer_call_and_return_conditional_losses_755082) with ops with custom gradients. Will likely fail if a gradient is requested.\n",
      "WARNING:absl:Importing a function (__inference_block2b_expand_activation_layer_call_and_return_conditional_losses_730943) with ops with custom gradients. Will likely fail if a gradient is requested.\n",
      "WARNING:absl:Importing a function (__inference_block7b_activation_layer_call_and_return_conditional_losses_758368) with ops with custom gradients. Will likely fail if a gradient is requested.\n",
      "WARNING:absl:Importing a function (__inference_block6a_expand_activation_layer_call_and_return_conditional_losses_735102) with ops with custom gradients. Will likely fail if a gradient is requested.\n",
      "WARNING:absl:Importing a function (__inference_block4d_se_reduce_layer_call_and_return_conditional_losses_733598) with ops with custom gradients. Will likely fail if a gradient is requested.\n",
      "WARNING:absl:Importing a function (__inference_block4d_se_reduce_layer_call_and_return_conditional_losses_754512) with ops with custom gradients. Will likely fail if a gradient is requested.\n"
     ]
    },
    {
     "name": "stderr",
     "output_type": "stream",
     "text": [
      "WARNING:absl:Importing a function (__inference_block4d_expand_activation_layer_call_and_return_conditional_losses_733495) with ops with custom gradients. Will likely fail if a gradient is requested.\n",
      "WARNING:absl:Importing a function (__inference_block6d_expand_activation_layer_call_and_return_conditional_losses_757237) with ops with custom gradients. Will likely fail if a gradient is requested.\n",
      "WARNING:absl:Importing a function (__inference_block5d_expand_activation_layer_call_and_return_conditional_losses_734770) with ops with custom gradients. Will likely fail if a gradient is requested.\n",
      "WARNING:absl:Importing a function (__inference_block6c_se_reduce_layer_call_and_return_conditional_losses_756987) with ops with custom gradients. Will likely fail if a gradient is requested.\n",
      "WARNING:absl:Importing a function (__inference_block3c_expand_activation_layer_call_and_return_conditional_losses_732219) with ops with custom gradients. Will likely fail if a gradient is requested.\n",
      "WARNING:absl:Importing a function (__inference_block2b_se_reduce_layer_call_and_return_conditional_losses_731046) with ops with custom gradients. Will likely fail if a gradient is requested.\n",
      "WARNING:absl:Importing a function (__inference_block4a_expand_activation_layer_call_and_return_conditional_losses_753341) with ops with custom gradients. Will likely fail if a gradient is requested.\n",
      "WARNING:absl:Importing a function (__inference_block3c_activation_layer_call_and_return_conditional_losses_732275) with ops with custom gradients. Will likely fail if a gradient is requested.\n",
      "WARNING:absl:Importing a function (__inference_block4c_se_reduce_layer_call_and_return_conditional_losses_754145) with ops with custom gradients. Will likely fail if a gradient is requested.\n",
      "WARNING:absl:Importing a function (__inference_block5d_se_reduce_layer_call_and_return_conditional_losses_755933) with ops with custom gradients. Will likely fail if a gradient is requested.\n",
      "WARNING:absl:Importing a function (__inference_block5c_se_reduce_layer_call_and_return_conditional_losses_734541) with ops with custom gradients. Will likely fail if a gradient is requested.\n",
      "WARNING:absl:Importing a function (__inference_block7a_expand_activation_layer_call_and_return_conditional_losses_736710) with ops with custom gradients. Will likely fail if a gradient is requested.\n",
      "WARNING:absl:Importing a function (__inference_block6d_se_reduce_layer_call_and_return_conditional_losses_736149) with ops with custom gradients. Will likely fail if a gradient is requested.\n",
      "WARNING:absl:Importing a function (__inference_block2c_expand_activation_layer_call_and_return_conditional_losses_751920) with ops with custom gradients. Will likely fail if a gradient is requested.\n",
      "WARNING:absl:Importing a function (__inference_block5d_activation_layer_call_and_return_conditional_losses_755893) with ops with custom gradients. Will likely fail if a gradient is requested.\n",
      "WARNING:absl:Importing a function (__inference_block3a_expand_activation_layer_call_and_return_conditional_losses_731607) with ops with custom gradients. Will likely fail if a gradient is requested.\n",
      "WARNING:absl:Importing a function (__inference_block6c_expand_activation_layer_call_and_return_conditional_losses_756870) with ops with custom gradients. Will likely fail if a gradient is requested.\n",
      "WARNING:absl:Importing a function (__inference_block2b_activation_layer_call_and_return_conditional_losses_751630) with ops with custom gradients. Will likely fail if a gradient is requested.\n",
      "WARNING:absl:Importing a function (__inference_block5a_activation_layer_call_and_return_conditional_losses_733883) with ops with custom gradients. Will likely fail if a gradient is requested.\n",
      "WARNING:absl:Importing a function (__inference_block2c_se_reduce_layer_call_and_return_conditional_losses_731378) with ops with custom gradients. Will likely fail if a gradient is requested.\n",
      "WARNING:absl:Importing a function (__inference_block6c_expand_activation_layer_call_and_return_conditional_losses_735714) with ops with custom gradients. Will likely fail if a gradient is requested.\n",
      "WARNING:absl:Importing a function (__inference_block4a_expand_activation_layer_call_and_return_conditional_losses_732551) with ops with custom gradients. Will likely fail if a gradient is requested.\n",
      "WARNING:absl:Importing a function (__inference_block1b_se_reduce_layer_call_and_return_conditional_losses_750983) with ops with custom gradients. Will likely fail if a gradient is requested.\n",
      "WARNING:absl:Importing a function (__inference_block5c_se_reduce_layer_call_and_return_conditional_losses_755566) with ops with custom gradients. Will likely fail if a gradient is requested.\n",
      "WARNING:absl:Importing a function (__inference_block1b_activation_layer_call_and_return_conditional_losses_750943) with ops with custom gradients. Will likely fail if a gradient is requested.\n",
      "WARNING:absl:Importing a function (__inference_block6b_se_reduce_layer_call_and_return_conditional_losses_756620) with ops with custom gradients. Will likely fail if a gradient is requested.\n",
      "WARNING:absl:Importing a function (__inference_block5b_activation_layer_call_and_return_conditional_losses_755159) with ops with custom gradients. Will likely fail if a gradient is requested.\n",
      "WARNING:absl:Importing a function (__inference_block2a_se_reduce_layer_call_and_return_conditional_losses_751350) with ops with custom gradients. Will likely fail if a gradient is requested.\n",
      "WARNING:absl:Importing a function (__inference_block5c_expand_activation_layer_call_and_return_conditional_losses_755449) with ops with custom gradients. Will likely fail if a gradient is requested.\n",
      "WARNING:absl:Importing a function (__inference_block2a_expand_activation_layer_call_and_return_conditional_losses_751233) with ops with custom gradients. Will likely fail if a gradient is requested.\n",
      "WARNING:absl:Importing a function (__inference_block6e_activation_layer_call_and_return_conditional_losses_757681) with ops with custom gradients. Will likely fail if a gradient is requested.\n",
      "WARNING:absl:Importing a function (__inference_block4c_expand_activation_layer_call_and_return_conditional_losses_754028) with ops with custom gradients. Will likely fail if a gradient is requested.\n",
      "WARNING:absl:Importing a function (__inference_block6a_se_reduce_layer_call_and_return_conditional_losses_756300) with ops with custom gradients. Will likely fail if a gradient is requested.\n",
      "WARNING:absl:Importing a function (__inference_block6c_se_reduce_layer_call_and_return_conditional_losses_735817) with ops with custom gradients. Will likely fail if a gradient is requested.\n",
      "WARNING:absl:Importing a function (__inference_block6a_se_reduce_layer_call_and_return_conditional_losses_735206) with ops with custom gradients. Will likely fail if a gradient is requested.\n",
      "WARNING:absl:Importing a function (__inference_block2c_expand_activation_layer_call_and_return_conditional_losses_731275) with ops with custom gradients. Will likely fail if a gradient is requested.\n",
      "WARNING:absl:Importing a function (__inference_block7a_activation_layer_call_and_return_conditional_losses_758048) with ops with custom gradients. Will likely fail if a gradient is requested.\n",
      "WARNING:absl:Importing a function (__inference_block1a_se_reduce_layer_call_and_return_conditional_losses_730227) with ops with custom gradients. Will likely fail if a gradient is requested.\n",
      "WARNING:absl:Importing a function (__inference_block6e_activation_layer_call_and_return_conditional_losses_736434) with ops with custom gradients. Will likely fail if a gradient is requested.\n",
      "WARNING:absl:Importing a function (__inference_block1b_activation_layer_call_and_return_conditional_losses_730387) with ops with custom gradients. Will likely fail if a gradient is requested.\n",
      "WARNING:absl:Importing a function (__inference_block6b_activation_layer_call_and_return_conditional_losses_756580) with ops with custom gradients. Will likely fail if a gradient is requested.\n",
      "WARNING:absl:Importing a function (__inference_block5a_se_reduce_layer_call_and_return_conditional_losses_754879) with ops with custom gradients. Will likely fail if a gradient is requested.\n",
      "WARNING:absl:Importing a function (__inference_block4b_expand_activation_layer_call_and_return_conditional_losses_732831) with ops with custom gradients. Will likely fail if a gradient is requested.\n"
     ]
    },
    {
     "name": "stderr",
     "output_type": "stream",
     "text": [
      "WARNING:absl:Importing a function (__inference_block5a_activation_layer_call_and_return_conditional_losses_754839) with ops with custom gradients. Will likely fail if a gradient is requested.\n",
      "WARNING:absl:Importing a function (__inference_block6d_se_reduce_layer_call_and_return_conditional_losses_757354) with ops with custom gradients. Will likely fail if a gradient is requested.\n",
      "WARNING:absl:Importing a function (__inference_block2a_activation_layer_call_and_return_conditional_losses_730720) with ops with custom gradients. Will likely fail if a gradient is requested.\n",
      "WARNING:absl:Importing a function (__inference_block3a_activation_layer_call_and_return_conditional_losses_752364) with ops with custom gradients. Will likely fail if a gradient is requested.\n",
      "WARNING:absl:Importing a function (__inference_block1a_activation_layer_call_and_return_conditional_losses_730180) with ops with custom gradients. Will likely fail if a gradient is requested.\n",
      "WARNING:absl:Importing a function (__inference_block2b_expand_activation_layer_call_and_return_conditional_losses_751553) with ops with custom gradients. Will likely fail if a gradient is requested.\n",
      "WARNING:absl:Importing a function (__inference_block5b_expand_activation_layer_call_and_return_conditional_losses_734106) with ops with custom gradients. Will likely fail if a gradient is requested.\n",
      "WARNING:absl:Importing a function (__inference_block3a_se_reduce_layer_call_and_return_conditional_losses_752404) with ops with custom gradients. Will likely fail if a gradient is requested.\n",
      "WARNING:absl:Importing a function (__inference_block7a_se_reduce_layer_call_and_return_conditional_losses_736813) with ops with custom gradients. Will likely fail if a gradient is requested.\n",
      "WARNING:absl:Importing a function (__inference_block1b_se_reduce_layer_call_and_return_conditional_losses_730434) with ops with custom gradients. Will likely fail if a gradient is requested.\n",
      "WARNING:absl:Importing a function (__inference_block5d_activation_layer_call_and_return_conditional_losses_734826) with ops with custom gradients. Will likely fail if a gradient is requested.\n",
      "WARNING:absl:Importing a function (__inference_block4d_activation_layer_call_and_return_conditional_losses_733551) with ops with custom gradients. Will likely fail if a gradient is requested.\n",
      "WARNING:absl:Importing a function (__inference_block4d_expand_activation_layer_call_and_return_conditional_losses_754395) with ops with custom gradients. Will likely fail if a gradient is requested.\n",
      "WARNING:absl:Importing a function (__inference_top_activation_layer_call_and_return_conditional_losses_737321) with ops with custom gradients. Will likely fail if a gradient is requested.\n",
      "WARNING:absl:Importing a function (__inference_block2a_se_reduce_layer_call_and_return_conditional_losses_730767) with ops with custom gradients. Will likely fail if a gradient is requested.\n",
      "WARNING:absl:Importing a function (__inference_block6a_activation_layer_call_and_return_conditional_losses_735159) with ops with custom gradients. Will likely fail if a gradient is requested.\n",
      "WARNING:absl:Importing a function (__inference_block4c_expand_activation_layer_call_and_return_conditional_losses_733163) with ops with custom gradients. Will likely fail if a gradient is requested.\n",
      "WARNING:absl:Importing a function (__inference_block4a_activation_layer_call_and_return_conditional_losses_732608) with ops with custom gradients. Will likely fail if a gradient is requested.\n",
      "WARNING:absl:Importing a function (__inference_block5c_expand_activation_layer_call_and_return_conditional_losses_734438) with ops with custom gradients. Will likely fail if a gradient is requested.\n",
      "WARNING:absl:Importing a function (__inference_block4b_se_reduce_layer_call_and_return_conditional_losses_753778) with ops with custom gradients. Will likely fail if a gradient is requested.\n",
      "WARNING:absl:Importing a function (__inference_block3a_se_reduce_layer_call_and_return_conditional_losses_731711) with ops with custom gradients. Will likely fail if a gradient is requested.\n",
      "WARNING:absl:Importing a function (__inference_block2c_activation_layer_call_and_return_conditional_losses_751997) with ops with custom gradients. Will likely fail if a gradient is requested.\n",
      "WARNING:absl:Importing a function (__inference_block3b_se_reduce_layer_call_and_return_conditional_losses_731990) with ops with custom gradients. Will likely fail if a gradient is requested.\n",
      "WARNING:absl:Importing a function (__inference_block3c_expand_activation_layer_call_and_return_conditional_losses_752974) with ops with custom gradients. Will likely fail if a gradient is requested.\n",
      "WARNING:absl:Importing a function (__inference_block3b_activation_layer_call_and_return_conditional_losses_731943) with ops with custom gradients. Will likely fail if a gradient is requested.\n",
      "WARNING:absl:Importing a function (__inference_block6e_se_reduce_layer_call_and_return_conditional_losses_736481) with ops with custom gradients. Will likely fail if a gradient is requested.\n",
      "WARNING:absl:Importing a function (__inference_block5a_expand_activation_layer_call_and_return_conditional_losses_733827) with ops with custom gradients. Will likely fail if a gradient is requested.\n",
      "WARNING:absl:Importing a function (__inference_block3a_activation_layer_call_and_return_conditional_losses_731664) with ops with custom gradients. Will likely fail if a gradient is requested.\n",
      "WARNING:absl:Importing a function (__inference_block7a_expand_activation_layer_call_and_return_conditional_losses_757971) with ops with custom gradients. Will likely fail if a gradient is requested.\n",
      "WARNING:absl:Importing a function (__inference_block3b_expand_activation_layer_call_and_return_conditional_losses_731887) with ops with custom gradients. Will likely fail if a gradient is requested.\n",
      "WARNING:absl:Importing a function (__inference_block4d_activation_layer_call_and_return_conditional_losses_754472) with ops with custom gradients. Will likely fail if a gradient is requested.\n",
      "WARNING:absl:Importing a function (__inference_block3c_se_reduce_layer_call_and_return_conditional_losses_753091) with ops with custom gradients. Will likely fail if a gradient is requested.\n",
      "WARNING:absl:Importing a function (__inference_block4b_activation_layer_call_and_return_conditional_losses_753738) with ops with custom gradients. Will likely fail if a gradient is requested.\n",
      "WARNING:absl:Importing a function (__inference_block7b_se_reduce_layer_call_and_return_conditional_losses_758408) with ops with custom gradients. Will likely fail if a gradient is requested.\n"
     ]
    }
   ],
   "source": [
    "# Load FULL model\n",
    "model = keras.models.load_model(\n",
    "    \"./models/oversampled/effNetB2_oversTop40\")"
   ]
  },
  {
   "cell_type": "code",
   "execution_count": 16,
   "metadata": {
    "executionInfo": {
     "elapsed": 6,
     "status": "ok",
     "timestamp": 1635513190885,
     "user": {
      "displayName": "Pedro Torres",
      "photoUrl": "https://lh3.googleusercontent.com/a-/AOh14GiOC_XQxtwkufSV38J42QN0teV5PKC9LlYXQ2mCEA=s64",
      "userId": "01891466493932664969"
     },
     "user_tz": 180
    },
    "id": "Y4R7CRRDtcXu"
   },
   "outputs": [],
   "source": [
    "# Save whole model based on validation loss\n",
    "checkpoint = tf.keras.callbacks.ModelCheckpoint(\n",
    "    \"./models/oversampled/effNetB2_oversTop{epoch:02d}\",\n",
    "    monitor='val_loss', verbose=1, save_best_only=True,\n",
    "    save_weights_only=False, mode='min')\n",
    "\n",
    "# Save model's history to '.csv' file\n",
    "csv_logger = tf.keras.callbacks.CSVLogger(\n",
    "    \"./models/oversampled/effNetB2_oversHistory_cb.csv\",\n",
    "    separator=\",\",\n",
    "    append=True)"
   ]
  },
  {
   "cell_type": "code",
   "execution_count": 17,
   "metadata": {
    "pycharm": {
     "name": "#%%\n"
    },
    "scrolled": true
   },
   "outputs": [
    {
     "name": "stdout",
     "output_type": "stream",
     "text": [
      "Epoch 51/60\n",
      "2280/2280 [==============================] - 608s 266ms/step - loss: 2.0691 - Categorical Accuracy: 0.1629 - Macro F1: 0.1504 - Weighted F1: 0.1502 - val_loss: 1.8893 - val_Categorical Accuracy: 0.5079 - val_Macro F1: 0.0845 - val_Weighted F1: 0.3428\n",
      "\n",
      "Epoch 00051: val_loss improved from inf to 1.88926, saving model to ./models/oversampled/effNetB2_oversTop51\n",
      "INFO:tensorflow:Assets written to: ./models/oversampled/effNetB2_oversTop51/assets\n"
     ]
    },
    {
     "name": "stderr",
     "output_type": "stream",
     "text": [
      "INFO:tensorflow:Assets written to: ./models/oversampled/effNetB2_oversTop51/assets\n"
     ]
    },
    {
     "name": "stdout",
     "output_type": "stream",
     "text": [
      "Epoch 52/60\n",
      "2280/2280 [==============================] - 656s 288ms/step - loss: 2.0670 - Categorical Accuracy: 0.1656 - Macro F1: 0.1515 - Weighted F1: 0.1512 - val_loss: 1.8779 - val_Categorical Accuracy: 0.5079 - val_Macro F1: 0.0845 - val_Weighted F1: 0.3428\n",
      "\n",
      "Epoch 00052: val_loss improved from 1.88926 to 1.87787, saving model to ./models/oversampled/effNetB2_oversTop52\n",
      "INFO:tensorflow:Assets written to: ./models/oversampled/effNetB2_oversTop52/assets\n"
     ]
    },
    {
     "name": "stderr",
     "output_type": "stream",
     "text": [
      "INFO:tensorflow:Assets written to: ./models/oversampled/effNetB2_oversTop52/assets\n"
     ]
    },
    {
     "name": "stdout",
     "output_type": "stream",
     "text": [
      "Epoch 53/60\n",
      "2280/2280 [==============================] - 654s 287ms/step - loss: 2.0656 - Categorical Accuracy: 0.1673 - Macro F1: 0.1514 - Weighted F1: 0.1512 - val_loss: 1.8825 - val_Categorical Accuracy: 0.5077 - val_Macro F1: 0.0844 - val_Weighted F1: 0.3427\n",
      "\n",
      "Epoch 00053: val_loss did not improve from 1.87787\n",
      "Epoch 54/60\n",
      "2280/2280 [==============================] - 622s 273ms/step - loss: 2.0659 - Categorical Accuracy: 0.1657 - Macro F1: 0.1495 - Weighted F1: 0.1493 - val_loss: 1.8769 - val_Categorical Accuracy: 0.5077 - val_Macro F1: 0.0842 - val_Weighted F1: 0.3424\n",
      "\n",
      "Epoch 00054: val_loss improved from 1.87787 to 1.87693, saving model to ./models/oversampled/effNetB2_oversTop54\n",
      "INFO:tensorflow:Assets written to: ./models/oversampled/effNetB2_oversTop54/assets\n"
     ]
    },
    {
     "name": "stderr",
     "output_type": "stream",
     "text": [
      "INFO:tensorflow:Assets written to: ./models/oversampled/effNetB2_oversTop54/assets\n"
     ]
    },
    {
     "name": "stdout",
     "output_type": "stream",
     "text": [
      "Epoch 55/60\n",
      "2280/2280 [==============================] - 645s 283ms/step - loss: 2.0634 - Categorical Accuracy: 0.1683 - Macro F1: 0.1515 - Weighted F1: 0.1513 - val_loss: 1.8797 - val_Categorical Accuracy: 0.5079 - val_Macro F1: 0.0845 - val_Weighted F1: 0.3428\n",
      "\n",
      "Epoch 00055: val_loss did not improve from 1.87693\n",
      "Epoch 56/60\n",
      "2280/2280 [==============================] - 656s 287ms/step - loss: 2.0613 - Categorical Accuracy: 0.1709 - Macro F1: 0.1525 - Weighted F1: 0.1522 - val_loss: 1.8732 - val_Categorical Accuracy: 0.5079 - val_Macro F1: 0.0845 - val_Weighted F1: 0.3428\n",
      "\n",
      "Epoch 00056: val_loss improved from 1.87693 to 1.87323, saving model to ./models/oversampled/effNetB2_oversTop56\n",
      "INFO:tensorflow:Assets written to: ./models/oversampled/effNetB2_oversTop56/assets\n"
     ]
    },
    {
     "name": "stderr",
     "output_type": "stream",
     "text": [
      "INFO:tensorflow:Assets written to: ./models/oversampled/effNetB2_oversTop56/assets\n"
     ]
    },
    {
     "name": "stdout",
     "output_type": "stream",
     "text": [
      "Epoch 57/60\n",
      "2280/2280 [==============================] - 638s 280ms/step - loss: 2.0619 - Categorical Accuracy: 0.1685 - Macro F1: 0.1513 - Weighted F1: 0.1511 - val_loss: 1.8703 - val_Categorical Accuracy: 0.5079 - val_Macro F1: 0.0845 - val_Weighted F1: 0.3428\n",
      "\n",
      "Epoch 00057: val_loss improved from 1.87323 to 1.87027, saving model to ./models/oversampled/effNetB2_oversTop57\n",
      "INFO:tensorflow:Assets written to: ./models/oversampled/effNetB2_oversTop57/assets\n"
     ]
    },
    {
     "name": "stderr",
     "output_type": "stream",
     "text": [
      "INFO:tensorflow:Assets written to: ./models/oversampled/effNetB2_oversTop57/assets\n"
     ]
    },
    {
     "name": "stdout",
     "output_type": "stream",
     "text": [
      "Epoch 58/60\n",
      "2280/2280 [==============================] - 616s 270ms/step - loss: 2.0609 - Categorical Accuracy: 0.1702 - Macro F1: 0.1506 - Weighted F1: 0.1504 - val_loss: 1.8652 - val_Categorical Accuracy: 0.5079 - val_Macro F1: 0.0845 - val_Weighted F1: 0.3428\n",
      "\n",
      "Epoch 00058: val_loss improved from 1.87027 to 1.86522, saving model to ./models/oversampled/effNetB2_oversTop58\n",
      "INFO:tensorflow:Assets written to: ./models/oversampled/effNetB2_oversTop58/assets\n"
     ]
    },
    {
     "name": "stderr",
     "output_type": "stream",
     "text": [
      "INFO:tensorflow:Assets written to: ./models/oversampled/effNetB2_oversTop58/assets\n"
     ]
    },
    {
     "name": "stdout",
     "output_type": "stream",
     "text": [
      "Epoch 59/60\n",
      "2280/2280 [==============================] - 610s 267ms/step - loss: 2.0594 - Categorical Accuracy: 0.1738 - Macro F1: 0.1536 - Weighted F1: 0.1534 - val_loss: 1.8570 - val_Categorical Accuracy: 0.5079 - val_Macro F1: 0.0845 - val_Weighted F1: 0.3428\n",
      "\n",
      "Epoch 00059: val_loss improved from 1.86522 to 1.85704, saving model to ./models/oversampled/effNetB2_oversTop59\n",
      "INFO:tensorflow:Assets written to: ./models/oversampled/effNetB2_oversTop59/assets\n"
     ]
    },
    {
     "name": "stderr",
     "output_type": "stream",
     "text": [
      "INFO:tensorflow:Assets written to: ./models/oversampled/effNetB2_oversTop59/assets\n"
     ]
    },
    {
     "name": "stdout",
     "output_type": "stream",
     "text": [
      "Epoch 60/60\n",
      "2280/2280 [==============================] - 617s 271ms/step - loss: 2.0577 - Categorical Accuracy: 0.1732 - Macro F1: 0.1515 - Weighted F1: 0.1513 - val_loss: 1.8598 - val_Categorical Accuracy: 0.5079 - val_Macro F1: 0.0845 - val_Weighted F1: 0.3428\n",
      "\n",
      "Epoch 00060: val_loss did not improve from 1.85704\n"
     ]
    }
   ],
   "source": [
    "# Top layers training: Epochs - min:8; max:80\n",
    "history = model.fit(train_generator,\n",
    "                    validation_data=val_generator,\n",
    "                    epochs=60,\n",
    "                    callbacks=[checkpoint, csv_logger],\n",
    "                    initial_epoch=50)"
   ]
  },
  {
   "cell_type": "code",
   "execution_count": 10,
   "metadata": {
    "executionInfo": {
     "elapsed": 6,
     "status": "ok",
     "timestamp": 1635513190885,
     "user": {
      "displayName": "Pedro Torres",
      "photoUrl": "https://lh3.googleusercontent.com/a-/AOh14GiOC_XQxtwkufSV38J42QN0teV5PKC9LlYXQ2mCEA=s64",
      "userId": "01891466493932664969"
     },
     "user_tz": 180
    },
    "id": "jbyPtYIqu4pe"
   },
   "outputs": [],
   "source": [
    "# # Make new dataframe containing model's top training history\n",
    "# top_history = pd.DataFrame.from_dict(history.history)\n",
    "#\n",
    "# # Save metrics' history as CSV\n",
    "# top_history.to_csv(\n",
    "#     \"./models/nesterov/effNetB2_nesterovTopHistory.csv\",\n",
    "#     index=False)"
   ]
  },
  {
   "cell_type": "code",
   "execution_count": 18,
   "metadata": {
    "executionInfo": {
     "elapsed": 6,
     "status": "ok",
     "timestamp": 1635513190886,
     "user": {
      "displayName": "Pedro Torres",
      "photoUrl": "https://lh3.googleusercontent.com/a-/AOh14GiOC_XQxtwkufSV38J42QN0teV5PKC9LlYXQ2mCEA=s64",
      "userId": "01891466493932664969"
     },
     "user_tz": 180
    },
    "id": "3f1SZtK2wCJM"
   },
   "outputs": [
    {
     "name": "stdout",
     "output_type": "stream",
     "text": [
      "INFO:tensorflow:Assets written to: ./models/oversampled/effNetB2_oversTop60/assets\n"
     ]
    },
    {
     "name": "stderr",
     "output_type": "stream",
     "text": [
      "INFO:tensorflow:Assets written to: ./models/oversampled/effNetB2_oversTop60/assets\n"
     ]
    }
   ],
   "source": [
    "# Save whole model with the top trained\n",
    "model.save(\n",
    "    \"./models/oversampled/effNetB2_oversTop60\")"
   ]
  },
  {
   "cell_type": "markdown",
   "metadata": {
    "id": "_0-rp0nZvTdI"
   },
   "source": [
    "##### Resultado do treinamento das camadas superiores"
   ]
  },
  {
   "cell_type": "code",
   "execution_count": 19,
   "metadata": {
    "executionInfo": {
     "elapsed": 6,
     "status": "ok",
     "timestamp": 1635513190886,
     "user": {
      "displayName": "Pedro Torres",
      "photoUrl": "https://lh3.googleusercontent.com/a-/AOh14GiOC_XQxtwkufSV38J42QN0teV5PKC9LlYXQ2mCEA=s64",
      "userId": "01891466493932664969"
     },
     "user_tz": 180
    },
    "id": "a5GHYkpTvTdJ",
    "scrolled": true
   },
   "outputs": [
    {
     "data": {
      "image/png": "[encoded data removed]",
      "text/plain": [
       "<Figure size 432x288 with 1 Axes>"
      ]
     },
     "metadata": {
      "needs_background": "light"
     },
     "output_type": "display_data"
    },
    {
     "name": "stdout",
     "output_type": "stream",
     "text": [
      "\n"
     ]
    },
    {
     "data": {
      "image/png": "[encoded data removed]",
      "text/plain": [
       "<Figure size 432x288 with 1 Axes>"
      ]
     },
     "metadata": {
      "needs_background": "light"
     },
     "output_type": "display_data"
    },
    {
     "name": "stdout",
     "output_type": "stream",
     "text": [
      "\n"
     ]
    },
    {
     "data": {
      "image/png": "[encoded data removed]",
      "text/plain": [
       "<Figure size 432x288 with 1 Axes>"
      ]
     },
     "metadata": {
      "needs_background": "light"
     },
     "output_type": "display_data"
    },
    {
     "name": "stdout",
     "output_type": "stream",
     "text": [
      "\n"
     ]
    },
    {
     "data": {
      "image/png": "[encoded data removed]",
      "text/plain": [
       "<Figure size 432x288 with 1 Axes>"
      ]
     },
     "metadata": {
      "needs_background": "light"
     },
     "output_type": "display_data"
    }
   ],
   "source": [
    "top_history = pd.read_csv(r\"./models/oversampled/effNetB2_oversHistory_cb.csv\")\n",
    "\n",
    "# Summarize history for loss\n",
    "plt.plot(top_history['loss'])\n",
    "plt.plot(top_history['val_loss'])\n",
    "plt.title('Model\\'s loss')\n",
    "plt.ylabel('loss')\n",
    "plt.xlabel('epoch')\n",
    "plt.legend(['Train', 'Validation'], loc='upper left')\n",
    "plt.show()\n",
    "print()\n",
    "\n",
    "# Summarize history for accuracy\n",
    "plt.plot(top_history['Categorical Accuracy'])\n",
    "plt.plot(top_history['val_Categorical Accuracy'])\n",
    "plt.title('Model\\'s accuracy')\n",
    "plt.ylabel('Categorical Accuracy')\n",
    "plt.xlabel('Epoch')\n",
    "plt.legend(['Train', 'Validation'], loc='upper left')\n",
    "plt.show()\n",
    "print()\n",
    "\n",
    "# Summarize history for MACRO avg. F1-Score\n",
    "plt.plot(top_history['Macro F1'])\n",
    "plt.plot(top_history['val_Macro F1'])\n",
    "plt.title('Model\\'s macro averaged F1-Score')\n",
    "plt.ylabel('Macro avg. F1-Score')\n",
    "plt.xlabel('Epoch')\n",
    "plt.legend(['Train', 'Validation'], loc='upper left')\n",
    "plt.show()\n",
    "print()\n",
    "\n",
    "# Summarize history for WEIGHTED avg. F1\n",
    "plt.plot(top_history['Weighted F1'])\n",
    "plt.plot(top_history['val_Weighted F1'])\n",
    "plt.title('Model\\'s weighted F1-Score')\n",
    "plt.ylabel('Weighted F1-Score')\n",
    "plt.xlabel('Epoch')\n",
    "plt.legend(['Train', 'Validation'], loc='upper left')\n",
    "plt.show()"
   ]
  },
  {
   "cell_type": "markdown",
   "metadata": {
    "id": "mRp_O4eDW9l3"
   },
   "source": [
    "#### Treinamento de todas as camadas"
   ]
  },
  {
   "cell_type": "code",
   "execution_count": 5,
   "metadata": {
    "colab": {
     "base_uri": "https://localhost:8080/"
    },
    "executionInfo": {
     "elapsed": 25101,
     "status": "ok",
     "timestamp": 1635513215982,
     "user": {
      "displayName": "Pedro Torres",
      "photoUrl": "https://lh3.googleusercontent.com/a-/AOh14GiOC_XQxtwkufSV38J42QN0teV5PKC9LlYXQ2mCEA=s64",
      "userId": "01891466493932664969"
     },
     "user_tz": 180
    },
    "id": "OeFzN3r63geX",
    "outputId": "18d743c5-83d9-4581-e931-bd00854d6554"
   },
   "outputs": [
    {
     "name": "stderr",
     "output_type": "stream",
     "text": [
      "WARNING:absl:Importing a function (__inference_EfficientNetB2_Oversampled_layer_call_and_return_conditional_losses_1042511) with ops with custom gradients. Will likely fail if a gradient is requested.\n",
      "WARNING:absl:Importing a function (__inference_EfficientNetB2_Oversampled_layer_call_and_return_conditional_losses_1042511) with ops with custom gradients. Will likely fail if a gradient is requested.\n",
      "WARNING:absl:Importing a function (__inference_EfficientNetB2_Oversampled_layer_call_and_return_conditional_losses_1042511) with ops with custom gradients. Will likely fail if a gradient is requested.\n",
      "WARNING:absl:Importing a function (__inference_EfficientNetB2_Oversampled_layer_call_and_return_conditional_losses_1042511) with ops with custom gradients. Will likely fail if a gradient is requested.\n",
      "WARNING:absl:Importing a function (__inference_EfficientNetB2_Oversampled_layer_call_and_return_conditional_losses_1042511) with ops with custom gradients. Will likely fail if a gradient is requested.\n",
      "WARNING:absl:Importing a function (__inference_EfficientNetB2_Oversampled_layer_call_and_return_conditional_losses_1042511) with ops with custom gradients. Will likely fail if a gradient is requested.\n",
      "WARNING:absl:Importing a function (__inference_EfficientNetB2_Oversampled_layer_call_and_return_conditional_losses_1042511) with ops with custom gradients. Will likely fail if a gradient is requested.\n",
      "WARNING:absl:Importing a function (__inference_EfficientNetB2_Oversampled_layer_call_and_return_conditional_losses_1042511) with ops with custom gradients. Will likely fail if a gradient is requested.\n",
      "WARNING:absl:Importing a function (__inference_EfficientNetB2_Oversampled_layer_call_and_return_conditional_losses_1042511) with ops with custom gradients. Will likely fail if a gradient is requested.\n",
      "WARNING:absl:Importing a function (__inference_EfficientNetB2_Oversampled_layer_call_and_return_conditional_losses_1042511) with ops with custom gradients. Will likely fail if a gradient is requested.\n",
      "WARNING:absl:Importing a function (__inference_EfficientNetB2_Oversampled_layer_call_and_return_conditional_losses_1042511) with ops with custom gradients. Will likely fail if a gradient is requested.\n",
      "WARNING:absl:Importing a function (__inference_EfficientNetB2_Oversampled_layer_call_and_return_conditional_losses_1042511) with ops with custom gradients. Will likely fail if a gradient is requested.\n",
      "WARNING:absl:Importing a function (__inference_EfficientNetB2_Oversampled_layer_call_and_return_conditional_losses_1042511) with ops with custom gradients. Will likely fail if a gradient is requested.\n",
      "WARNING:absl:Importing a function (__inference_EfficientNetB2_Oversampled_layer_call_and_return_conditional_losses_1042511) with ops with custom gradients. Will likely fail if a gradient is requested.\n",
      "WARNING:absl:Importing a function (__inference_EfficientNetB2_Oversampled_layer_call_and_return_conditional_losses_1042511) with ops with custom gradients. Will likely fail if a gradient is requested.\n",
      "WARNING:absl:Importing a function (__inference_EfficientNetB2_Oversampled_layer_call_and_return_conditional_losses_1042511) with ops with custom gradients. Will likely fail if a gradient is requested.\n",
      "WARNING:absl:Importing a function (__inference_EfficientNetB2_Oversampled_layer_call_and_return_conditional_losses_1042511) with ops with custom gradients. Will likely fail if a gradient is requested.\n",
      "WARNING:absl:Importing a function (__inference_EfficientNetB2_Oversampled_layer_call_and_return_conditional_losses_1042511) with ops with custom gradients. Will likely fail if a gradient is requested.\n",
      "WARNING:absl:Importing a function (__inference_EfficientNetB2_Oversampled_layer_call_and_return_conditional_losses_1042511) with ops with custom gradients. Will likely fail if a gradient is requested.\n",
      "WARNING:absl:Importing a function (__inference_EfficientNetB2_Oversampled_layer_call_and_return_conditional_losses_1042511) with ops with custom gradients. Will likely fail if a gradient is requested.\n",
      "WARNING:absl:Importing a function (__inference_EfficientNetB2_Oversampled_layer_call_and_return_conditional_losses_1042511) with ops with custom gradients. Will likely fail if a gradient is requested.\n",
      "WARNING:absl:Importing a function (__inference_EfficientNetB2_Oversampled_layer_call_and_return_conditional_losses_1042511) with ops with custom gradients. Will likely fail if a gradient is requested.\n",
      "WARNING:absl:Importing a function (__inference_EfficientNetB2_Oversampled_layer_call_and_return_conditional_losses_1042511) with ops with custom gradients. Will likely fail if a gradient is requested.\n",
      "WARNING:absl:Importing a function (__inference_EfficientNetB2_Oversampled_layer_call_and_return_conditional_losses_1042511) with ops with custom gradients. Will likely fail if a gradient is requested.\n",
      "WARNING:absl:Importing a function (__inference_EfficientNetB2_Oversampled_layer_call_and_return_conditional_losses_1042511) with ops with custom gradients. Will likely fail if a gradient is requested.\n",
      "WARNING:absl:Importing a function (__inference_EfficientNetB2_Oversampled_layer_call_and_return_conditional_losses_1042511) with ops with custom gradients. Will likely fail if a gradient is requested.\n",
      "WARNING:absl:Importing a function (__inference_EfficientNetB2_Oversampled_layer_call_and_return_conditional_losses_1042511) with ops with custom gradients. Will likely fail if a gradient is requested.\n",
      "WARNING:absl:Importing a function (__inference_EfficientNetB2_Oversampled_layer_call_and_return_conditional_losses_1042511) with ops with custom gradients. Will likely fail if a gradient is requested.\n",
      "WARNING:absl:Importing a function (__inference_EfficientNetB2_Oversampled_layer_call_and_return_conditional_losses_1042511) with ops with custom gradients. Will likely fail if a gradient is requested.\n",
      "WARNING:absl:Importing a function (__inference_EfficientNetB2_Oversampled_layer_call_and_return_conditional_losses_1042511) with ops with custom gradients. Will likely fail if a gradient is requested.\n",
      "WARNING:absl:Importing a function (__inference_EfficientNetB2_Oversampled_layer_call_and_return_conditional_losses_1042511) with ops with custom gradients. Will likely fail if a gradient is requested.\n",
      "WARNING:absl:Importing a function (__inference_EfficientNetB2_Oversampled_layer_call_and_return_conditional_losses_1042511) with ops with custom gradients. Will likely fail if a gradient is requested.\n",
      "WARNING:absl:Importing a function (__inference_EfficientNetB2_Oversampled_layer_call_and_return_conditional_losses_1042511) with ops with custom gradients. Will likely fail if a gradient is requested.\n",
      "WARNING:absl:Importing a function (__inference_EfficientNetB2_Oversampled_layer_call_and_return_conditional_losses_1042511) with ops with custom gradients. Will likely fail if a gradient is requested.\n",
      "WARNING:absl:Importing a function (__inference_EfficientNetB2_Oversampled_layer_call_and_return_conditional_losses_1042511) with ops with custom gradients. Will likely fail if a gradient is requested.\n",
      "WARNING:absl:Importing a function (__inference_EfficientNetB2_Oversampled_layer_call_and_return_conditional_losses_1042511) with ops with custom gradients. Will likely fail if a gradient is requested.\n",
      "WARNING:absl:Importing a function (__inference_EfficientNetB2_Oversampled_layer_call_and_return_conditional_losses_1042511) with ops with custom gradients. Will likely fail if a gradient is requested.\n",
      "WARNING:absl:Importing a function (__inference_EfficientNetB2_Oversampled_layer_call_and_return_conditional_losses_1042511) with ops with custom gradients. Will likely fail if a gradient is requested.\n",
      "WARNING:absl:Importing a function (__inference_EfficientNetB2_Oversampled_layer_call_and_return_conditional_losses_1042511) with ops with custom gradients. Will likely fail if a gradient is requested.\n",
      "WARNING:absl:Importing a function (__inference_EfficientNetB2_Oversampled_layer_call_and_return_conditional_losses_1042511) with ops with custom gradients. Will likely fail if a gradient is requested.\n",
      "WARNING:absl:Importing a function (__inference_EfficientNetB2_Oversampled_layer_call_and_return_conditional_losses_1042511) with ops with custom gradients. Will likely fail if a gradient is requested.\n"
     ]
    },
    {
     "name": "stderr",
     "output_type": "stream",
     "text": [
      "WARNING:absl:Importing a function (__inference_EfficientNetB2_Oversampled_layer_call_and_return_conditional_losses_1042511) with ops with custom gradients. Will likely fail if a gradient is requested.\n",
      "WARNING:absl:Importing a function (__inference_EfficientNetB2_Oversampled_layer_call_and_return_conditional_losses_1042511) with ops with custom gradients. Will likely fail if a gradient is requested.\n",
      "WARNING:absl:Importing a function (__inference_EfficientNetB2_Oversampled_layer_call_and_return_conditional_losses_1042511) with ops with custom gradients. Will likely fail if a gradient is requested.\n",
      "WARNING:absl:Importing a function (__inference_EfficientNetB2_Oversampled_layer_call_and_return_conditional_losses_1042511) with ops with custom gradients. Will likely fail if a gradient is requested.\n",
      "WARNING:absl:Importing a function (__inference_EfficientNetB2_Oversampled_layer_call_and_return_conditional_losses_1042511) with ops with custom gradients. Will likely fail if a gradient is requested.\n",
      "WARNING:absl:Importing a function (__inference_EfficientNetB2_Oversampled_layer_call_and_return_conditional_losses_1042511) with ops with custom gradients. Will likely fail if a gradient is requested.\n",
      "WARNING:absl:Importing a function (__inference_EfficientNetB2_Oversampled_layer_call_and_return_conditional_losses_1042511) with ops with custom gradients. Will likely fail if a gradient is requested.\n",
      "WARNING:absl:Importing a function (__inference_EfficientNetB2_Oversampled_layer_call_and_return_conditional_losses_1042511) with ops with custom gradients. Will likely fail if a gradient is requested.\n",
      "WARNING:absl:Importing a function (__inference_EfficientNetB2_Oversampled_layer_call_and_return_conditional_losses_1042511) with ops with custom gradients. Will likely fail if a gradient is requested.\n",
      "WARNING:absl:Importing a function (__inference_EfficientNetB2_Oversampled_layer_call_and_return_conditional_losses_1042511) with ops with custom gradients. Will likely fail if a gradient is requested.\n",
      "WARNING:absl:Importing a function (__inference_EfficientNetB2_Oversampled_layer_call_and_return_conditional_losses_1042511) with ops with custom gradients. Will likely fail if a gradient is requested.\n",
      "WARNING:absl:Importing a function (__inference_EfficientNetB2_Oversampled_layer_call_and_return_conditional_losses_1042511) with ops with custom gradients. Will likely fail if a gradient is requested.\n",
      "WARNING:absl:Importing a function (__inference_EfficientNetB2_Oversampled_layer_call_and_return_conditional_losses_1042511) with ops with custom gradients. Will likely fail if a gradient is requested.\n",
      "WARNING:absl:Importing a function (__inference_EfficientNetB2_Oversampled_layer_call_and_return_conditional_losses_1042511) with ops with custom gradients. Will likely fail if a gradient is requested.\n",
      "WARNING:absl:Importing a function (__inference_EfficientNetB2_Oversampled_layer_call_and_return_conditional_losses_1042511) with ops with custom gradients. Will likely fail if a gradient is requested.\n",
      "WARNING:absl:Importing a function (__inference_EfficientNetB2_Oversampled_layer_call_and_return_conditional_losses_1042511) with ops with custom gradients. Will likely fail if a gradient is requested.\n",
      "WARNING:absl:Importing a function (__inference_EfficientNetB2_Oversampled_layer_call_and_return_conditional_losses_1042511) with ops with custom gradients. Will likely fail if a gradient is requested.\n",
      "WARNING:absl:Importing a function (__inference_EfficientNetB2_Oversampled_layer_call_and_return_conditional_losses_1042511) with ops with custom gradients. Will likely fail if a gradient is requested.\n",
      "WARNING:absl:Importing a function (__inference_EfficientNetB2_Oversampled_layer_call_and_return_conditional_losses_1042511) with ops with custom gradients. Will likely fail if a gradient is requested.\n",
      "WARNING:absl:Importing a function (__inference_EfficientNetB2_Oversampled_layer_call_and_return_conditional_losses_1042511) with ops with custom gradients. Will likely fail if a gradient is requested.\n",
      "WARNING:absl:Importing a function (__inference_EfficientNetB2_Oversampled_layer_call_and_return_conditional_losses_1042511) with ops with custom gradients. Will likely fail if a gradient is requested.\n",
      "WARNING:absl:Importing a function (__inference_EfficientNetB2_Oversampled_layer_call_and_return_conditional_losses_1042511) with ops with custom gradients. Will likely fail if a gradient is requested.\n",
      "WARNING:absl:Importing a function (__inference_EfficientNetB2_Oversampled_layer_call_and_return_conditional_losses_1042511) with ops with custom gradients. Will likely fail if a gradient is requested.\n",
      "WARNING:absl:Importing a function (__inference_EfficientNetB2_Oversampled_layer_call_and_return_conditional_losses_1042511) with ops with custom gradients. Will likely fail if a gradient is requested.\n",
      "WARNING:absl:Importing a function (__inference_EfficientNetB2_Oversampled_layer_call_and_return_conditional_losses_1042511) with ops with custom gradients. Will likely fail if a gradient is requested.\n",
      "WARNING:absl:Importing a function (__inference_EfficientNetB2_Oversampled_layer_call_and_return_conditional_losses_1042511) with ops with custom gradients. Will likely fail if a gradient is requested.\n",
      "WARNING:absl:Importing a function (__inference_EfficientNetB2_Oversampled_layer_call_and_return_conditional_losses_1042511) with ops with custom gradients. Will likely fail if a gradient is requested.\n",
      "WARNING:absl:Importing a function (__inference_EfficientNetB2_Oversampled_layer_call_and_return_conditional_losses_1042511) with ops with custom gradients. Will likely fail if a gradient is requested.\n",
      "WARNING:absl:Importing a function (__inference_block2b_activation_layer_call_and_return_conditional_losses_1047720) with ops with custom gradients. Will likely fail if a gradient is requested.\n",
      "WARNING:absl:Importing a function (__inference_block4d_expand_activation_layer_call_and_return_conditional_losses_1050531) with ops with custom gradients. Will likely fail if a gradient is requested.\n",
      "WARNING:absl:Importing a function (__inference_block1a_activation_layer_call_and_return_conditional_losses_1026112) with ops with custom gradients. Will likely fail if a gradient is requested.\n",
      "WARNING:absl:Importing a function (__inference_block2a_activation_layer_call_and_return_conditional_losses_1026652) with ops with custom gradients. Will likely fail if a gradient is requested.\n",
      "WARNING:absl:Importing a function (__inference_block6d_se_reduce_layer_call_and_return_conditional_losses_1032081) with ops with custom gradients. Will likely fail if a gradient is requested.\n",
      "WARNING:absl:Importing a function (__inference_block5c_expand_activation_layer_call_and_return_conditional_losses_1030370) with ops with custom gradients. Will likely fail if a gradient is requested.\n",
      "WARNING:absl:Importing a function (__inference_block4a_expand_activation_layer_call_and_return_conditional_losses_1028483) with ops with custom gradients. Will likely fail if a gradient is requested.\n",
      "WARNING:absl:Importing a function (__inference_block4d_activation_layer_call_and_return_conditional_losses_1029483) with ops with custom gradients. Will likely fail if a gradient is requested.\n",
      "WARNING:absl:Importing a function (__inference_stem_activation_layer_call_and_return_conditional_losses_1026056) with ops with custom gradients. Will likely fail if a gradient is requested.\n",
      "WARNING:absl:Importing a function (__inference_block7b_expand_activation_layer_call_and_return_conditional_losses_1032921) with ops with custom gradients. Will likely fail if a gradient is requested.\n",
      "WARNING:absl:Importing a function (__inference_block1b_se_reduce_layer_call_and_return_conditional_losses_1026366) with ops with custom gradients. Will likely fail if a gradient is requested.\n",
      "WARNING:absl:Importing a function (__inference_block6c_expand_activation_layer_call_and_return_conditional_losses_1031646) with ops with custom gradients. Will likely fail if a gradient is requested.\n",
      "WARNING:absl:Importing a function (__inference_block2c_expand_activation_layer_call_and_return_conditional_losses_1027207) with ops with custom gradients. Will likely fail if a gradient is requested.\n",
      "WARNING:absl:Importing a function (__inference_block2a_activation_layer_call_and_return_conditional_losses_1047394) with ops with custom gradients. Will likely fail if a gradient is requested.\n"
     ]
    },
    {
     "name": "stderr",
     "output_type": "stream",
     "text": [
      "WARNING:absl:Importing a function (__inference_block6c_activation_layer_call_and_return_conditional_losses_1053127) with ops with custom gradients. Will likely fail if a gradient is requested.\n",
      "WARNING:absl:Importing a function (__inference_block5d_expand_activation_layer_call_and_return_conditional_losses_1051976) with ops with custom gradients. Will likely fail if a gradient is requested.\n",
      "WARNING:absl:Importing a function (__inference_block3b_se_reduce_layer_call_and_return_conditional_losses_1027922) with ops with custom gradients. Will likely fail if a gradient is requested.\n",
      "WARNING:absl:Importing a function (__inference_block2b_activation_layer_call_and_return_conditional_losses_1026931) with ops with custom gradients. Will likely fail if a gradient is requested.\n",
      "WARNING:absl:Importing a function (__inference_block7b_activation_layer_call_and_return_conditional_losses_1032977) with ops with custom gradients. Will likely fail if a gradient is requested.\n",
      "WARNING:absl:Importing a function (__inference_block5c_expand_activation_layer_call_and_return_conditional_losses_1051603) with ops with custom gradients. Will likely fail if a gradient is requested.\n",
      "WARNING:absl:Importing a function (__inference_block4d_activation_layer_call_and_return_conditional_losses_1050610) with ops with custom gradients. Will likely fail if a gradient is requested.\n",
      "WARNING:absl:Importing a function (__inference_block3b_activation_layer_call_and_return_conditional_losses_1027875) with ops with custom gradients. Will likely fail if a gradient is requested.\n",
      "WARNING:absl:Importing a function (__inference_block6d_activation_layer_call_and_return_conditional_losses_1032034) with ops with custom gradients. Will likely fail if a gradient is requested.\n",
      "WARNING:absl:Importing a function (__inference_block2b_se_reduce_layer_call_and_return_conditional_losses_1047760) with ops with custom gradients. Will likely fail if a gradient is requested.\n",
      "WARNING:absl:Importing a function (__inference_block7b_se_reduce_layer_call_and_return_conditional_losses_1054612) with ops with custom gradients. Will likely fail if a gradient is requested.\n",
      "WARNING:absl:Importing a function (__inference_block3a_expand_activation_layer_call_and_return_conditional_losses_1048387) with ops with custom gradients. Will likely fail if a gradient is requested.\n",
      "WARNING:absl:Importing a function (__inference_block6e_se_reduce_layer_call_and_return_conditional_losses_1032413) with ops with custom gradients. Will likely fail if a gradient is requested.\n",
      "WARNING:absl:Importing a function (__inference_block6a_expand_activation_layer_call_and_return_conditional_losses_1052349) with ops with custom gradients. Will likely fail if a gradient is requested.\n",
      "WARNING:absl:Importing a function (__inference_block4b_se_reduce_layer_call_and_return_conditional_losses_1028866) with ops with custom gradients. Will likely fail if a gradient is requested.\n",
      "WARNING:absl:Importing a function (__inference_block6b_expand_activation_layer_call_and_return_conditional_losses_1052675) with ops with custom gradients. Will likely fail if a gradient is requested.\n",
      "WARNING:absl:Importing a function (__inference_block5d_se_reduce_layer_call_and_return_conditional_losses_1052095) with ops with custom gradients. Will likely fail if a gradient is requested.\n",
      "WARNING:absl:Importing a function (__inference_block2c_activation_layer_call_and_return_conditional_losses_1048093) with ops with custom gradients. Will likely fail if a gradient is requested.\n",
      "WARNING:absl:Importing a function (__inference_block7a_expand_activation_layer_call_and_return_conditional_losses_1054167) with ops with custom gradients. Will likely fail if a gradient is requested.\n",
      "WARNING:absl:Importing a function (__inference_block3a_expand_activation_layer_call_and_return_conditional_losses_1027539) with ops with custom gradients. Will likely fail if a gradient is requested.\n",
      "WARNING:absl:Importing a function (__inference_block6a_activation_layer_call_and_return_conditional_losses_1031091) with ops with custom gradients. Will likely fail if a gradient is requested.\n",
      "WARNING:absl:Importing a function (__inference_block6b_activation_layer_call_and_return_conditional_losses_1031370) with ops with custom gradients. Will likely fail if a gradient is requested.\n",
      "WARNING:absl:Importing a function (__inference_block6b_expand_activation_layer_call_and_return_conditional_losses_1031314) with ops with custom gradients. Will likely fail if a gradient is requested.\n",
      "WARNING:absl:Importing a function (__inference_block5b_se_reduce_layer_call_and_return_conditional_losses_1051349) with ops with custom gradients. Will likely fail if a gradient is requested.\n",
      "WARNING:absl:Importing a function (__inference_block6e_se_reduce_layer_call_and_return_conditional_losses_1053913) with ops with custom gradients. Will likely fail if a gradient is requested.\n",
      "WARNING:absl:Importing a function (__inference_block2a_se_reduce_layer_call_and_return_conditional_losses_1026699) with ops with custom gradients. Will likely fail if a gradient is requested.\n",
      "WARNING:absl:Importing a function (__inference_block4b_expand_activation_layer_call_and_return_conditional_losses_1028763) with ops with custom gradients. Will likely fail if a gradient is requested.\n",
      "WARNING:absl:Importing a function (__inference_block3b_activation_layer_call_and_return_conditional_losses_1048792) with ops with custom gradients. Will likely fail if a gradient is requested.\n",
      "WARNING:absl:Importing a function (__inference_block6c_se_reduce_layer_call_and_return_conditional_losses_1053167) with ops with custom gradients. Will likely fail if a gradient is requested.\n",
      "WARNING:absl:Importing a function (__inference_block6d_se_reduce_layer_call_and_return_conditional_losses_1053540) with ops with custom gradients. Will likely fail if a gradient is requested.\n",
      "WARNING:absl:Importing a function (__inference_block3b_expand_activation_layer_call_and_return_conditional_losses_1027819) with ops with custom gradients. Will likely fail if a gradient is requested.\n",
      "WARNING:absl:Importing a function (__inference_block2b_expand_activation_layer_call_and_return_conditional_losses_1047641) with ops with custom gradients. Will likely fail if a gradient is requested.\n",
      "WARNING:absl:Importing a function (__inference_block6e_expand_activation_layer_call_and_return_conditional_losses_1032310) with ops with custom gradients. Will likely fail if a gradient is requested.\n",
      "WARNING:absl:Importing a function (__inference_block1b_activation_layer_call_and_return_conditional_losses_1026319) with ops with custom gradients. Will likely fail if a gradient is requested.\n",
      "WARNING:absl:Importing a function (__inference_block6b_se_reduce_layer_call_and_return_conditional_losses_1052794) with ops with custom gradients. Will likely fail if a gradient is requested.\n",
      "WARNING:absl:Importing a function (__inference_block7a_expand_activation_layer_call_and_return_conditional_losses_1032642) with ops with custom gradients. Will likely fail if a gradient is requested.\n",
      "WARNING:absl:Importing a function (__inference_block4a_activation_layer_call_and_return_conditional_losses_1028540) with ops with custom gradients. Will likely fail if a gradient is requested.\n",
      "WARNING:absl:Importing a function (__inference_block5d_se_reduce_layer_call_and_return_conditional_losses_1030805) with ops with custom gradients. Will likely fail if a gradient is requested.\n",
      "WARNING:absl:Importing a function (__inference_block7a_se_reduce_layer_call_and_return_conditional_losses_1032745) with ops with custom gradients. Will likely fail if a gradient is requested.\n",
      "WARNING:absl:Importing a function (__inference_block4b_se_reduce_layer_call_and_return_conditional_losses_1049904) with ops with custom gradients. Will likely fail if a gradient is requested.\n",
      "WARNING:absl:Importing a function (__inference_block5b_activation_layer_call_and_return_conditional_losses_1051309) with ops with custom gradients. Will likely fail if a gradient is requested.\n",
      "WARNING:absl:Importing a function (__inference_block5a_activation_layer_call_and_return_conditional_losses_1029815) with ops with custom gradients. Will likely fail if a gradient is requested.\n",
      "WARNING:absl:Importing a function (__inference_top_activation_layer_call_and_return_conditional_losses_1033253) with ops with custom gradients. Will likely fail if a gradient is requested.\n"
     ]
    },
    {
     "name": "stderr",
     "output_type": "stream",
     "text": [
      "WARNING:absl:Importing a function (__inference_block4c_activation_layer_call_and_return_conditional_losses_1050237) with ops with custom gradients. Will likely fail if a gradient is requested.\n",
      "WARNING:absl:Importing a function (__inference_block5c_activation_layer_call_and_return_conditional_losses_1030426) with ops with custom gradients. Will likely fail if a gradient is requested.\n",
      "WARNING:absl:Importing a function (__inference_block2a_expand_activation_layer_call_and_return_conditional_losses_1026595) with ops with custom gradients. Will likely fail if a gradient is requested.\n",
      "WARNING:absl:Importing a function (__inference_block6a_se_reduce_layer_call_and_return_conditional_losses_1052468) with ops with custom gradients. Will likely fail if a gradient is requested.\n",
      "WARNING:absl:Importing a function (__inference_block3c_expand_activation_layer_call_and_return_conditional_losses_1028151) with ops with custom gradients. Will likely fail if a gradient is requested.\n",
      "WARNING:absl:Importing a function (__inference_block5b_se_reduce_layer_call_and_return_conditional_losses_1030141) with ops with custom gradients. Will likely fail if a gradient is requested.\n",
      "WARNING:absl:Importing a function (__inference_block5d_expand_activation_layer_call_and_return_conditional_losses_1030702) with ops with custom gradients. Will likely fail if a gradient is requested.\n",
      "WARNING:absl:Importing a function (__inference_block5a_activation_layer_call_and_return_conditional_losses_1050983) with ops with custom gradients. Will likely fail if a gradient is requested.\n",
      "WARNING:absl:Importing a function (__inference_block2a_expand_activation_layer_call_and_return_conditional_losses_1047315) with ops with custom gradients. Will likely fail if a gradient is requested.\n",
      "WARNING:absl:Importing a function (__inference_block5a_expand_activation_layer_call_and_return_conditional_losses_1029759) with ops with custom gradients. Will likely fail if a gradient is requested.\n",
      "WARNING:absl:Importing a function (__inference_block7a_se_reduce_layer_call_and_return_conditional_losses_1054286) with ops with custom gradients. Will likely fail if a gradient is requested.\n",
      "WARNING:absl:Importing a function (__inference_block4c_expand_activation_layer_call_and_return_conditional_losses_1029095) with ops with custom gradients. Will likely fail if a gradient is requested.\n",
      "WARNING:absl:Importing a function (__inference_block3b_expand_activation_layer_call_and_return_conditional_losses_1048713) with ops with custom gradients. Will likely fail if a gradient is requested.\n",
      "WARNING:absl:Importing a function (__inference_block4b_expand_activation_layer_call_and_return_conditional_losses_1049785) with ops with custom gradients. Will likely fail if a gradient is requested.\n",
      "WARNING:absl:Importing a function (__inference_EfficientNetB2_Oversampled_layer_call_and_return_conditional_losses_1044831) with ops with custom gradients. Will likely fail if a gradient is requested.\n",
      "WARNING:absl:Importing a function (__inference_EfficientNetB2_Oversampled_layer_call_and_return_conditional_losses_1044831) with ops with custom gradients. Will likely fail if a gradient is requested.\n",
      "WARNING:absl:Importing a function (__inference_EfficientNetB2_Oversampled_layer_call_and_return_conditional_losses_1044831) with ops with custom gradients. Will likely fail if a gradient is requested.\n",
      "WARNING:absl:Importing a function (__inference_EfficientNetB2_Oversampled_layer_call_and_return_conditional_losses_1044831) with ops with custom gradients. Will likely fail if a gradient is requested.\n",
      "WARNING:absl:Importing a function (__inference_EfficientNetB2_Oversampled_layer_call_and_return_conditional_losses_1044831) with ops with custom gradients. Will likely fail if a gradient is requested.\n",
      "WARNING:absl:Importing a function (__inference_EfficientNetB2_Oversampled_layer_call_and_return_conditional_losses_1044831) with ops with custom gradients. Will likely fail if a gradient is requested.\n",
      "WARNING:absl:Importing a function (__inference_EfficientNetB2_Oversampled_layer_call_and_return_conditional_losses_1044831) with ops with custom gradients. Will likely fail if a gradient is requested.\n",
      "WARNING:absl:Importing a function (__inference_EfficientNetB2_Oversampled_layer_call_and_return_conditional_losses_1044831) with ops with custom gradients. Will likely fail if a gradient is requested.\n",
      "WARNING:absl:Importing a function (__inference_EfficientNetB2_Oversampled_layer_call_and_return_conditional_losses_1044831) with ops with custom gradients. Will likely fail if a gradient is requested.\n",
      "WARNING:absl:Importing a function (__inference_EfficientNetB2_Oversampled_layer_call_and_return_conditional_losses_1044831) with ops with custom gradients. Will likely fail if a gradient is requested.\n",
      "WARNING:absl:Importing a function (__inference_EfficientNetB2_Oversampled_layer_call_and_return_conditional_losses_1044831) with ops with custom gradients. Will likely fail if a gradient is requested.\n",
      "WARNING:absl:Importing a function (__inference_EfficientNetB2_Oversampled_layer_call_and_return_conditional_losses_1044831) with ops with custom gradients. Will likely fail if a gradient is requested.\n",
      "WARNING:absl:Importing a function (__inference_EfficientNetB2_Oversampled_layer_call_and_return_conditional_losses_1044831) with ops with custom gradients. Will likely fail if a gradient is requested.\n",
      "WARNING:absl:Importing a function (__inference_EfficientNetB2_Oversampled_layer_call_and_return_conditional_losses_1044831) with ops with custom gradients. Will likely fail if a gradient is requested.\n",
      "WARNING:absl:Importing a function (__inference_EfficientNetB2_Oversampled_layer_call_and_return_conditional_losses_1044831) with ops with custom gradients. Will likely fail if a gradient is requested.\n",
      "WARNING:absl:Importing a function (__inference_EfficientNetB2_Oversampled_layer_call_and_return_conditional_losses_1044831) with ops with custom gradients. Will likely fail if a gradient is requested.\n",
      "WARNING:absl:Importing a function (__inference_EfficientNetB2_Oversampled_layer_call_and_return_conditional_losses_1044831) with ops with custom gradients. Will likely fail if a gradient is requested.\n",
      "WARNING:absl:Importing a function (__inference_EfficientNetB2_Oversampled_layer_call_and_return_conditional_losses_1044831) with ops with custom gradients. Will likely fail if a gradient is requested.\n",
      "WARNING:absl:Importing a function (__inference_EfficientNetB2_Oversampled_layer_call_and_return_conditional_losses_1044831) with ops with custom gradients. Will likely fail if a gradient is requested.\n",
      "WARNING:absl:Importing a function (__inference_EfficientNetB2_Oversampled_layer_call_and_return_conditional_losses_1044831) with ops with custom gradients. Will likely fail if a gradient is requested.\n",
      "WARNING:absl:Importing a function (__inference_EfficientNetB2_Oversampled_layer_call_and_return_conditional_losses_1044831) with ops with custom gradients. Will likely fail if a gradient is requested.\n",
      "WARNING:absl:Importing a function (__inference_EfficientNetB2_Oversampled_layer_call_and_return_conditional_losses_1044831) with ops with custom gradients. Will likely fail if a gradient is requested.\n",
      "WARNING:absl:Importing a function (__inference_EfficientNetB2_Oversampled_layer_call_and_return_conditional_losses_1044831) with ops with custom gradients. Will likely fail if a gradient is requested.\n",
      "WARNING:absl:Importing a function (__inference_EfficientNetB2_Oversampled_layer_call_and_return_conditional_losses_1044831) with ops with custom gradients. Will likely fail if a gradient is requested.\n",
      "WARNING:absl:Importing a function (__inference_EfficientNetB2_Oversampled_layer_call_and_return_conditional_losses_1044831) with ops with custom gradients. Will likely fail if a gradient is requested.\n",
      "WARNING:absl:Importing a function (__inference_EfficientNetB2_Oversampled_layer_call_and_return_conditional_losses_1044831) with ops with custom gradients. Will likely fail if a gradient is requested.\n",
      "WARNING:absl:Importing a function (__inference_EfficientNetB2_Oversampled_layer_call_and_return_conditional_losses_1044831) with ops with custom gradients. Will likely fail if a gradient is requested.\n",
      "WARNING:absl:Importing a function (__inference_EfficientNetB2_Oversampled_layer_call_and_return_conditional_losses_1044831) with ops with custom gradients. Will likely fail if a gradient is requested.\n"
     ]
    },
    {
     "name": "stderr",
     "output_type": "stream",
     "text": [
      "WARNING:absl:Importing a function (__inference_EfficientNetB2_Oversampled_layer_call_and_return_conditional_losses_1044831) with ops with custom gradients. Will likely fail if a gradient is requested.\n",
      "WARNING:absl:Importing a function (__inference_EfficientNetB2_Oversampled_layer_call_and_return_conditional_losses_1044831) with ops with custom gradients. Will likely fail if a gradient is requested.\n",
      "WARNING:absl:Importing a function (__inference_EfficientNetB2_Oversampled_layer_call_and_return_conditional_losses_1044831) with ops with custom gradients. Will likely fail if a gradient is requested.\n",
      "WARNING:absl:Importing a function (__inference_EfficientNetB2_Oversampled_layer_call_and_return_conditional_losses_1044831) with ops with custom gradients. Will likely fail if a gradient is requested.\n",
      "WARNING:absl:Importing a function (__inference_EfficientNetB2_Oversampled_layer_call_and_return_conditional_losses_1044831) with ops with custom gradients. Will likely fail if a gradient is requested.\n",
      "WARNING:absl:Importing a function (__inference_EfficientNetB2_Oversampled_layer_call_and_return_conditional_losses_1044831) with ops with custom gradients. Will likely fail if a gradient is requested.\n",
      "WARNING:absl:Importing a function (__inference_EfficientNetB2_Oversampled_layer_call_and_return_conditional_losses_1044831) with ops with custom gradients. Will likely fail if a gradient is requested.\n",
      "WARNING:absl:Importing a function (__inference_EfficientNetB2_Oversampled_layer_call_and_return_conditional_losses_1044831) with ops with custom gradients. Will likely fail if a gradient is requested.\n",
      "WARNING:absl:Importing a function (__inference_EfficientNetB2_Oversampled_layer_call_and_return_conditional_losses_1044831) with ops with custom gradients. Will likely fail if a gradient is requested.\n",
      "WARNING:absl:Importing a function (__inference_EfficientNetB2_Oversampled_layer_call_and_return_conditional_losses_1044831) with ops with custom gradients. Will likely fail if a gradient is requested.\n",
      "WARNING:absl:Importing a function (__inference_EfficientNetB2_Oversampled_layer_call_and_return_conditional_losses_1044831) with ops with custom gradients. Will likely fail if a gradient is requested.\n",
      "WARNING:absl:Importing a function (__inference_EfficientNetB2_Oversampled_layer_call_and_return_conditional_losses_1044831) with ops with custom gradients. Will likely fail if a gradient is requested.\n",
      "WARNING:absl:Importing a function (__inference_EfficientNetB2_Oversampled_layer_call_and_return_conditional_losses_1044831) with ops with custom gradients. Will likely fail if a gradient is requested.\n",
      "WARNING:absl:Importing a function (__inference_EfficientNetB2_Oversampled_layer_call_and_return_conditional_losses_1044831) with ops with custom gradients. Will likely fail if a gradient is requested.\n",
      "WARNING:absl:Importing a function (__inference_EfficientNetB2_Oversampled_layer_call_and_return_conditional_losses_1044831) with ops with custom gradients. Will likely fail if a gradient is requested.\n",
      "WARNING:absl:Importing a function (__inference_EfficientNetB2_Oversampled_layer_call_and_return_conditional_losses_1044831) with ops with custom gradients. Will likely fail if a gradient is requested.\n",
      "WARNING:absl:Importing a function (__inference_EfficientNetB2_Oversampled_layer_call_and_return_conditional_losses_1044831) with ops with custom gradients. Will likely fail if a gradient is requested.\n",
      "WARNING:absl:Importing a function (__inference_EfficientNetB2_Oversampled_layer_call_and_return_conditional_losses_1044831) with ops with custom gradients. Will likely fail if a gradient is requested.\n",
      "WARNING:absl:Importing a function (__inference_EfficientNetB2_Oversampled_layer_call_and_return_conditional_losses_1044831) with ops with custom gradients. Will likely fail if a gradient is requested.\n",
      "WARNING:absl:Importing a function (__inference_EfficientNetB2_Oversampled_layer_call_and_return_conditional_losses_1044831) with ops with custom gradients. Will likely fail if a gradient is requested.\n",
      "WARNING:absl:Importing a function (__inference_EfficientNetB2_Oversampled_layer_call_and_return_conditional_losses_1044831) with ops with custom gradients. Will likely fail if a gradient is requested.\n",
      "WARNING:absl:Importing a function (__inference_EfficientNetB2_Oversampled_layer_call_and_return_conditional_losses_1044831) with ops with custom gradients. Will likely fail if a gradient is requested.\n",
      "WARNING:absl:Importing a function (__inference_EfficientNetB2_Oversampled_layer_call_and_return_conditional_losses_1044831) with ops with custom gradients. Will likely fail if a gradient is requested.\n",
      "WARNING:absl:Importing a function (__inference_EfficientNetB2_Oversampled_layer_call_and_return_conditional_losses_1044831) with ops with custom gradients. Will likely fail if a gradient is requested.\n",
      "WARNING:absl:Importing a function (__inference_EfficientNetB2_Oversampled_layer_call_and_return_conditional_losses_1044831) with ops with custom gradients. Will likely fail if a gradient is requested.\n",
      "WARNING:absl:Importing a function (__inference_EfficientNetB2_Oversampled_layer_call_and_return_conditional_losses_1044831) with ops with custom gradients. Will likely fail if a gradient is requested.\n",
      "WARNING:absl:Importing a function (__inference_EfficientNetB2_Oversampled_layer_call_and_return_conditional_losses_1044831) with ops with custom gradients. Will likely fail if a gradient is requested.\n",
      "WARNING:absl:Importing a function (__inference_EfficientNetB2_Oversampled_layer_call_and_return_conditional_losses_1044831) with ops with custom gradients. Will likely fail if a gradient is requested.\n",
      "WARNING:absl:Importing a function (__inference_EfficientNetB2_Oversampled_layer_call_and_return_conditional_losses_1044831) with ops with custom gradients. Will likely fail if a gradient is requested.\n",
      "WARNING:absl:Importing a function (__inference_EfficientNetB2_Oversampled_layer_call_and_return_conditional_losses_1044831) with ops with custom gradients. Will likely fail if a gradient is requested.\n",
      "WARNING:absl:Importing a function (__inference_EfficientNetB2_Oversampled_layer_call_and_return_conditional_losses_1044831) with ops with custom gradients. Will likely fail if a gradient is requested.\n",
      "WARNING:absl:Importing a function (__inference_EfficientNetB2_Oversampled_layer_call_and_return_conditional_losses_1044831) with ops with custom gradients. Will likely fail if a gradient is requested.\n",
      "WARNING:absl:Importing a function (__inference_EfficientNetB2_Oversampled_layer_call_and_return_conditional_losses_1044831) with ops with custom gradients. Will likely fail if a gradient is requested.\n",
      "WARNING:absl:Importing a function (__inference_EfficientNetB2_Oversampled_layer_call_and_return_conditional_losses_1044831) with ops with custom gradients. Will likely fail if a gradient is requested.\n",
      "WARNING:absl:Importing a function (__inference_EfficientNetB2_Oversampled_layer_call_and_return_conditional_losses_1044831) with ops with custom gradients. Will likely fail if a gradient is requested.\n",
      "WARNING:absl:Importing a function (__inference_EfficientNetB2_Oversampled_layer_call_and_return_conditional_losses_1044831) with ops with custom gradients. Will likely fail if a gradient is requested.\n",
      "WARNING:absl:Importing a function (__inference_EfficientNetB2_Oversampled_layer_call_and_return_conditional_losses_1044831) with ops with custom gradients. Will likely fail if a gradient is requested.\n",
      "WARNING:absl:Importing a function (__inference_EfficientNetB2_Oversampled_layer_call_and_return_conditional_losses_1044831) with ops with custom gradients. Will likely fail if a gradient is requested.\n",
      "WARNING:absl:Importing a function (__inference_EfficientNetB2_Oversampled_layer_call_and_return_conditional_losses_1044831) with ops with custom gradients. Will likely fail if a gradient is requested.\n",
      "WARNING:absl:Importing a function (__inference_EfficientNetB2_Oversampled_layer_call_and_return_conditional_losses_1044831) with ops with custom gradients. Will likely fail if a gradient is requested.\n",
      "WARNING:absl:Importing a function (__inference_EfficientNetB2_Oversampled_layer_call_and_return_conditional_losses_1044831) with ops with custom gradients. Will likely fail if a gradient is requested.\n"
     ]
    },
    {
     "name": "stderr",
     "output_type": "stream",
     "text": [
      "WARNING:absl:Importing a function (__inference_block3c_expand_activation_layer_call_and_return_conditional_losses_1049086) with ops with custom gradients. Will likely fail if a gradient is requested.\n",
      "WARNING:absl:Importing a function (__inference_block3c_activation_layer_call_and_return_conditional_losses_1049165) with ops with custom gradients. Will likely fail if a gradient is requested.\n",
      "WARNING:absl:Importing a function (__inference_block3c_activation_layer_call_and_return_conditional_losses_1028207) with ops with custom gradients. Will likely fail if a gradient is requested.\n",
      "WARNING:absl:Importing a function (__inference_block1a_activation_layer_call_and_return_conditional_losses_1046788) with ops with custom gradients. Will likely fail if a gradient is requested.\n",
      "WARNING:absl:Importing a function (__inference_block5c_se_reduce_layer_call_and_return_conditional_losses_1030473) with ops with custom gradients. Will likely fail if a gradient is requested.\n",
      "WARNING:absl:Importing a function (__inference_block3c_se_reduce_layer_call_and_return_conditional_losses_1028254) with ops with custom gradients. Will likely fail if a gradient is requested.\n",
      "WARNING:absl:Importing a function (__inference_block2b_se_reduce_layer_call_and_return_conditional_losses_1026978) with ops with custom gradients. Will likely fail if a gradient is requested.\n",
      "WARNING:absl:Importing a function (__inference_block6d_activation_layer_call_and_return_conditional_losses_1053500) with ops with custom gradients. Will likely fail if a gradient is requested.\n",
      "WARNING:absl:Importing a function (__inference_block2c_se_reduce_layer_call_and_return_conditional_losses_1048133) with ops with custom gradients. Will likely fail if a gradient is requested.\n",
      "WARNING:absl:Importing a function (__inference_block6a_activation_layer_call_and_return_conditional_losses_1052428) with ops with custom gradients. Will likely fail if a gradient is requested.\n",
      "WARNING:absl:Importing a function (__inference_stem_activation_layer_call_and_return_conditional_losses_1046709) with ops with custom gradients. Will likely fail if a gradient is requested.\n",
      "WARNING:absl:Importing a function (__inference_block3b_se_reduce_layer_call_and_return_conditional_losses_1048832) with ops with custom gradients. Will likely fail if a gradient is requested.\n",
      "WARNING:absl:Importing a function (__inference_block4d_se_reduce_layer_call_and_return_conditional_losses_1029530) with ops with custom gradients. Will likely fail if a gradient is requested.\n",
      "WARNING:absl:Importing a function (__inference_block4b_activation_layer_call_and_return_conditional_losses_1049864) with ops with custom gradients. Will likely fail if a gradient is requested.\n",
      "WARNING:absl:Importing a function (__inference_block7a_activation_layer_call_and_return_conditional_losses_1032698) with ops with custom gradients. Will likely fail if a gradient is requested.\n",
      "WARNING:absl:Importing a function (__inference_block2a_se_reduce_layer_call_and_return_conditional_losses_1047434) with ops with custom gradients. Will likely fail if a gradient is requested.\n",
      "WARNING:absl:Importing a function (__inference_block6c_expand_activation_layer_call_and_return_conditional_losses_1053048) with ops with custom gradients. Will likely fail if a gradient is requested.\n",
      "WARNING:absl:Importing a function (__inference__wrapped_model_1017863) with ops with custom gradients. Will likely fail if a gradient is requested.\n",
      "WARNING:absl:Importing a function (__inference__wrapped_model_1017863) with ops with custom gradients. Will likely fail if a gradient is requested.\n",
      "WARNING:absl:Importing a function (__inference__wrapped_model_1017863) with ops with custom gradients. Will likely fail if a gradient is requested.\n",
      "WARNING:absl:Importing a function (__inference__wrapped_model_1017863) with ops with custom gradients. Will likely fail if a gradient is requested.\n",
      "WARNING:absl:Importing a function (__inference__wrapped_model_1017863) with ops with custom gradients. Will likely fail if a gradient is requested.\n",
      "WARNING:absl:Importing a function (__inference__wrapped_model_1017863) with ops with custom gradients. Will likely fail if a gradient is requested.\n",
      "WARNING:absl:Importing a function (__inference__wrapped_model_1017863) with ops with custom gradients. Will likely fail if a gradient is requested.\n",
      "WARNING:absl:Importing a function (__inference__wrapped_model_1017863) with ops with custom gradients. Will likely fail if a gradient is requested.\n",
      "WARNING:absl:Importing a function (__inference__wrapped_model_1017863) with ops with custom gradients. Will likely fail if a gradient is requested.\n",
      "WARNING:absl:Importing a function (__inference__wrapped_model_1017863) with ops with custom gradients. Will likely fail if a gradient is requested.\n",
      "WARNING:absl:Importing a function (__inference__wrapped_model_1017863) with ops with custom gradients. Will likely fail if a gradient is requested.\n",
      "WARNING:absl:Importing a function (__inference__wrapped_model_1017863) with ops with custom gradients. Will likely fail if a gradient is requested.\n",
      "WARNING:absl:Importing a function (__inference__wrapped_model_1017863) with ops with custom gradients. Will likely fail if a gradient is requested.\n",
      "WARNING:absl:Importing a function (__inference__wrapped_model_1017863) with ops with custom gradients. Will likely fail if a gradient is requested.\n",
      "WARNING:absl:Importing a function (__inference__wrapped_model_1017863) with ops with custom gradients. Will likely fail if a gradient is requested.\n",
      "WARNING:absl:Importing a function (__inference__wrapped_model_1017863) with ops with custom gradients. Will likely fail if a gradient is requested.\n",
      "WARNING:absl:Importing a function (__inference__wrapped_model_1017863) with ops with custom gradients. Will likely fail if a gradient is requested.\n",
      "WARNING:absl:Importing a function (__inference__wrapped_model_1017863) with ops with custom gradients. Will likely fail if a gradient is requested.\n",
      "WARNING:absl:Importing a function (__inference__wrapped_model_1017863) with ops with custom gradients. Will likely fail if a gradient is requested.\n",
      "WARNING:absl:Importing a function (__inference__wrapped_model_1017863) with ops with custom gradients. Will likely fail if a gradient is requested.\n",
      "WARNING:absl:Importing a function (__inference__wrapped_model_1017863) with ops with custom gradients. Will likely fail if a gradient is requested.\n",
      "WARNING:absl:Importing a function (__inference__wrapped_model_1017863) with ops with custom gradients. Will likely fail if a gradient is requested.\n",
      "WARNING:absl:Importing a function (__inference__wrapped_model_1017863) with ops with custom gradients. Will likely fail if a gradient is requested.\n",
      "WARNING:absl:Importing a function (__inference__wrapped_model_1017863) with ops with custom gradients. Will likely fail if a gradient is requested.\n",
      "WARNING:absl:Importing a function (__inference__wrapped_model_1017863) with ops with custom gradients. Will likely fail if a gradient is requested.\n",
      "WARNING:absl:Importing a function (__inference__wrapped_model_1017863) with ops with custom gradients. Will likely fail if a gradient is requested.\n",
      "WARNING:absl:Importing a function (__inference__wrapped_model_1017863) with ops with custom gradients. Will likely fail if a gradient is requested.\n",
      "WARNING:absl:Importing a function (__inference__wrapped_model_1017863) with ops with custom gradients. Will likely fail if a gradient is requested.\n",
      "WARNING:absl:Importing a function (__inference__wrapped_model_1017863) with ops with custom gradients. Will likely fail if a gradient is requested.\n",
      "WARNING:absl:Importing a function (__inference__wrapped_model_1017863) with ops with custom gradients. Will likely fail if a gradient is requested.\n",
      "WARNING:absl:Importing a function (__inference__wrapped_model_1017863) with ops with custom gradients. Will likely fail if a gradient is requested.\n",
      "WARNING:absl:Importing a function (__inference__wrapped_model_1017863) with ops with custom gradients. Will likely fail if a gradient is requested.\n",
      "WARNING:absl:Importing a function (__inference__wrapped_model_1017863) with ops with custom gradients. Will likely fail if a gradient is requested.\n",
      "WARNING:absl:Importing a function (__inference__wrapped_model_1017863) with ops with custom gradients. Will likely fail if a gradient is requested.\n"
     ]
    },
    {
     "name": "stderr",
     "output_type": "stream",
     "text": [
      "WARNING:absl:Importing a function (__inference__wrapped_model_1017863) with ops with custom gradients. Will likely fail if a gradient is requested.\n",
      "WARNING:absl:Importing a function (__inference__wrapped_model_1017863) with ops with custom gradients. Will likely fail if a gradient is requested.\n",
      "WARNING:absl:Importing a function (__inference__wrapped_model_1017863) with ops with custom gradients. Will likely fail if a gradient is requested.\n",
      "WARNING:absl:Importing a function (__inference__wrapped_model_1017863) with ops with custom gradients. Will likely fail if a gradient is requested.\n",
      "WARNING:absl:Importing a function (__inference__wrapped_model_1017863) with ops with custom gradients. Will likely fail if a gradient is requested.\n",
      "WARNING:absl:Importing a function (__inference__wrapped_model_1017863) with ops with custom gradients. Will likely fail if a gradient is requested.\n",
      "WARNING:absl:Importing a function (__inference__wrapped_model_1017863) with ops with custom gradients. Will likely fail if a gradient is requested.\n",
      "WARNING:absl:Importing a function (__inference__wrapped_model_1017863) with ops with custom gradients. Will likely fail if a gradient is requested.\n",
      "WARNING:absl:Importing a function (__inference__wrapped_model_1017863) with ops with custom gradients. Will likely fail if a gradient is requested.\n",
      "WARNING:absl:Importing a function (__inference__wrapped_model_1017863) with ops with custom gradients. Will likely fail if a gradient is requested.\n",
      "WARNING:absl:Importing a function (__inference__wrapped_model_1017863) with ops with custom gradients. Will likely fail if a gradient is requested.\n",
      "WARNING:absl:Importing a function (__inference__wrapped_model_1017863) with ops with custom gradients. Will likely fail if a gradient is requested.\n",
      "WARNING:absl:Importing a function (__inference__wrapped_model_1017863) with ops with custom gradients. Will likely fail if a gradient is requested.\n",
      "WARNING:absl:Importing a function (__inference__wrapped_model_1017863) with ops with custom gradients. Will likely fail if a gradient is requested.\n",
      "WARNING:absl:Importing a function (__inference__wrapped_model_1017863) with ops with custom gradients. Will likely fail if a gradient is requested.\n",
      "WARNING:absl:Importing a function (__inference__wrapped_model_1017863) with ops with custom gradients. Will likely fail if a gradient is requested.\n",
      "WARNING:absl:Importing a function (__inference__wrapped_model_1017863) with ops with custom gradients. Will likely fail if a gradient is requested.\n",
      "WARNING:absl:Importing a function (__inference__wrapped_model_1017863) with ops with custom gradients. Will likely fail if a gradient is requested.\n",
      "WARNING:absl:Importing a function (__inference__wrapped_model_1017863) with ops with custom gradients. Will likely fail if a gradient is requested.\n",
      "WARNING:absl:Importing a function (__inference__wrapped_model_1017863) with ops with custom gradients. Will likely fail if a gradient is requested.\n",
      "WARNING:absl:Importing a function (__inference__wrapped_model_1017863) with ops with custom gradients. Will likely fail if a gradient is requested.\n",
      "WARNING:absl:Importing a function (__inference__wrapped_model_1017863) with ops with custom gradients. Will likely fail if a gradient is requested.\n",
      "WARNING:absl:Importing a function (__inference__wrapped_model_1017863) with ops with custom gradients. Will likely fail if a gradient is requested.\n",
      "WARNING:absl:Importing a function (__inference__wrapped_model_1017863) with ops with custom gradients. Will likely fail if a gradient is requested.\n",
      "WARNING:absl:Importing a function (__inference__wrapped_model_1017863) with ops with custom gradients. Will likely fail if a gradient is requested.\n",
      "WARNING:absl:Importing a function (__inference__wrapped_model_1017863) with ops with custom gradients. Will likely fail if a gradient is requested.\n",
      "WARNING:absl:Importing a function (__inference__wrapped_model_1017863) with ops with custom gradients. Will likely fail if a gradient is requested.\n",
      "WARNING:absl:Importing a function (__inference__wrapped_model_1017863) with ops with custom gradients. Will likely fail if a gradient is requested.\n",
      "WARNING:absl:Importing a function (__inference__wrapped_model_1017863) with ops with custom gradients. Will likely fail if a gradient is requested.\n",
      "WARNING:absl:Importing a function (__inference__wrapped_model_1017863) with ops with custom gradients. Will likely fail if a gradient is requested.\n",
      "WARNING:absl:Importing a function (__inference__wrapped_model_1017863) with ops with custom gradients. Will likely fail if a gradient is requested.\n",
      "WARNING:absl:Importing a function (__inference__wrapped_model_1017863) with ops with custom gradients. Will likely fail if a gradient is requested.\n",
      "WARNING:absl:Importing a function (__inference__wrapped_model_1017863) with ops with custom gradients. Will likely fail if a gradient is requested.\n",
      "WARNING:absl:Importing a function (__inference__wrapped_model_1017863) with ops with custom gradients. Will likely fail if a gradient is requested.\n",
      "WARNING:absl:Importing a function (__inference__wrapped_model_1017863) with ops with custom gradients. Will likely fail if a gradient is requested.\n",
      "WARNING:absl:Importing a function (__inference_block4c_activation_layer_call_and_return_conditional_losses_1029151) with ops with custom gradients. Will likely fail if a gradient is requested.\n",
      "WARNING:absl:Importing a function (__inference_block5a_expand_activation_layer_call_and_return_conditional_losses_1050904) with ops with custom gradients. Will likely fail if a gradient is requested.\n",
      "WARNING:absl:Importing a function (__inference_block1b_se_reduce_layer_call_and_return_conditional_losses_1047061) with ops with custom gradients. Will likely fail if a gradient is requested.\n",
      "WARNING:absl:Importing a function (__inference_block3a_activation_layer_call_and_return_conditional_losses_1048466) with ops with custom gradients. Will likely fail if a gradient is requested.\n",
      "WARNING:absl:Importing a function (__inference_block6c_activation_layer_call_and_return_conditional_losses_1031702) with ops with custom gradients. Will likely fail if a gradient is requested.\n",
      "WARNING:absl:Importing a function (__inference_block3a_se_reduce_layer_call_and_return_conditional_losses_1048506) with ops with custom gradients. Will likely fail if a gradient is requested.\n",
      "WARNING:absl:Importing a function (__inference_block5d_activation_layer_call_and_return_conditional_losses_1052055) with ops with custom gradients. Will likely fail if a gradient is requested.\n",
      "WARNING:absl:Importing a function (__inference_block5b_expand_activation_layer_call_and_return_conditional_losses_1030038) with ops with custom gradients. Will likely fail if a gradient is requested.\n",
      "WARNING:absl:Importing a function (__inference_block6a_se_reduce_layer_call_and_return_conditional_losses_1031138) with ops with custom gradients. Will likely fail if a gradient is requested.\n",
      "WARNING:absl:Importing a function (__inference_block3a_activation_layer_call_and_return_conditional_losses_1027596) with ops with custom gradients. Will likely fail if a gradient is requested.\n",
      "WARNING:absl:Importing a function (__inference_block4a_se_reduce_layer_call_and_return_conditional_losses_1028587) with ops with custom gradients. Will likely fail if a gradient is requested.\n",
      "WARNING:absl:Importing a function (__inference_block4c_se_reduce_layer_call_and_return_conditional_losses_1029198) with ops with custom gradients. Will likely fail if a gradient is requested.\n",
      "WARNING:absl:Importing a function (__inference_block6c_se_reduce_layer_call_and_return_conditional_losses_1031749) with ops with custom gradients. Will likely fail if a gradient is requested.\n",
      "WARNING:absl:Importing a function (__inference_block7b_se_reduce_layer_call_and_return_conditional_losses_1033024) with ops with custom gradients. Will likely fail if a gradient is requested.\n",
      "WARNING:absl:Importing a function (__inference_block5d_activation_layer_call_and_return_conditional_losses_1030758) with ops with custom gradients. Will likely fail if a gradient is requested.\n",
      "WARNING:absl:Importing a function (__inference_block5c_activation_layer_call_and_return_conditional_losses_1051682) with ops with custom gradients. Will likely fail if a gradient is requested.\n"
     ]
    },
    {
     "name": "stderr",
     "output_type": "stream",
     "text": [
      "WARNING:absl:Importing a function (__inference_block1b_activation_layer_call_and_return_conditional_losses_1047021) with ops with custom gradients. Will likely fail if a gradient is requested.\n",
      "WARNING:absl:Importing a function (__inference_block4c_se_reduce_layer_call_and_return_conditional_losses_1050277) with ops with custom gradients. Will likely fail if a gradient is requested.\n",
      "WARNING:absl:Importing a function (__inference_block6b_activation_layer_call_and_return_conditional_losses_1052754) with ops with custom gradients. Will likely fail if a gradient is requested.\n",
      "WARNING:absl:Importing a function (__inference_block1a_se_reduce_layer_call_and_return_conditional_losses_1046828) with ops with custom gradients. Will likely fail if a gradient is requested.\n",
      "WARNING:absl:Importing a function (__inference_block2c_expand_activation_layer_call_and_return_conditional_losses_1048014) with ops with custom gradients. Will likely fail if a gradient is requested.\n",
      "WARNING:absl:Importing a function (__inference_block5b_expand_activation_layer_call_and_return_conditional_losses_1051230) with ops with custom gradients. Will likely fail if a gradient is requested.\n",
      "WARNING:absl:Importing a function (__inference_block6e_activation_layer_call_and_return_conditional_losses_1053873) with ops with custom gradients. Will likely fail if a gradient is requested.\n",
      "WARNING:absl:Importing a function (__inference_block1a_se_reduce_layer_call_and_return_conditional_losses_1026159) with ops with custom gradients. Will likely fail if a gradient is requested.\n",
      "WARNING:absl:Importing a function (__inference_block6d_expand_activation_layer_call_and_return_conditional_losses_1053421) with ops with custom gradients. Will likely fail if a gradient is requested.\n",
      "WARNING:absl:Importing a function (__inference_block5c_se_reduce_layer_call_and_return_conditional_losses_1051722) with ops with custom gradients. Will likely fail if a gradient is requested.\n",
      "WARNING:absl:Importing a function (__inference_block2c_se_reduce_layer_call_and_return_conditional_losses_1027310) with ops with custom gradients. Will likely fail if a gradient is requested.\n",
      "WARNING:absl:Importing a function (__inference_block6e_expand_activation_layer_call_and_return_conditional_losses_1053794) with ops with custom gradients. Will likely fail if a gradient is requested.\n",
      "WARNING:absl:Importing a function (__inference_block7a_activation_layer_call_and_return_conditional_losses_1054246) with ops with custom gradients. Will likely fail if a gradient is requested.\n",
      "WARNING:absl:Importing a function (__inference_block6e_activation_layer_call_and_return_conditional_losses_1032366) with ops with custom gradients. Will likely fail if a gradient is requested.\n",
      "WARNING:absl:Importing a function (__inference_block4a_activation_layer_call_and_return_conditional_losses_1049538) with ops with custom gradients. Will likely fail if a gradient is requested.\n",
      "WARNING:absl:Importing a function (__inference_block4a_expand_activation_layer_call_and_return_conditional_losses_1049459) with ops with custom gradients. Will likely fail if a gradient is requested.\n",
      "WARNING:absl:Importing a function (__inference_block6d_expand_activation_layer_call_and_return_conditional_losses_1031978) with ops with custom gradients. Will likely fail if a gradient is requested.\n",
      "WARNING:absl:Importing a function (__inference_top_activation_layer_call_and_return_conditional_losses_1054866) with ops with custom gradients. Will likely fail if a gradient is requested.\n",
      "WARNING:absl:Importing a function (__inference_block4a_se_reduce_layer_call_and_return_conditional_losses_1049578) with ops with custom gradients. Will likely fail if a gradient is requested.\n",
      "WARNING:absl:Importing a function (__inference_block4d_se_reduce_layer_call_and_return_conditional_losses_1050650) with ops with custom gradients. Will likely fail if a gradient is requested.\n",
      "WARNING:absl:Importing a function (__inference_block3a_se_reduce_layer_call_and_return_conditional_losses_1027643) with ops with custom gradients. Will likely fail if a gradient is requested.\n",
      "WARNING:absl:Importing a function (__inference_block7b_activation_layer_call_and_return_conditional_losses_1054572) with ops with custom gradients. Will likely fail if a gradient is requested.\n",
      "WARNING:absl:Importing a function (__inference_block5a_se_reduce_layer_call_and_return_conditional_losses_1029862) with ops with custom gradients. Will likely fail if a gradient is requested.\n",
      "WARNING:absl:Importing a function (__inference_block4d_expand_activation_layer_call_and_return_conditional_losses_1029427) with ops with custom gradients. Will likely fail if a gradient is requested.\n",
      "WARNING:absl:Importing a function (__inference_block6a_expand_activation_layer_call_and_return_conditional_losses_1031034) with ops with custom gradients. Will likely fail if a gradient is requested.\n",
      "WARNING:absl:Importing a function (__inference_block2b_expand_activation_layer_call_and_return_conditional_losses_1026875) with ops with custom gradients. Will likely fail if a gradient is requested.\n",
      "WARNING:absl:Importing a function (__inference_block3c_se_reduce_layer_call_and_return_conditional_losses_1049205) with ops with custom gradients. Will likely fail if a gradient is requested.\n",
      "WARNING:absl:Importing a function (__inference_block5b_activation_layer_call_and_return_conditional_losses_1030094) with ops with custom gradients. Will likely fail if a gradient is requested.\n",
      "WARNING:absl:Importing a function (__inference_block7b_expand_activation_layer_call_and_return_conditional_losses_1054493) with ops with custom gradients. Will likely fail if a gradient is requested.\n",
      "WARNING:absl:Importing a function (__inference_block2c_activation_layer_call_and_return_conditional_losses_1027263) with ops with custom gradients. Will likely fail if a gradient is requested.\n",
      "WARNING:absl:Importing a function (__inference_block4c_expand_activation_layer_call_and_return_conditional_losses_1050158) with ops with custom gradients. Will likely fail if a gradient is requested.\n",
      "WARNING:absl:Importing a function (__inference_block5a_se_reduce_layer_call_and_return_conditional_losses_1051023) with ops with custom gradients. Will likely fail if a gradient is requested.\n",
      "WARNING:absl:Importing a function (__inference_block4b_activation_layer_call_and_return_conditional_losses_1028819) with ops with custom gradients. Will likely fail if a gradient is requested.\n",
      "WARNING:absl:Importing a function (__inference_block6b_se_reduce_layer_call_and_return_conditional_losses_1031417) with ops with custom gradients. Will likely fail if a gradient is requested.\n"
     ]
    }
   ],
   "source": [
    "# Load FULL model\n",
    "model = keras.models.load_model(\n",
    "    \"./models/oversampled/effNetB2_oversFull_30\")"
   ]
  },
  {
   "cell_type": "code",
   "execution_count": 26,
   "metadata": {
    "executionInfo": {
     "elapsed": 876,
     "status": "ok",
     "timestamp": 1635513216849,
     "user": {
      "displayName": "Pedro Torres",
      "photoUrl": "https://lh3.googleusercontent.com/a-/AOh14GiOC_XQxtwkufSV38J42QN0teV5PKC9LlYXQ2mCEA=s64",
      "userId": "01891466493932664969"
     },
     "user_tz": 180
    },
    "id": "1R9hf33HXBdF"
   },
   "outputs": [],
   "source": [
    "# Unfreeze all layer's pretrained weights\n",
    "for layer in model.layers:\n",
    "    layer.trainable = True"
   ]
  },
  {
   "cell_type": "code",
   "execution_count": 27,
   "metadata": {
    "colab": {
     "base_uri": "https://localhost:8080/"
    },
    "executionInfo": {
     "elapsed": 9,
     "status": "ok",
     "timestamp": 1635513216850,
     "user": {
      "displayName": "Pedro Torres",
      "photoUrl": "https://lh3.googleusercontent.com/a-/AOh14GiOC_XQxtwkufSV38J42QN0teV5PKC9LlYXQ2mCEA=s64",
      "userId": "01891466493932664969"
     },
     "user_tz": 180
    },
    "id": "P7zhG0W8XIUD",
    "outputId": "d6a33436-09aa-40cb-f283-087cbd26f415"
   },
   "outputs": [],
   "source": [
    "# # Learning rate scheduler\n",
    "# lr_scheduler = tf.keras.optimizers.schedules.ExponentialDecay(\n",
    "# initial_learning_rate=1e-4,\n",
    "# decay_steps=827*20,\n",
    "# decay_rate=0.1,\n",
    "# staircase=True)\n",
    "\n",
    "# Change learning rate after a few epochs of training\n",
    "optimizer = tf.keras.optimizers.SGD(\n",
    "    learning_rate=1e-6, momentum=0.9, nesterov=True)\n",
    "\n",
    "# Metrics - if there's need to change\n",
    "metrics = [CategoricalAccuracy(name='Categorical Accuracy'),\n",
    "           macro_f1, weighted_f1]\n",
    "\n",
    "# Compile model\n",
    "model.compile(optimizer=optimizer, loss=\"categorical_crossentropy\",\n",
    "              metrics=metrics)"
   ]
  },
  {
   "cell_type": "code",
   "execution_count": 18,
   "metadata": {
    "pycharm": {
     "name": "#%%\n"
    }
   },
   "outputs": [
    {
     "data": {
      "text/plain": [
       "{'name': 'SGD',\n",
       " 'learning_rate': 1e-06,\n",
       " 'decay': 0.0,\n",
       " 'momentum': 0.9,\n",
       " 'nesterov': True}"
      ]
     },
     "execution_count": 18,
     "metadata": {},
     "output_type": "execute_result"
    }
   ],
   "source": [
    "model.optimizer.get_config()"
   ]
  },
  {
   "cell_type": "code",
   "execution_count": 8,
   "metadata": {
    "executionInfo": {
     "elapsed": 6,
     "status": "ok",
     "timestamp": 1635513216850,
     "user": {
      "displayName": "Pedro Torres",
      "photoUrl": "https://lh3.googleusercontent.com/a-/AOh14GiOC_XQxtwkufSV38J42QN0teV5PKC9LlYXQ2mCEA=s64",
      "userId": "01891466493932664969"
     },
     "user_tz": 180
    },
    "id": "lGU1Fd5fgphp"
   },
   "outputs": [],
   "source": [
    "# Save whole model's state based on validation loss (best only)\n",
    "checkpoint = tf.keras.callbacks.ModelCheckpoint(\n",
    "    \"./models/oversampled/effNetB2_oversFull{epoch:02d}\",\n",
    "    monitor='val_loss', verbose=1, save_best_only=True,\n",
    "    save_weights_only=False, mode='min')\n",
    "\n",
    "# Save model's history to '.csv' file\n",
    "csv_logger = tf.keras.callbacks.CSVLogger(\n",
    "    \"./models/oversampled/effNetB2_oversFullHist.csv\",\n",
    "    separator=\",\",\n",
    "    append=True)"
   ]
  },
  {
   "cell_type": "code",
   "execution_count": 19,
   "metadata": {
    "colab": {
     "base_uri": "https://localhost:8080/"
    },
    "executionInfo": {
     "elapsed": 9307203,
     "status": "ok",
     "timestamp": 1635522524048,
     "user": {
      "displayName": "Pedro Torres",
      "photoUrl": "https://lh3.googleusercontent.com/a-/AOh14GiOC_XQxtwkufSV38J42QN0teV5PKC9LlYXQ2mCEA=s64",
      "userId": "01891466493932664969"
     },
     "user_tz": 180
    },
    "id": "pmsC6NHUev0r",
    "outputId": "1d1e3d16-c4f4-42b5-dbec-61405b4e8810",
    "scrolled": true
   },
   "outputs": [
    {
     "name": "stdout",
     "output_type": "stream",
     "text": [
      "Epoch 91/100\n",
      "2280/2280 [==============================] - 1417s 622ms/step - loss: 1.1901 - Categorical Accuracy: 0.5718 - Macro F1: 0.5614 - Weighted F1: 0.5605 - val_loss: 0.9943 - val_Categorical Accuracy: 0.6423 - val_Macro F1: 0.3929 - val_Weighted F1: 0.6053\n",
      "\n",
      "Epoch 00091: val_loss improved from 0.99629 to 0.99427, saving model to ./models/oversampled/effNetB2_oversFull91\n",
      "INFO:tensorflow:Assets written to: ./models/oversampled/effNetB2_oversFull91/assets\n"
     ]
    },
    {
     "name": "stderr",
     "output_type": "stream",
     "text": [
      "INFO:tensorflow:Assets written to: ./models/oversampled/effNetB2_oversFull91/assets\n"
     ]
    },
    {
     "name": "stdout",
     "output_type": "stream",
     "text": [
      "Epoch 92/100\n",
      "2280/2280 [==============================] - 1414s 620ms/step - loss: 1.1874 - Categorical Accuracy: 0.5711 - Macro F1: 0.5607 - Weighted F1: 0.5599 - val_loss: 0.9866 - val_Categorical Accuracy: 0.6435 - val_Macro F1: 0.3976 - val_Weighted F1: 0.6051\n",
      "\n",
      "Epoch 00092: val_loss improved from 0.99427 to 0.98658, saving model to ./models/oversampled/effNetB2_oversFull92\n",
      "INFO:tensorflow:Assets written to: ./models/oversampled/effNetB2_oversFull92/assets\n"
     ]
    },
    {
     "name": "stderr",
     "output_type": "stream",
     "text": [
      "INFO:tensorflow:Assets written to: ./models/oversampled/effNetB2_oversFull92/assets\n"
     ]
    },
    {
     "name": "stdout",
     "output_type": "stream",
     "text": [
      "Epoch 93/100\n",
      "2280/2280 [==============================] - 1419s 622ms/step - loss: 1.1856 - Categorical Accuracy: 0.5718 - Macro F1: 0.5616 - Weighted F1: 0.5607 - val_loss: 1.0001 - val_Categorical Accuracy: 0.6445 - val_Macro F1: 0.3964 - val_Weighted F1: 0.6070\n",
      "\n",
      "Epoch 00093: val_loss did not improve from 0.98658\n",
      "Epoch 94/100\n",
      "2280/2280 [==============================] - 1421s 623ms/step - loss: 1.1827 - Categorical Accuracy: 0.5753 - Macro F1: 0.5653 - Weighted F1: 0.5644 - val_loss: 0.9873 - val_Categorical Accuracy: 0.6447 - val_Macro F1: 0.3944 - val_Weighted F1: 0.6030\n",
      "\n",
      "Epoch 00094: val_loss did not improve from 0.98658\n",
      "Epoch 95/100\n",
      "2280/2280 [==============================] - 1421s 623ms/step - loss: 1.1806 - Categorical Accuracy: 0.5742 - Macro F1: 0.5643 - Weighted F1: 0.5633 - val_loss: 0.9912 - val_Categorical Accuracy: 0.6427 - val_Macro F1: 0.3958 - val_Weighted F1: 0.6066\n",
      "\n",
      "Epoch 00095: val_loss did not improve from 0.98658\n",
      "Epoch 96/100\n",
      "2280/2280 [==============================] - 1421s 623ms/step - loss: 1.1781 - Categorical Accuracy: 0.5731 - Macro F1: 0.5629 - Weighted F1: 0.5620 - val_loss: 0.9901 - val_Categorical Accuracy: 0.6461 - val_Macro F1: 0.4051 - val_Weighted F1: 0.6071\n",
      "\n",
      "Epoch 00096: val_loss did not improve from 0.98658\n",
      "Epoch 97/100\n",
      "2280/2280 [==============================] - 1417s 622ms/step - loss: 1.1760 - Categorical Accuracy: 0.5767 - Macro F1: 0.5667 - Weighted F1: 0.5658 - val_loss: 0.9833 - val_Categorical Accuracy: 0.6518 - val_Macro F1: 0.4228 - val_Weighted F1: 0.6171\n",
      "\n",
      "Epoch 00097: val_loss improved from 0.98658 to 0.98332, saving model to ./models/oversampled/effNetB2_oversFull97\n",
      "INFO:tensorflow:Assets written to: ./models/oversampled/effNetB2_oversFull97/assets\n"
     ]
    },
    {
     "name": "stderr",
     "output_type": "stream",
     "text": [
      "INFO:tensorflow:Assets written to: ./models/oversampled/effNetB2_oversFull97/assets\n"
     ]
    },
    {
     "name": "stdout",
     "output_type": "stream",
     "text": [
      "Epoch 98/100\n",
      "2280/2280 [==============================] - 1418s 622ms/step - loss: 1.1742 - Categorical Accuracy: 0.5765 - Macro F1: 0.5666 - Weighted F1: 0.5657 - val_loss: 0.9809 - val_Categorical Accuracy: 0.6441 - val_Macro F1: 0.4027 - val_Weighted F1: 0.6061\n",
      "\n",
      "Epoch 00098: val_loss improved from 0.98332 to 0.98094, saving model to ./models/oversampled/effNetB2_oversFull98\n",
      "INFO:tensorflow:Assets written to: ./models/oversampled/effNetB2_oversFull98/assets\n"
     ]
    },
    {
     "name": "stderr",
     "output_type": "stream",
     "text": [
      "INFO:tensorflow:Assets written to: ./models/oversampled/effNetB2_oversFull98/assets\n"
     ]
    },
    {
     "name": "stdout",
     "output_type": "stream",
     "text": [
      "Epoch 99/100\n",
      "2280/2280 [==============================] - 1417s 621ms/step - loss: 1.1731 - Categorical Accuracy: 0.5762 - Macro F1: 0.5664 - Weighted F1: 0.5655 - val_loss: 0.9803 - val_Categorical Accuracy: 0.6435 - val_Macro F1: 0.3924 - val_Weighted F1: 0.6053\n",
      "\n",
      "Epoch 00099: val_loss improved from 0.98094 to 0.98031, saving model to ./models/oversampled/effNetB2_oversFull99\n",
      "INFO:tensorflow:Assets written to: ./models/oversampled/effNetB2_oversFull99/assets\n"
     ]
    },
    {
     "name": "stderr",
     "output_type": "stream",
     "text": [
      "INFO:tensorflow:Assets written to: ./models/oversampled/effNetB2_oversFull99/assets\n"
     ]
    },
    {
     "name": "stdout",
     "output_type": "stream",
     "text": [
      "Epoch 100/100\n",
      "2280/2280 [==============================] - 1409s 618ms/step - loss: 1.1700 - Categorical Accuracy: 0.5775 - Macro F1: 0.5678 - Weighted F1: 0.5668 - val_loss: 1.0038 - val_Categorical Accuracy: 0.6423 - val_Macro F1: 0.3799 - val_Weighted F1: 0.6050\n",
      "\n",
      "Epoch 00100: val_loss did not improve from 0.98031\n"
     ]
    }
   ],
   "source": [
    "# CHECK 'epoch' AND 'initial_epoch' BEFORE RUNNING NOTEBOOK\n",
    "\n",
    "# ALL layers training\n",
    "history = model.fit(train_generator, validation_data=val_generator, epochs=100,\n",
    "                    callbacks=[checkpoint, csv_logger],\n",
    "                    initial_epoch=90)"
   ]
  },
  {
   "cell_type": "code",
   "execution_count": 25,
   "metadata": {
    "executionInfo": {
     "elapsed": 529,
     "status": "ok",
     "timestamp": 1635522524574,
     "user": {
      "displayName": "Pedro Torres",
      "photoUrl": "https://lh3.googleusercontent.com/a-/AOh14GiOC_XQxtwkufSV38J42QN0teV5PKC9LlYXQ2mCEA=s64",
      "userId": "01891466493932664969"
     },
     "user_tz": 180
    },
    "id": "joQS7aaxfUuV"
   },
   "outputs": [],
   "source": [
    "# # Save metrics without using callbacks\n",
    "# # CHECK WHAT IS TO BE SAVED (history_df OR new_entries)\n",
    "\n",
    "# # Open csv with top layers' training metrics\n",
    "# history_df = pd.read_csv(\"./models/nesterov/effNetB2_nesterovHistory.csv\")\n",
    "\n",
    "# # Make new dataframe with current values\n",
    "# new_entries = pd.DataFrame.from_dict(history.history)\n",
    "\n",
    "# # Append new values to old dataframe\n",
    "# history_df = history_df.append(new_entries, ignore_index=True)\n",
    "\n",
    "# # Save metrics' history as CSV\n",
    "# history_df.to_csv(\n",
    "#     \"./models/nesterov/effNetB2_nesterovHistory.csv\",\n",
    "#     index=False)"
   ]
  },
  {
   "cell_type": "code",
   "execution_count": 20,
   "metadata": {
    "colab": {
     "base_uri": "https://localhost:8080/"
    },
    "executionInfo": {
     "elapsed": 44931,
     "status": "ok",
     "timestamp": 1635522569501,
     "user": {
      "displayName": "Pedro Torres",
      "photoUrl": "https://lh3.googleusercontent.com/a-/AOh14GiOC_XQxtwkufSV38J42QN0teV5PKC9LlYXQ2mCEA=s64",
      "userId": "01891466493932664969"
     },
     "user_tz": 180
    },
    "id": "Z-qhjpfDfC6B",
    "outputId": "45dd4f0f-f6f8-49ec-d34f-e6a6db5de65b"
   },
   "outputs": [
    {
     "name": "stdout",
     "output_type": "stream",
     "text": [
      "INFO:tensorflow:Assets written to: ./models/oversampled/effNetB2_oversFull_100/assets\n"
     ]
    },
    {
     "name": "stderr",
     "output_type": "stream",
     "text": [
      "INFO:tensorflow:Assets written to: ./models/oversampled/effNetB2_oversFull_100/assets\n"
     ]
    }
   ],
   "source": [
    "# CHECK CURRENT EPOCH BEFORE SAVING\n",
    "\n",
    "# Save whole model\n",
    "model.save(\n",
    "    \"./models/oversampled/effNetB2_oversFull_100\")"
   ]
  },
  {
   "cell_type": "markdown",
   "metadata": {
    "id": "O4gVh-W38p8k"
   },
   "source": [
    "##### Resultados"
   ]
  },
  {
   "cell_type": "markdown",
   "metadata": {
    "id": "Nz8bLi4S85NQ"
   },
   "source": [
    "Valores de perda do conjunto de treino e de validação"
   ]
  },
  {
   "cell_type": "code",
   "execution_count": 13,
   "metadata": {
    "colab": {
     "base_uri": "https://localhost:8080/",
     "height": 282
    },
    "executionInfo": {
     "elapsed": 659,
     "status": "ok",
     "timestamp": 1635522570155,
     "user": {
      "displayName": "Pedro Torres",
      "photoUrl": "https://lh3.googleusercontent.com/a-/AOh14GiOC_XQxtwkufSV38J42QN0teV5PKC9LlYXQ2mCEA=s64",
      "userId": "01891466493932664969"
     },
     "user_tz": 180
    },
    "id": "Dvz6denX8u5j",
    "outputId": "21c4647a-8f47-44f2-b3ec-a7538b0ade4b"
   },
   "outputs": [
    {
     "data": {
      "text/plain": [
       "<matplotlib.axes._subplots.AxesSubplot at 0x7f0c48aa3100>"
      ]
     },
     "execution_count": 13,
     "metadata": {},
     "output_type": "execute_result"
    },
    {
     "data": {
      "image/png": "[encoded data removed]",
      "text/plain": [
       "<Figure size 432x288 with 1 Axes>"
      ]
     },
     "metadata": {
      "needs_background": "light"
     },
     "output_type": "display_data"
    }
   ],
   "source": [
    "history_df = pd.read_csv(\"./models/oversampled/effNetB2_oversFullHist.csv\")\n",
    "# history_df = new_entries\n",
    "\n",
    "history_df.plot(y=['loss', 'val_loss'], ylim=(0, 2.5))"
   ]
  },
  {
   "cell_type": "markdown",
   "metadata": {
    "id": "YaWXuu9g9KGH"
   },
   "source": [
    "Todas as métricas"
   ]
  },
  {
   "cell_type": "code",
   "execution_count": 34,
   "metadata": {
    "colab": {
     "base_uri": "https://localhost:8080/",
     "height": 1000
    },
    "executionInfo": {
     "elapsed": 918,
     "status": "ok",
     "timestamp": 1635522571669,
     "user": {
      "displayName": "Pedro Torres",
      "photoUrl": "https://lh3.googleusercontent.com/a-/AOh14GiOC_XQxtwkufSV38J42QN0teV5PKC9LlYXQ2mCEA=s64",
      "userId": "01891466493932664969"
     },
     "user_tz": 180
    },
    "id": "JZz0vLdr84PX",
    "outputId": "3b42f01b-d282-429f-a5f8-a533109909cb",
    "scrolled": true
   },
   "outputs": [
    {
     "data": {
      "image/png": "[encoded data removed]",
      "text/plain": [
       "<Figure size 432x288 with 1 Axes>"
      ]
     },
     "metadata": {
      "needs_background": "light"
     },
     "output_type": "display_data"
    },
    {
     "name": "stdout",
     "output_type": "stream",
     "text": [
      "\n"
     ]
    },
    {
     "data": {
      "image/png": "[encoded data removed]",
      "text/plain": [
       "<Figure size 432x288 with 1 Axes>"
      ]
     },
     "metadata": {
      "needs_background": "light"
     },
     "output_type": "display_data"
    },
    {
     "name": "stdout",
     "output_type": "stream",
     "text": [
      "\n"
     ]
    },
    {
     "data": {
      "image/png": "[encoded data removed]",
      "text/plain": [
       "<Figure size 432x288 with 1 Axes>"
      ]
     },
     "metadata": {
      "needs_background": "light"
     },
     "output_type": "display_data"
    },
    {
     "name": "stdout",
     "output_type": "stream",
     "text": [
      "\n"
     ]
    },
    {
     "data": {
      "image/png": "[encoded data removed]",
      "text/plain": [
       "<Figure size 432x288 with 1 Axes>"
      ]
     },
     "metadata": {
      "needs_background": "light"
     },
     "output_type": "display_data"
    }
   ],
   "source": [
    "history_df = pd.read_csv(\"./models/oversampled/effNetB2_oversFullHist.csv\")\n",
    "\n",
    "# Summarize history for loss\n",
    "plt.plot(history_df['loss'])\n",
    "plt.plot(history_df['val_loss'])\n",
    "plt.ylim((0, 2.2))\n",
    "plt.title('Model\\'s loss')\n",
    "plt.ylabel('loss')\n",
    "plt.xlabel('epoch')\n",
    "plt.legend(['Train', 'Validation'], loc='upper right')\n",
    "plt.show()\n",
    "print()\n",
    "\n",
    "# Summarize history for accuracy\n",
    "plt.plot(history_df['Categorical Accuracy'])\n",
    "plt.plot(history_df['val_Categorical Accuracy'])\n",
    "plt.title('Model\\'s accuracy')\n",
    "plt.ylabel('Categorical Accuracy')\n",
    "plt.xlabel('Epoch')\n",
    "plt.legend(['Train', 'Validation'], loc='upper left')\n",
    "plt.show()\n",
    "print()\n",
    "\n",
    "# Summarize history for MACRO avg. F1-Score\n",
    "plt.plot(history_df['Macro F1'])\n",
    "plt.plot(history_df['val_Macro F1'])\n",
    "plt.title('Model\\'s macro averaged F1-Score')\n",
    "plt.ylabel('Macro avg. F1-Score')\n",
    "plt.xlabel('Epoch')\n",
    "plt.legend(['Train', 'Validation'], loc='upper left')\n",
    "plt.show()\n",
    "print()\n",
    "\n",
    "# Summarize history for WEIGHTED avg. F1\n",
    "plt.plot(history_df['Weighted F1'])\n",
    "plt.plot(history_df['val_Weighted F1'])\n",
    "plt.title('Model\\'s weighted average F1-Score')\n",
    "plt.ylabel('Weighted avg. F1-Score')\n",
    "plt.xlabel('Epoch')\n",
    "plt.legend(['Train', 'Validation'], loc='upper left')\n",
    "plt.show()"
   ]
  },
  {
   "cell_type": "code",
   "execution_count": 36,
   "metadata": {
    "scrolled": true
   },
   "outputs": [
    {
     "data": {
      "image/png": "[encoded data removed]",
      "text/plain": [
       "<Figure size 360x360 with 1 Axes>"
      ]
     },
     "metadata": {
      "needs_background": "light"
     },
     "output_type": "display_data"
    },
    {
     "data": {
      "image/png": "[encoded data removed]",
      "text/plain": [
       "<Figure size 360x360 with 1 Axes>"
      ]
     },
     "metadata": {
      "needs_background": "light"
     },
     "output_type": "display_data"
    }
   ],
   "source": [
    "# Summarize history for loss\n",
    "fig_loss = plt.figure(figsize=(5, 5))\n",
    "ax_loss  = plt.subplot()\n",
    "ax_loss.plot(history_df['loss'])\n",
    "ax_loss.plot(history_df['val_loss'])\n",
    "plt.ylim((0, 2.2))\n",
    "plt.title(\"Perda do modelo Oversampled em função das épocas\")\n",
    "plt.ylabel('Perda')\n",
    "plt.xlabel('Época')\n",
    "plt.legend(['Treino', 'Validação'], loc='upper right')\n",
    "\n",
    "plt.savefig(\"./figures/overs_loss5.png\")\n",
    "\n",
    "# Summarize history for accuracy\n",
    "fig_acc = plt.figure(figsize=(5, 5))\n",
    "ax_acc  = plt.subplot()\n",
    "ax_acc.plot(history_df['Categorical Accuracy'])\n",
    "ax_acc.plot(history_df['val_Categorical Accuracy'])\n",
    "plt.ylim((0, 1))\n",
    "plt.title(\"Acurácia média do modelo Oversampled\")\n",
    "plt.ylabel(\"Acurácia\")\n",
    "plt.xlabel(\"Época\")\n",
    "plt.legend(['Treino', 'Validação'], loc='upper right')\n",
    "\n",
    "plt.savefig(\"./figures/overs_acc5.png\")\n",
    "\n",
    "# # Summarize history for MACRO avg. F1-Score\n",
    "# fig_f1 = plt.figure(figsize=(5, 5))\n",
    "# ax_f1 = plt.subplot()\n",
    "# ax_f1.plot(history_df['Macro F1'])\n",
    "# ax_f1.plot(history_df['val_Macro F1'])\n",
    "# plt.title(\"F1-score médio do modelo\")\n",
    "# plt.ylabel(\"F1-Score\")\n",
    "# plt.xlabel(\"Época\")\n",
    "# plt.legend(['Train', 'Validation'], loc='lower right')\n",
    "\n",
    "# plt.savefig(\"sgd_f1_5.png\")"
   ]
  },
  {
   "cell_type": "markdown",
   "metadata": {
    "id": "ryIvxk9MpuxV"
   },
   "source": [
    "## Testes"
   ]
  },
  {
   "cell_type": "markdown",
   "metadata": {},
   "source": [
    "### Nesterov learning rate"
   ]
  },
  {
   "cell_type": "markdown",
   "metadata": {
    "id": "RzVCfhfWv_3T"
   },
   "source": [
    "#### Conjunto de validação"
   ]
  },
  {
   "cell_type": "code",
   "execution_count": 30,
   "metadata": {
    "colab": {
     "base_uri": "https://localhost:8080/"
    },
    "executionInfo": {
     "elapsed": 23696,
     "status": "ok",
     "timestamp": 1635522595363,
     "user": {
      "displayName": "Pedro Torres",
      "photoUrl": "https://lh3.googleusercontent.com/a-/AOh14GiOC_XQxtwkufSV38J42QN0teV5PKC9LlYXQ2mCEA=s64",
      "userId": "01891466493932664969"
     },
     "user_tz": 180
    },
    "id": "RZ263QwB_6wn",
    "outputId": "5ffb85f6-8f77-40a1-fe35-299e8732f1fb"
   },
   "outputs": [
    {
     "name": "stderr",
     "output_type": "stream",
     "text": [
      "WARNING:absl:Importing a function (__inference_block7b_expand_activation_layer_call_and_return_conditional_losses_869757) with ops with custom gradients. Will likely fail if a gradient is requested.\n",
      "WARNING:absl:Importing a function (__inference_block5b_se_reduce_layer_call_and_return_conditional_losses_888185) with ops with custom gradients. Will likely fail if a gradient is requested.\n",
      "WARNING:absl:Importing a function (__inference_block6b_se_reduce_layer_call_and_return_conditional_losses_868253) with ops with custom gradients. Will likely fail if a gradient is requested.\n",
      "WARNING:absl:Importing a function (__inference_block2c_activation_layer_call_and_return_conditional_losses_864099) with ops with custom gradients. Will likely fail if a gradient is requested.\n",
      "WARNING:absl:Importing a function (__inference_block6c_activation_layer_call_and_return_conditional_losses_868538) with ops with custom gradients. Will likely fail if a gradient is requested.\n",
      "WARNING:absl:Importing a function (__inference_block6d_expand_activation_layer_call_and_return_conditional_losses_868814) with ops with custom gradients. Will likely fail if a gradient is requested.\n",
      "WARNING:absl:Importing a function (__inference_block7b_se_reduce_layer_call_and_return_conditional_losses_891448) with ops with custom gradients. Will likely fail if a gradient is requested.\n",
      "WARNING:absl:Importing a function (__inference_block5a_se_reduce_layer_call_and_return_conditional_losses_866698) with ops with custom gradients. Will likely fail if a gradient is requested.\n",
      "WARNING:absl:Importing a function (__inference_block3b_expand_activation_layer_call_and_return_conditional_losses_885549) with ops with custom gradients. Will likely fail if a gradient is requested.\n",
      "WARNING:absl:Importing a function (__inference_block3a_activation_layer_call_and_return_conditional_losses_864432) with ops with custom gradients. Will likely fail if a gradient is requested.\n",
      "WARNING:absl:Importing a function (__inference_stem_activation_layer_call_and_return_conditional_losses_862892) with ops with custom gradients. Will likely fail if a gradient is requested.\n",
      "WARNING:absl:Importing a function (__inference_block5b_activation_layer_call_and_return_conditional_losses_888145) with ops with custom gradients. Will likely fail if a gradient is requested.\n",
      "WARNING:absl:Importing a function (__inference_block4d_expand_activation_layer_call_and_return_conditional_losses_887367) with ops with custom gradients. Will likely fail if a gradient is requested.\n",
      "WARNING:absl:Importing a function (__inference_block6c_expand_activation_layer_call_and_return_conditional_losses_868482) with ops with custom gradients. Will likely fail if a gradient is requested.\n",
      "WARNING:absl:Importing a function (__inference_block4a_se_reduce_layer_call_and_return_conditional_losses_865423) with ops with custom gradients. Will likely fail if a gradient is requested.\n",
      "WARNING:absl:Importing a function (__inference_block6d_se_reduce_layer_call_and_return_conditional_losses_890376) with ops with custom gradients. Will likely fail if a gradient is requested.\n",
      "WARNING:absl:Importing a function (__inference_block5c_expand_activation_layer_call_and_return_conditional_losses_888439) with ops with custom gradients. Will likely fail if a gradient is requested.\n",
      "WARNING:absl:Importing a function (__inference_block1b_se_reduce_layer_call_and_return_conditional_losses_863202) with ops with custom gradients. Will likely fail if a gradient is requested.\n",
      "WARNING:absl:Importing a function (__inference_block4b_se_reduce_layer_call_and_return_conditional_losses_865702) with ops with custom gradients. Will likely fail if a gradient is requested.\n",
      "WARNING:absl:Importing a function (__inference_block2b_activation_layer_call_and_return_conditional_losses_863767) with ops with custom gradients. Will likely fail if a gradient is requested.\n",
      "WARNING:absl:Importing a function (__inference_block2a_se_reduce_layer_call_and_return_conditional_losses_884270) with ops with custom gradients. Will likely fail if a gradient is requested.\n",
      "WARNING:absl:Importing a function (__inference_block6d_activation_layer_call_and_return_conditional_losses_890336) with ops with custom gradients. Will likely fail if a gradient is requested.\n",
      "WARNING:absl:Importing a function (__inference_block3b_se_reduce_layer_call_and_return_conditional_losses_864758) with ops with custom gradients. Will likely fail if a gradient is requested.\n",
      "WARNING:absl:Importing a function (__inference_block5a_expand_activation_layer_call_and_return_conditional_losses_866595) with ops with custom gradients. Will likely fail if a gradient is requested.\n",
      "WARNING:absl:Importing a function (__inference_block4c_expand_activation_layer_call_and_return_conditional_losses_886994) with ops with custom gradients. Will likely fail if a gradient is requested.\n",
      "WARNING:absl:Importing a function (__inference_block6e_activation_layer_call_and_return_conditional_losses_890709) with ops with custom gradients. Will likely fail if a gradient is requested.\n",
      "WARNING:absl:Importing a function (__inference_block1b_se_reduce_layer_call_and_return_conditional_losses_883897) with ops with custom gradients. Will likely fail if a gradient is requested.\n",
      "WARNING:absl:Importing a function (__inference_block5b_expand_activation_layer_call_and_return_conditional_losses_888066) with ops with custom gradients. Will likely fail if a gradient is requested.\n",
      "WARNING:absl:Importing a function (__inference_block7b_activation_layer_call_and_return_conditional_losses_869813) with ops with custom gradients. Will likely fail if a gradient is requested.\n",
      "WARNING:absl:Importing a function (__inference_block4d_se_reduce_layer_call_and_return_conditional_losses_887486) with ops with custom gradients. Will likely fail if a gradient is requested.\n",
      "WARNING:absl:Importing a function (__inference_block6b_expand_activation_layer_call_and_return_conditional_losses_868150) with ops with custom gradients. Will likely fail if a gradient is requested.\n",
      "WARNING:absl:Importing a function (__inference_block4c_activation_layer_call_and_return_conditional_losses_865987) with ops with custom gradients. Will likely fail if a gradient is requested.\n",
      "WARNING:absl:Importing a function (__inference__wrapped_model_854699) with ops with custom gradients. Will likely fail if a gradient is requested.\n",
      "WARNING:absl:Importing a function (__inference__wrapped_model_854699) with ops with custom gradients. Will likely fail if a gradient is requested.\n",
      "WARNING:absl:Importing a function (__inference__wrapped_model_854699) with ops with custom gradients. Will likely fail if a gradient is requested.\n",
      "WARNING:absl:Importing a function (__inference__wrapped_model_854699) with ops with custom gradients. Will likely fail if a gradient is requested.\n",
      "WARNING:absl:Importing a function (__inference__wrapped_model_854699) with ops with custom gradients. Will likely fail if a gradient is requested.\n",
      "WARNING:absl:Importing a function (__inference__wrapped_model_854699) with ops with custom gradients. Will likely fail if a gradient is requested.\n",
      "WARNING:absl:Importing a function (__inference__wrapped_model_854699) with ops with custom gradients. Will likely fail if a gradient is requested.\n",
      "WARNING:absl:Importing a function (__inference__wrapped_model_854699) with ops with custom gradients. Will likely fail if a gradient is requested.\n",
      "WARNING:absl:Importing a function (__inference__wrapped_model_854699) with ops with custom gradients. Will likely fail if a gradient is requested.\n",
      "WARNING:absl:Importing a function (__inference__wrapped_model_854699) with ops with custom gradients. Will likely fail if a gradient is requested.\n",
      "WARNING:absl:Importing a function (__inference__wrapped_model_854699) with ops with custom gradients. Will likely fail if a gradient is requested.\n",
      "WARNING:absl:Importing a function (__inference__wrapped_model_854699) with ops with custom gradients. Will likely fail if a gradient is requested.\n",
      "WARNING:absl:Importing a function (__inference__wrapped_model_854699) with ops with custom gradients. Will likely fail if a gradient is requested.\n",
      "WARNING:absl:Importing a function (__inference__wrapped_model_854699) with ops with custom gradients. Will likely fail if a gradient is requested.\n"
     ]
    },
    {
     "name": "stderr",
     "output_type": "stream",
     "text": [
      "WARNING:absl:Importing a function (__inference__wrapped_model_854699) with ops with custom gradients. Will likely fail if a gradient is requested.\n",
      "WARNING:absl:Importing a function (__inference__wrapped_model_854699) with ops with custom gradients. Will likely fail if a gradient is requested.\n",
      "WARNING:absl:Importing a function (__inference__wrapped_model_854699) with ops with custom gradients. Will likely fail if a gradient is requested.\n",
      "WARNING:absl:Importing a function (__inference__wrapped_model_854699) with ops with custom gradients. Will likely fail if a gradient is requested.\n",
      "WARNING:absl:Importing a function (__inference__wrapped_model_854699) with ops with custom gradients. Will likely fail if a gradient is requested.\n",
      "WARNING:absl:Importing a function (__inference__wrapped_model_854699) with ops with custom gradients. Will likely fail if a gradient is requested.\n",
      "WARNING:absl:Importing a function (__inference__wrapped_model_854699) with ops with custom gradients. Will likely fail if a gradient is requested.\n",
      "WARNING:absl:Importing a function (__inference__wrapped_model_854699) with ops with custom gradients. Will likely fail if a gradient is requested.\n",
      "WARNING:absl:Importing a function (__inference__wrapped_model_854699) with ops with custom gradients. Will likely fail if a gradient is requested.\n",
      "WARNING:absl:Importing a function (__inference__wrapped_model_854699) with ops with custom gradients. Will likely fail if a gradient is requested.\n",
      "WARNING:absl:Importing a function (__inference__wrapped_model_854699) with ops with custom gradients. Will likely fail if a gradient is requested.\n",
      "WARNING:absl:Importing a function (__inference__wrapped_model_854699) with ops with custom gradients. Will likely fail if a gradient is requested.\n",
      "WARNING:absl:Importing a function (__inference__wrapped_model_854699) with ops with custom gradients. Will likely fail if a gradient is requested.\n",
      "WARNING:absl:Importing a function (__inference__wrapped_model_854699) with ops with custom gradients. Will likely fail if a gradient is requested.\n",
      "WARNING:absl:Importing a function (__inference__wrapped_model_854699) with ops with custom gradients. Will likely fail if a gradient is requested.\n",
      "WARNING:absl:Importing a function (__inference__wrapped_model_854699) with ops with custom gradients. Will likely fail if a gradient is requested.\n",
      "WARNING:absl:Importing a function (__inference__wrapped_model_854699) with ops with custom gradients. Will likely fail if a gradient is requested.\n",
      "WARNING:absl:Importing a function (__inference__wrapped_model_854699) with ops with custom gradients. Will likely fail if a gradient is requested.\n",
      "WARNING:absl:Importing a function (__inference__wrapped_model_854699) with ops with custom gradients. Will likely fail if a gradient is requested.\n",
      "WARNING:absl:Importing a function (__inference__wrapped_model_854699) with ops with custom gradients. Will likely fail if a gradient is requested.\n",
      "WARNING:absl:Importing a function (__inference__wrapped_model_854699) with ops with custom gradients. Will likely fail if a gradient is requested.\n",
      "WARNING:absl:Importing a function (__inference__wrapped_model_854699) with ops with custom gradients. Will likely fail if a gradient is requested.\n",
      "WARNING:absl:Importing a function (__inference__wrapped_model_854699) with ops with custom gradients. Will likely fail if a gradient is requested.\n",
      "WARNING:absl:Importing a function (__inference__wrapped_model_854699) with ops with custom gradients. Will likely fail if a gradient is requested.\n",
      "WARNING:absl:Importing a function (__inference__wrapped_model_854699) with ops with custom gradients. Will likely fail if a gradient is requested.\n",
      "WARNING:absl:Importing a function (__inference__wrapped_model_854699) with ops with custom gradients. Will likely fail if a gradient is requested.\n",
      "WARNING:absl:Importing a function (__inference__wrapped_model_854699) with ops with custom gradients. Will likely fail if a gradient is requested.\n",
      "WARNING:absl:Importing a function (__inference__wrapped_model_854699) with ops with custom gradients. Will likely fail if a gradient is requested.\n",
      "WARNING:absl:Importing a function (__inference__wrapped_model_854699) with ops with custom gradients. Will likely fail if a gradient is requested.\n",
      "WARNING:absl:Importing a function (__inference__wrapped_model_854699) with ops with custom gradients. Will likely fail if a gradient is requested.\n",
      "WARNING:absl:Importing a function (__inference__wrapped_model_854699) with ops with custom gradients. Will likely fail if a gradient is requested.\n",
      "WARNING:absl:Importing a function (__inference__wrapped_model_854699) with ops with custom gradients. Will likely fail if a gradient is requested.\n",
      "WARNING:absl:Importing a function (__inference__wrapped_model_854699) with ops with custom gradients. Will likely fail if a gradient is requested.\n",
      "WARNING:absl:Importing a function (__inference__wrapped_model_854699) with ops with custom gradients. Will likely fail if a gradient is requested.\n",
      "WARNING:absl:Importing a function (__inference__wrapped_model_854699) with ops with custom gradients. Will likely fail if a gradient is requested.\n",
      "WARNING:absl:Importing a function (__inference__wrapped_model_854699) with ops with custom gradients. Will likely fail if a gradient is requested.\n",
      "WARNING:absl:Importing a function (__inference__wrapped_model_854699) with ops with custom gradients. Will likely fail if a gradient is requested.\n",
      "WARNING:absl:Importing a function (__inference__wrapped_model_854699) with ops with custom gradients. Will likely fail if a gradient is requested.\n",
      "WARNING:absl:Importing a function (__inference__wrapped_model_854699) with ops with custom gradients. Will likely fail if a gradient is requested.\n",
      "WARNING:absl:Importing a function (__inference__wrapped_model_854699) with ops with custom gradients. Will likely fail if a gradient is requested.\n",
      "WARNING:absl:Importing a function (__inference__wrapped_model_854699) with ops with custom gradients. Will likely fail if a gradient is requested.\n",
      "WARNING:absl:Importing a function (__inference__wrapped_model_854699) with ops with custom gradients. Will likely fail if a gradient is requested.\n",
      "WARNING:absl:Importing a function (__inference__wrapped_model_854699) with ops with custom gradients. Will likely fail if a gradient is requested.\n",
      "WARNING:absl:Importing a function (__inference__wrapped_model_854699) with ops with custom gradients. Will likely fail if a gradient is requested.\n",
      "WARNING:absl:Importing a function (__inference__wrapped_model_854699) with ops with custom gradients. Will likely fail if a gradient is requested.\n",
      "WARNING:absl:Importing a function (__inference__wrapped_model_854699) with ops with custom gradients. Will likely fail if a gradient is requested.\n",
      "WARNING:absl:Importing a function (__inference__wrapped_model_854699) with ops with custom gradients. Will likely fail if a gradient is requested.\n",
      "WARNING:absl:Importing a function (__inference__wrapped_model_854699) with ops with custom gradients. Will likely fail if a gradient is requested.\n",
      "WARNING:absl:Importing a function (__inference__wrapped_model_854699) with ops with custom gradients. Will likely fail if a gradient is requested.\n",
      "WARNING:absl:Importing a function (__inference__wrapped_model_854699) with ops with custom gradients. Will likely fail if a gradient is requested.\n",
      "WARNING:absl:Importing a function (__inference__wrapped_model_854699) with ops with custom gradients. Will likely fail if a gradient is requested.\n",
      "WARNING:absl:Importing a function (__inference__wrapped_model_854699) with ops with custom gradients. Will likely fail if a gradient is requested.\n",
      "WARNING:absl:Importing a function (__inference__wrapped_model_854699) with ops with custom gradients. Will likely fail if a gradient is requested.\n",
      "WARNING:absl:Importing a function (__inference__wrapped_model_854699) with ops with custom gradients. Will likely fail if a gradient is requested.\n",
      "WARNING:absl:Importing a function (__inference__wrapped_model_854699) with ops with custom gradients. Will likely fail if a gradient is requested.\n",
      "WARNING:absl:Importing a function (__inference_block2b_se_reduce_layer_call_and_return_conditional_losses_884596) with ops with custom gradients. Will likely fail if a gradient is requested.\n"
     ]
    },
    {
     "name": "stderr",
     "output_type": "stream",
     "text": [
      "WARNING:absl:Importing a function (__inference_block3c_se_reduce_layer_call_and_return_conditional_losses_865090) with ops with custom gradients. Will likely fail if a gradient is requested.\n",
      "WARNING:absl:Importing a function (__inference_block2a_se_reduce_layer_call_and_return_conditional_losses_863535) with ops with custom gradients. Will likely fail if a gradient is requested.\n",
      "WARNING:absl:Importing a function (__inference_block5b_activation_layer_call_and_return_conditional_losses_866930) with ops with custom gradients. Will likely fail if a gradient is requested.\n",
      "WARNING:absl:Importing a function (__inference_block3a_se_reduce_layer_call_and_return_conditional_losses_864479) with ops with custom gradients. Will likely fail if a gradient is requested.\n",
      "WARNING:absl:Importing a function (__inference_block2a_expand_activation_layer_call_and_return_conditional_losses_884151) with ops with custom gradients. Will likely fail if a gradient is requested.\n",
      "WARNING:absl:Importing a function (__inference_block6a_activation_layer_call_and_return_conditional_losses_889264) with ops with custom gradients. Will likely fail if a gradient is requested.\n",
      "WARNING:absl:Importing a function (__inference_block1a_activation_layer_call_and_return_conditional_losses_862948) with ops with custom gradients. Will likely fail if a gradient is requested.\n",
      "WARNING:absl:Importing a function (__inference_block6e_expand_activation_layer_call_and_return_conditional_losses_869146) with ops with custom gradients. Will likely fail if a gradient is requested.\n",
      "WARNING:absl:Importing a function (__inference_block5a_activation_layer_call_and_return_conditional_losses_866651) with ops with custom gradients. Will likely fail if a gradient is requested.\n",
      "WARNING:absl:Importing a function (__inference_top_activation_layer_call_and_return_conditional_losses_870089) with ops with custom gradients. Will likely fail if a gradient is requested.\n",
      "WARNING:absl:Importing a function (__inference_block2c_expand_activation_layer_call_and_return_conditional_losses_884850) with ops with custom gradients. Will likely fail if a gradient is requested.\n",
      "WARNING:absl:Importing a function (__inference_block5d_activation_layer_call_and_return_conditional_losses_867594) with ops with custom gradients. Will likely fail if a gradient is requested.\n",
      "WARNING:absl:Importing a function (__inference_block7b_activation_layer_call_and_return_conditional_losses_891408) with ops with custom gradients. Will likely fail if a gradient is requested.\n",
      "WARNING:absl:Importing a function (__inference_block1a_activation_layer_call_and_return_conditional_losses_883624) with ops with custom gradients. Will likely fail if a gradient is requested.\n",
      "WARNING:absl:Importing a function (__inference_block7a_expand_activation_layer_call_and_return_conditional_losses_869478) with ops with custom gradients. Will likely fail if a gradient is requested.\n",
      "WARNING:absl:Importing a function (__inference_block6b_activation_layer_call_and_return_conditional_losses_889590) with ops with custom gradients. Will likely fail if a gradient is requested.\n",
      "WARNING:absl:Importing a function (__inference_block4a_expand_activation_layer_call_and_return_conditional_losses_886295) with ops with custom gradients. Will likely fail if a gradient is requested.\n",
      "WARNING:absl:Importing a function (__inference_block7b_expand_activation_layer_call_and_return_conditional_losses_891329) with ops with custom gradients. Will likely fail if a gradient is requested.\n",
      "WARNING:absl:Importing a function (__inference_block2c_expand_activation_layer_call_and_return_conditional_losses_864043) with ops with custom gradients. Will likely fail if a gradient is requested.\n",
      "WARNING:absl:Importing a function (__inference_block5c_activation_layer_call_and_return_conditional_losses_867262) with ops with custom gradients. Will likely fail if a gradient is requested.\n",
      "WARNING:absl:Importing a function (__inference_block4b_activation_layer_call_and_return_conditional_losses_865655) with ops with custom gradients. Will likely fail if a gradient is requested.\n",
      "WARNING:absl:Importing a function (__inference_block4a_expand_activation_layer_call_and_return_conditional_losses_865319) with ops with custom gradients. Will likely fail if a gradient is requested.\n",
      "WARNING:absl:Importing a function (__inference_block7a_expand_activation_layer_call_and_return_conditional_losses_891003) with ops with custom gradients. Will likely fail if a gradient is requested.\n",
      "WARNING:absl:Importing a function (__inference_block5c_se_reduce_layer_call_and_return_conditional_losses_867309) with ops with custom gradients. Will likely fail if a gradient is requested.\n",
      "WARNING:absl:Importing a function (__inference_block6c_se_reduce_layer_call_and_return_conditional_losses_868585) with ops with custom gradients. Will likely fail if a gradient is requested.\n",
      "WARNING:absl:Importing a function (__inference_block1b_activation_layer_call_and_return_conditional_losses_883857) with ops with custom gradients. Will likely fail if a gradient is requested.\n",
      "WARNING:absl:Importing a function (__inference_block4a_activation_layer_call_and_return_conditional_losses_886374) with ops with custom gradients. Will likely fail if a gradient is requested.\n",
      "WARNING:absl:Importing a function (__inference_block2c_se_reduce_layer_call_and_return_conditional_losses_864146) with ops with custom gradients. Will likely fail if a gradient is requested.\n",
      "WARNING:absl:Importing a function (__inference_block4a_activation_layer_call_and_return_conditional_losses_865376) with ops with custom gradients. Will likely fail if a gradient is requested.\n",
      "WARNING:absl:Importing a function (__inference_block5a_expand_activation_layer_call_and_return_conditional_losses_887740) with ops with custom gradients. Will likely fail if a gradient is requested.\n",
      "WARNING:absl:Importing a function (__inference_block6e_se_reduce_layer_call_and_return_conditional_losses_890749) with ops with custom gradients. Will likely fail if a gradient is requested.\n",
      "WARNING:absl:Importing a function (__inference_block4d_activation_layer_call_and_return_conditional_losses_866319) with ops with custom gradients. Will likely fail if a gradient is requested.\n",
      "WARNING:absl:Importing a function (__inference_block3a_activation_layer_call_and_return_conditional_losses_885302) with ops with custom gradients. Will likely fail if a gradient is requested.\n",
      "WARNING:absl:Importing a function (__inference_block6e_expand_activation_layer_call_and_return_conditional_losses_890630) with ops with custom gradients. Will likely fail if a gradient is requested.\n",
      "WARNING:absl:Importing a function (__inference_block6c_activation_layer_call_and_return_conditional_losses_889963) with ops with custom gradients. Will likely fail if a gradient is requested.\n",
      "WARNING:absl:Importing a function (__inference_block3a_se_reduce_layer_call_and_return_conditional_losses_885342) with ops with custom gradients. Will likely fail if a gradient is requested.\n",
      "WARNING:absl:Importing a function (__inference_block6b_activation_layer_call_and_return_conditional_losses_868206) with ops with custom gradients. Will likely fail if a gradient is requested.\n",
      "WARNING:absl:Importing a function (__inference_block5a_se_reduce_layer_call_and_return_conditional_losses_887859) with ops with custom gradients. Will likely fail if a gradient is requested.\n",
      "WARNING:absl:Importing a function (__inference_block6c_expand_activation_layer_call_and_return_conditional_losses_889884) with ops with custom gradients. Will likely fail if a gradient is requested.\n",
      "WARNING:absl:Importing a function (__inference_block6c_se_reduce_layer_call_and_return_conditional_losses_890003) with ops with custom gradients. Will likely fail if a gradient is requested.\n",
      "WARNING:absl:Importing a function (__inference_block6e_activation_layer_call_and_return_conditional_losses_869202) with ops with custom gradients. Will likely fail if a gradient is requested.\n",
      "WARNING:absl:Importing a function (__inference_top_activation_layer_call_and_return_conditional_losses_891702) with ops with custom gradients. Will likely fail if a gradient is requested.\n",
      "WARNING:absl:Importing a function (__inference_block6d_expand_activation_layer_call_and_return_conditional_losses_890257) with ops with custom gradients. Will likely fail if a gradient is requested.\n"
     ]
    },
    {
     "name": "stderr",
     "output_type": "stream",
     "text": [
      "WARNING:absl:Importing a function (__inference_block2b_expand_activation_layer_call_and_return_conditional_losses_884477) with ops with custom gradients. Will likely fail if a gradient is requested.\n",
      "WARNING:absl:Importing a function (__inference_block7a_activation_layer_call_and_return_conditional_losses_891082) with ops with custom gradients. Will likely fail if a gradient is requested.\n",
      "WARNING:absl:Importing a function (__inference_block6a_expand_activation_layer_call_and_return_conditional_losses_889185) with ops with custom gradients. Will likely fail if a gradient is requested.\n",
      "WARNING:absl:Importing a function (__inference_block2c_se_reduce_layer_call_and_return_conditional_losses_884969) with ops with custom gradients. Will likely fail if a gradient is requested.\n",
      "WARNING:absl:Importing a function (__inference_block5d_activation_layer_call_and_return_conditional_losses_888891) with ops with custom gradients. Will likely fail if a gradient is requested.\n",
      "WARNING:absl:Importing a function (__inference_block7b_se_reduce_layer_call_and_return_conditional_losses_869860) with ops with custom gradients. Will likely fail if a gradient is requested.\n",
      "WARNING:absl:Importing a function (__inference_block5a_activation_layer_call_and_return_conditional_losses_887819) with ops with custom gradients. Will likely fail if a gradient is requested.\n",
      "WARNING:absl:Importing a function (__inference_stem_activation_layer_call_and_return_conditional_losses_883545) with ops with custom gradients. Will likely fail if a gradient is requested.\n",
      "WARNING:absl:Importing a function (__inference_block3a_expand_activation_layer_call_and_return_conditional_losses_864375) with ops with custom gradients. Will likely fail if a gradient is requested.\n",
      "WARNING:absl:Importing a function (__inference_block4b_activation_layer_call_and_return_conditional_losses_886700) with ops with custom gradients. Will likely fail if a gradient is requested.\n",
      "WARNING:absl:Importing a function (__inference_block5d_se_reduce_layer_call_and_return_conditional_losses_867641) with ops with custom gradients. Will likely fail if a gradient is requested.\n",
      "WARNING:absl:Importing a function (__inference_block1a_se_reduce_layer_call_and_return_conditional_losses_883664) with ops with custom gradients. Will likely fail if a gradient is requested.\n",
      "WARNING:absl:Importing a function (__inference_block2a_activation_layer_call_and_return_conditional_losses_884230) with ops with custom gradients. Will likely fail if a gradient is requested.\n",
      "WARNING:absl:Importing a function (__inference_block6e_se_reduce_layer_call_and_return_conditional_losses_869249) with ops with custom gradients. Will likely fail if a gradient is requested.\n",
      "WARNING:absl:Importing a function (__inference_block7a_se_reduce_layer_call_and_return_conditional_losses_891122) with ops with custom gradients. Will likely fail if a gradient is requested.\n",
      "WARNING:absl:Importing a function (__inference_block3b_expand_activation_layer_call_and_return_conditional_losses_864655) with ops with custom gradients. Will likely fail if a gradient is requested.\n",
      "WARNING:absl:Importing a function (__inference_block3b_activation_layer_call_and_return_conditional_losses_885628) with ops with custom gradients. Will likely fail if a gradient is requested.\n",
      "WARNING:absl:Importing a function (__inference_block3c_activation_layer_call_and_return_conditional_losses_886001) with ops with custom gradients. Will likely fail if a gradient is requested.\n",
      "WARNING:absl:Importing a function (__inference_block2a_expand_activation_layer_call_and_return_conditional_losses_863431) with ops with custom gradients. Will likely fail if a gradient is requested.\n",
      "WARNING:absl:Importing a function (__inference_block3c_expand_activation_layer_call_and_return_conditional_losses_864987) with ops with custom gradients. Will likely fail if a gradient is requested.\n",
      "WARNING:absl:Importing a function (__inference_block4d_activation_layer_call_and_return_conditional_losses_887446) with ops with custom gradients. Will likely fail if a gradient is requested.\n",
      "WARNING:absl:Importing a function (__inference_block3c_activation_layer_call_and_return_conditional_losses_865043) with ops with custom gradients. Will likely fail if a gradient is requested.\n",
      "WARNING:absl:Importing a function (__inference_block4d_se_reduce_layer_call_and_return_conditional_losses_866366) with ops with custom gradients. Will likely fail if a gradient is requested.\n",
      "WARNING:absl:Importing a function (__inference_block6a_se_reduce_layer_call_and_return_conditional_losses_867974) with ops with custom gradients. Will likely fail if a gradient is requested.\n",
      "WARNING:absl:Importing a function (__inference_block1b_activation_layer_call_and_return_conditional_losses_863155) with ops with custom gradients. Will likely fail if a gradient is requested.\n",
      "WARNING:absl:Importing a function (__inference_block7a_se_reduce_layer_call_and_return_conditional_losses_869581) with ops with custom gradients. Will likely fail if a gradient is requested.\n",
      "WARNING:absl:Importing a function (__inference_block6d_se_reduce_layer_call_and_return_conditional_losses_868917) with ops with custom gradients. Will likely fail if a gradient is requested.\n",
      "WARNING:absl:Importing a function (__inference_block5c_se_reduce_layer_call_and_return_conditional_losses_888558) with ops with custom gradients. Will likely fail if a gradient is requested.\n",
      "WARNING:absl:Importing a function (__inference_block2a_activation_layer_call_and_return_conditional_losses_863488) with ops with custom gradients. Will likely fail if a gradient is requested.\n",
      "WARNING:absl:Importing a function (__inference_block5b_se_reduce_layer_call_and_return_conditional_losses_866977) with ops with custom gradients. Will likely fail if a gradient is requested.\n",
      "WARNING:absl:Importing a function (__inference_block3b_se_reduce_layer_call_and_return_conditional_losses_885668) with ops with custom gradients. Will likely fail if a gradient is requested.\n",
      "WARNING:absl:Importing a function (__inference_EfficientNetB2_Nesterov_layer_call_and_return_conditional_losses_881667) with ops with custom gradients. Will likely fail if a gradient is requested.\n",
      "WARNING:absl:Importing a function (__inference_EfficientNetB2_Nesterov_layer_call_and_return_conditional_losses_881667) with ops with custom gradients. Will likely fail if a gradient is requested.\n",
      "WARNING:absl:Importing a function (__inference_EfficientNetB2_Nesterov_layer_call_and_return_conditional_losses_881667) with ops with custom gradients. Will likely fail if a gradient is requested.\n",
      "WARNING:absl:Importing a function (__inference_EfficientNetB2_Nesterov_layer_call_and_return_conditional_losses_881667) with ops with custom gradients. Will likely fail if a gradient is requested.\n",
      "WARNING:absl:Importing a function (__inference_EfficientNetB2_Nesterov_layer_call_and_return_conditional_losses_881667) with ops with custom gradients. Will likely fail if a gradient is requested.\n",
      "WARNING:absl:Importing a function (__inference_EfficientNetB2_Nesterov_layer_call_and_return_conditional_losses_881667) with ops with custom gradients. Will likely fail if a gradient is requested.\n",
      "WARNING:absl:Importing a function (__inference_EfficientNetB2_Nesterov_layer_call_and_return_conditional_losses_881667) with ops with custom gradients. Will likely fail if a gradient is requested.\n",
      "WARNING:absl:Importing a function (__inference_EfficientNetB2_Nesterov_layer_call_and_return_conditional_losses_881667) with ops with custom gradients. Will likely fail if a gradient is requested.\n",
      "WARNING:absl:Importing a function (__inference_EfficientNetB2_Nesterov_layer_call_and_return_conditional_losses_881667) with ops with custom gradients. Will likely fail if a gradient is requested.\n",
      "WARNING:absl:Importing a function (__inference_EfficientNetB2_Nesterov_layer_call_and_return_conditional_losses_881667) with ops with custom gradients. Will likely fail if a gradient is requested.\n",
      "WARNING:absl:Importing a function (__inference_EfficientNetB2_Nesterov_layer_call_and_return_conditional_losses_881667) with ops with custom gradients. Will likely fail if a gradient is requested.\n",
      "WARNING:absl:Importing a function (__inference_EfficientNetB2_Nesterov_layer_call_and_return_conditional_losses_881667) with ops with custom gradients. Will likely fail if a gradient is requested.\n"
     ]
    },
    {
     "name": "stderr",
     "output_type": "stream",
     "text": [
      "WARNING:absl:Importing a function (__inference_EfficientNetB2_Nesterov_layer_call_and_return_conditional_losses_881667) with ops with custom gradients. Will likely fail if a gradient is requested.\n",
      "WARNING:absl:Importing a function (__inference_EfficientNetB2_Nesterov_layer_call_and_return_conditional_losses_881667) with ops with custom gradients. Will likely fail if a gradient is requested.\n",
      "WARNING:absl:Importing a function (__inference_EfficientNetB2_Nesterov_layer_call_and_return_conditional_losses_881667) with ops with custom gradients. Will likely fail if a gradient is requested.\n",
      "WARNING:absl:Importing a function (__inference_EfficientNetB2_Nesterov_layer_call_and_return_conditional_losses_881667) with ops with custom gradients. Will likely fail if a gradient is requested.\n",
      "WARNING:absl:Importing a function (__inference_EfficientNetB2_Nesterov_layer_call_and_return_conditional_losses_881667) with ops with custom gradients. Will likely fail if a gradient is requested.\n",
      "WARNING:absl:Importing a function (__inference_EfficientNetB2_Nesterov_layer_call_and_return_conditional_losses_881667) with ops with custom gradients. Will likely fail if a gradient is requested.\n",
      "WARNING:absl:Importing a function (__inference_EfficientNetB2_Nesterov_layer_call_and_return_conditional_losses_881667) with ops with custom gradients. Will likely fail if a gradient is requested.\n",
      "WARNING:absl:Importing a function (__inference_EfficientNetB2_Nesterov_layer_call_and_return_conditional_losses_881667) with ops with custom gradients. Will likely fail if a gradient is requested.\n",
      "WARNING:absl:Importing a function (__inference_EfficientNetB2_Nesterov_layer_call_and_return_conditional_losses_881667) with ops with custom gradients. Will likely fail if a gradient is requested.\n",
      "WARNING:absl:Importing a function (__inference_EfficientNetB2_Nesterov_layer_call_and_return_conditional_losses_881667) with ops with custom gradients. Will likely fail if a gradient is requested.\n",
      "WARNING:absl:Importing a function (__inference_EfficientNetB2_Nesterov_layer_call_and_return_conditional_losses_881667) with ops with custom gradients. Will likely fail if a gradient is requested.\n",
      "WARNING:absl:Importing a function (__inference_EfficientNetB2_Nesterov_layer_call_and_return_conditional_losses_881667) with ops with custom gradients. Will likely fail if a gradient is requested.\n",
      "WARNING:absl:Importing a function (__inference_EfficientNetB2_Nesterov_layer_call_and_return_conditional_losses_881667) with ops with custom gradients. Will likely fail if a gradient is requested.\n",
      "WARNING:absl:Importing a function (__inference_EfficientNetB2_Nesterov_layer_call_and_return_conditional_losses_881667) with ops with custom gradients. Will likely fail if a gradient is requested.\n",
      "WARNING:absl:Importing a function (__inference_EfficientNetB2_Nesterov_layer_call_and_return_conditional_losses_881667) with ops with custom gradients. Will likely fail if a gradient is requested.\n",
      "WARNING:absl:Importing a function (__inference_EfficientNetB2_Nesterov_layer_call_and_return_conditional_losses_881667) with ops with custom gradients. Will likely fail if a gradient is requested.\n",
      "WARNING:absl:Importing a function (__inference_EfficientNetB2_Nesterov_layer_call_and_return_conditional_losses_881667) with ops with custom gradients. Will likely fail if a gradient is requested.\n",
      "WARNING:absl:Importing a function (__inference_EfficientNetB2_Nesterov_layer_call_and_return_conditional_losses_881667) with ops with custom gradients. Will likely fail if a gradient is requested.\n",
      "WARNING:absl:Importing a function (__inference_EfficientNetB2_Nesterov_layer_call_and_return_conditional_losses_881667) with ops with custom gradients. Will likely fail if a gradient is requested.\n",
      "WARNING:absl:Importing a function (__inference_EfficientNetB2_Nesterov_layer_call_and_return_conditional_losses_881667) with ops with custom gradients. Will likely fail if a gradient is requested.\n",
      "WARNING:absl:Importing a function (__inference_EfficientNetB2_Nesterov_layer_call_and_return_conditional_losses_881667) with ops with custom gradients. Will likely fail if a gradient is requested.\n",
      "WARNING:absl:Importing a function (__inference_EfficientNetB2_Nesterov_layer_call_and_return_conditional_losses_881667) with ops with custom gradients. Will likely fail if a gradient is requested.\n",
      "WARNING:absl:Importing a function (__inference_EfficientNetB2_Nesterov_layer_call_and_return_conditional_losses_881667) with ops with custom gradients. Will likely fail if a gradient is requested.\n",
      "WARNING:absl:Importing a function (__inference_EfficientNetB2_Nesterov_layer_call_and_return_conditional_losses_881667) with ops with custom gradients. Will likely fail if a gradient is requested.\n",
      "WARNING:absl:Importing a function (__inference_EfficientNetB2_Nesterov_layer_call_and_return_conditional_losses_881667) with ops with custom gradients. Will likely fail if a gradient is requested.\n",
      "WARNING:absl:Importing a function (__inference_EfficientNetB2_Nesterov_layer_call_and_return_conditional_losses_881667) with ops with custom gradients. Will likely fail if a gradient is requested.\n",
      "WARNING:absl:Importing a function (__inference_EfficientNetB2_Nesterov_layer_call_and_return_conditional_losses_881667) with ops with custom gradients. Will likely fail if a gradient is requested.\n",
      "WARNING:absl:Importing a function (__inference_EfficientNetB2_Nesterov_layer_call_and_return_conditional_losses_881667) with ops with custom gradients. Will likely fail if a gradient is requested.\n",
      "WARNING:absl:Importing a function (__inference_EfficientNetB2_Nesterov_layer_call_and_return_conditional_losses_881667) with ops with custom gradients. Will likely fail if a gradient is requested.\n",
      "WARNING:absl:Importing a function (__inference_EfficientNetB2_Nesterov_layer_call_and_return_conditional_losses_881667) with ops with custom gradients. Will likely fail if a gradient is requested.\n",
      "WARNING:absl:Importing a function (__inference_EfficientNetB2_Nesterov_layer_call_and_return_conditional_losses_881667) with ops with custom gradients. Will likely fail if a gradient is requested.\n",
      "WARNING:absl:Importing a function (__inference_EfficientNetB2_Nesterov_layer_call_and_return_conditional_losses_881667) with ops with custom gradients. Will likely fail if a gradient is requested.\n",
      "WARNING:absl:Importing a function (__inference_EfficientNetB2_Nesterov_layer_call_and_return_conditional_losses_881667) with ops with custom gradients. Will likely fail if a gradient is requested.\n",
      "WARNING:absl:Importing a function (__inference_EfficientNetB2_Nesterov_layer_call_and_return_conditional_losses_881667) with ops with custom gradients. Will likely fail if a gradient is requested.\n",
      "WARNING:absl:Importing a function (__inference_EfficientNetB2_Nesterov_layer_call_and_return_conditional_losses_881667) with ops with custom gradients. Will likely fail if a gradient is requested.\n",
      "WARNING:absl:Importing a function (__inference_EfficientNetB2_Nesterov_layer_call_and_return_conditional_losses_881667) with ops with custom gradients. Will likely fail if a gradient is requested.\n",
      "WARNING:absl:Importing a function (__inference_EfficientNetB2_Nesterov_layer_call_and_return_conditional_losses_881667) with ops with custom gradients. Will likely fail if a gradient is requested.\n",
      "WARNING:absl:Importing a function (__inference_EfficientNetB2_Nesterov_layer_call_and_return_conditional_losses_881667) with ops with custom gradients. Will likely fail if a gradient is requested.\n",
      "WARNING:absl:Importing a function (__inference_EfficientNetB2_Nesterov_layer_call_and_return_conditional_losses_881667) with ops with custom gradients. Will likely fail if a gradient is requested.\n",
      "WARNING:absl:Importing a function (__inference_EfficientNetB2_Nesterov_layer_call_and_return_conditional_losses_881667) with ops with custom gradients. Will likely fail if a gradient is requested.\n",
      "WARNING:absl:Importing a function (__inference_EfficientNetB2_Nesterov_layer_call_and_return_conditional_losses_881667) with ops with custom gradients. Will likely fail if a gradient is requested.\n",
      "WARNING:absl:Importing a function (__inference_EfficientNetB2_Nesterov_layer_call_and_return_conditional_losses_881667) with ops with custom gradients. Will likely fail if a gradient is requested.\n"
     ]
    },
    {
     "name": "stderr",
     "output_type": "stream",
     "text": [
      "WARNING:absl:Importing a function (__inference_EfficientNetB2_Nesterov_layer_call_and_return_conditional_losses_881667) with ops with custom gradients. Will likely fail if a gradient is requested.\n",
      "WARNING:absl:Importing a function (__inference_EfficientNetB2_Nesterov_layer_call_and_return_conditional_losses_881667) with ops with custom gradients. Will likely fail if a gradient is requested.\n",
      "WARNING:absl:Importing a function (__inference_EfficientNetB2_Nesterov_layer_call_and_return_conditional_losses_881667) with ops with custom gradients. Will likely fail if a gradient is requested.\n",
      "WARNING:absl:Importing a function (__inference_EfficientNetB2_Nesterov_layer_call_and_return_conditional_losses_881667) with ops with custom gradients. Will likely fail if a gradient is requested.\n",
      "WARNING:absl:Importing a function (__inference_EfficientNetB2_Nesterov_layer_call_and_return_conditional_losses_881667) with ops with custom gradients. Will likely fail if a gradient is requested.\n",
      "WARNING:absl:Importing a function (__inference_EfficientNetB2_Nesterov_layer_call_and_return_conditional_losses_881667) with ops with custom gradients. Will likely fail if a gradient is requested.\n",
      "WARNING:absl:Importing a function (__inference_EfficientNetB2_Nesterov_layer_call_and_return_conditional_losses_881667) with ops with custom gradients. Will likely fail if a gradient is requested.\n",
      "WARNING:absl:Importing a function (__inference_EfficientNetB2_Nesterov_layer_call_and_return_conditional_losses_881667) with ops with custom gradients. Will likely fail if a gradient is requested.\n",
      "WARNING:absl:Importing a function (__inference_EfficientNetB2_Nesterov_layer_call_and_return_conditional_losses_881667) with ops with custom gradients. Will likely fail if a gradient is requested.\n",
      "WARNING:absl:Importing a function (__inference_EfficientNetB2_Nesterov_layer_call_and_return_conditional_losses_881667) with ops with custom gradients. Will likely fail if a gradient is requested.\n",
      "WARNING:absl:Importing a function (__inference_EfficientNetB2_Nesterov_layer_call_and_return_conditional_losses_881667) with ops with custom gradients. Will likely fail if a gradient is requested.\n",
      "WARNING:absl:Importing a function (__inference_EfficientNetB2_Nesterov_layer_call_and_return_conditional_losses_881667) with ops with custom gradients. Will likely fail if a gradient is requested.\n",
      "WARNING:absl:Importing a function (__inference_EfficientNetB2_Nesterov_layer_call_and_return_conditional_losses_881667) with ops with custom gradients. Will likely fail if a gradient is requested.\n",
      "WARNING:absl:Importing a function (__inference_EfficientNetB2_Nesterov_layer_call_and_return_conditional_losses_881667) with ops with custom gradients. Will likely fail if a gradient is requested.\n",
      "WARNING:absl:Importing a function (__inference_EfficientNetB2_Nesterov_layer_call_and_return_conditional_losses_881667) with ops with custom gradients. Will likely fail if a gradient is requested.\n",
      "WARNING:absl:Importing a function (__inference_block2b_expand_activation_layer_call_and_return_conditional_losses_863711) with ops with custom gradients. Will likely fail if a gradient is requested.\n",
      "WARNING:absl:Importing a function (__inference_block2c_activation_layer_call_and_return_conditional_losses_884929) with ops with custom gradients. Will likely fail if a gradient is requested.\n",
      "WARNING:absl:Importing a function (__inference_block4c_se_reduce_layer_call_and_return_conditional_losses_887113) with ops with custom gradients. Will likely fail if a gradient is requested.\n",
      "WARNING:absl:Importing a function (__inference_block6b_se_reduce_layer_call_and_return_conditional_losses_889630) with ops with custom gradients. Will likely fail if a gradient is requested.\n",
      "WARNING:absl:Importing a function (__inference_block4c_activation_layer_call_and_return_conditional_losses_887073) with ops with custom gradients. Will likely fail if a gradient is requested.\n",
      "WARNING:absl:Importing a function (__inference_block4a_se_reduce_layer_call_and_return_conditional_losses_886414) with ops with custom gradients. Will likely fail if a gradient is requested.\n",
      "WARNING:absl:Importing a function (__inference_block3c_expand_activation_layer_call_and_return_conditional_losses_885922) with ops with custom gradients. Will likely fail if a gradient is requested.\n",
      "WARNING:absl:Importing a function (__inference_block6d_activation_layer_call_and_return_conditional_losses_868870) with ops with custom gradients. Will likely fail if a gradient is requested.\n",
      "WARNING:absl:Importing a function (__inference_block5d_expand_activation_layer_call_and_return_conditional_losses_867538) with ops with custom gradients. Will likely fail if a gradient is requested.\n",
      "WARNING:absl:Importing a function (__inference_block6a_activation_layer_call_and_return_conditional_losses_867927) with ops with custom gradients. Will likely fail if a gradient is requested.\n",
      "WARNING:absl:Importing a function (__inference_block5c_activation_layer_call_and_return_conditional_losses_888518) with ops with custom gradients. Will likely fail if a gradient is requested.\n",
      "WARNING:absl:Importing a function (__inference_block4b_expand_activation_layer_call_and_return_conditional_losses_886621) with ops with custom gradients. Will likely fail if a gradient is requested.\n",
      "WARNING:absl:Importing a function (__inference_block2b_activation_layer_call_and_return_conditional_losses_884556) with ops with custom gradients. Will likely fail if a gradient is requested.\n",
      "WARNING:absl:Importing a function (__inference_block6b_expand_activation_layer_call_and_return_conditional_losses_889511) with ops with custom gradients. Will likely fail if a gradient is requested.\n",
      "WARNING:absl:Importing a function (__inference_block4c_se_reduce_layer_call_and_return_conditional_losses_866034) with ops with custom gradients. Will likely fail if a gradient is requested.\n",
      "WARNING:absl:Importing a function (__inference_block5c_expand_activation_layer_call_and_return_conditional_losses_867206) with ops with custom gradients. Will likely fail if a gradient is requested.\n",
      "WARNING:absl:Importing a function (__inference_EfficientNetB2_Nesterov_layer_call_and_return_conditional_losses_879347) with ops with custom gradients. Will likely fail if a gradient is requested.\n",
      "WARNING:absl:Importing a function (__inference_EfficientNetB2_Nesterov_layer_call_and_return_conditional_losses_879347) with ops with custom gradients. Will likely fail if a gradient is requested.\n",
      "WARNING:absl:Importing a function (__inference_EfficientNetB2_Nesterov_layer_call_and_return_conditional_losses_879347) with ops with custom gradients. Will likely fail if a gradient is requested.\n",
      "WARNING:absl:Importing a function (__inference_EfficientNetB2_Nesterov_layer_call_and_return_conditional_losses_879347) with ops with custom gradients. Will likely fail if a gradient is requested.\n",
      "WARNING:absl:Importing a function (__inference_EfficientNetB2_Nesterov_layer_call_and_return_conditional_losses_879347) with ops with custom gradients. Will likely fail if a gradient is requested.\n",
      "WARNING:absl:Importing a function (__inference_EfficientNetB2_Nesterov_layer_call_and_return_conditional_losses_879347) with ops with custom gradients. Will likely fail if a gradient is requested.\n",
      "WARNING:absl:Importing a function (__inference_EfficientNetB2_Nesterov_layer_call_and_return_conditional_losses_879347) with ops with custom gradients. Will likely fail if a gradient is requested.\n",
      "WARNING:absl:Importing a function (__inference_EfficientNetB2_Nesterov_layer_call_and_return_conditional_losses_879347) with ops with custom gradients. Will likely fail if a gradient is requested.\n",
      "WARNING:absl:Importing a function (__inference_EfficientNetB2_Nesterov_layer_call_and_return_conditional_losses_879347) with ops with custom gradients. Will likely fail if a gradient is requested.\n",
      "WARNING:absl:Importing a function (__inference_EfficientNetB2_Nesterov_layer_call_and_return_conditional_losses_879347) with ops with custom gradients. Will likely fail if a gradient is requested.\n",
      "WARNING:absl:Importing a function (__inference_EfficientNetB2_Nesterov_layer_call_and_return_conditional_losses_879347) with ops with custom gradients. Will likely fail if a gradient is requested.\n"
     ]
    },
    {
     "name": "stderr",
     "output_type": "stream",
     "text": [
      "WARNING:absl:Importing a function (__inference_EfficientNetB2_Nesterov_layer_call_and_return_conditional_losses_879347) with ops with custom gradients. Will likely fail if a gradient is requested.\n",
      "WARNING:absl:Importing a function (__inference_EfficientNetB2_Nesterov_layer_call_and_return_conditional_losses_879347) with ops with custom gradients. Will likely fail if a gradient is requested.\n",
      "WARNING:absl:Importing a function (__inference_EfficientNetB2_Nesterov_layer_call_and_return_conditional_losses_879347) with ops with custom gradients. Will likely fail if a gradient is requested.\n",
      "WARNING:absl:Importing a function (__inference_EfficientNetB2_Nesterov_layer_call_and_return_conditional_losses_879347) with ops with custom gradients. Will likely fail if a gradient is requested.\n",
      "WARNING:absl:Importing a function (__inference_EfficientNetB2_Nesterov_layer_call_and_return_conditional_losses_879347) with ops with custom gradients. Will likely fail if a gradient is requested.\n",
      "WARNING:absl:Importing a function (__inference_EfficientNetB2_Nesterov_layer_call_and_return_conditional_losses_879347) with ops with custom gradients. Will likely fail if a gradient is requested.\n",
      "WARNING:absl:Importing a function (__inference_EfficientNetB2_Nesterov_layer_call_and_return_conditional_losses_879347) with ops with custom gradients. Will likely fail if a gradient is requested.\n",
      "WARNING:absl:Importing a function (__inference_EfficientNetB2_Nesterov_layer_call_and_return_conditional_losses_879347) with ops with custom gradients. Will likely fail if a gradient is requested.\n",
      "WARNING:absl:Importing a function (__inference_EfficientNetB2_Nesterov_layer_call_and_return_conditional_losses_879347) with ops with custom gradients. Will likely fail if a gradient is requested.\n",
      "WARNING:absl:Importing a function (__inference_EfficientNetB2_Nesterov_layer_call_and_return_conditional_losses_879347) with ops with custom gradients. Will likely fail if a gradient is requested.\n",
      "WARNING:absl:Importing a function (__inference_EfficientNetB2_Nesterov_layer_call_and_return_conditional_losses_879347) with ops with custom gradients. Will likely fail if a gradient is requested.\n",
      "WARNING:absl:Importing a function (__inference_EfficientNetB2_Nesterov_layer_call_and_return_conditional_losses_879347) with ops with custom gradients. Will likely fail if a gradient is requested.\n",
      "WARNING:absl:Importing a function (__inference_EfficientNetB2_Nesterov_layer_call_and_return_conditional_losses_879347) with ops with custom gradients. Will likely fail if a gradient is requested.\n",
      "WARNING:absl:Importing a function (__inference_EfficientNetB2_Nesterov_layer_call_and_return_conditional_losses_879347) with ops with custom gradients. Will likely fail if a gradient is requested.\n",
      "WARNING:absl:Importing a function (__inference_EfficientNetB2_Nesterov_layer_call_and_return_conditional_losses_879347) with ops with custom gradients. Will likely fail if a gradient is requested.\n",
      "WARNING:absl:Importing a function (__inference_EfficientNetB2_Nesterov_layer_call_and_return_conditional_losses_879347) with ops with custom gradients. Will likely fail if a gradient is requested.\n",
      "WARNING:absl:Importing a function (__inference_EfficientNetB2_Nesterov_layer_call_and_return_conditional_losses_879347) with ops with custom gradients. Will likely fail if a gradient is requested.\n",
      "WARNING:absl:Importing a function (__inference_EfficientNetB2_Nesterov_layer_call_and_return_conditional_losses_879347) with ops with custom gradients. Will likely fail if a gradient is requested.\n",
      "WARNING:absl:Importing a function (__inference_EfficientNetB2_Nesterov_layer_call_and_return_conditional_losses_879347) with ops with custom gradients. Will likely fail if a gradient is requested.\n",
      "WARNING:absl:Importing a function (__inference_EfficientNetB2_Nesterov_layer_call_and_return_conditional_losses_879347) with ops with custom gradients. Will likely fail if a gradient is requested.\n",
      "WARNING:absl:Importing a function (__inference_EfficientNetB2_Nesterov_layer_call_and_return_conditional_losses_879347) with ops with custom gradients. Will likely fail if a gradient is requested.\n",
      "WARNING:absl:Importing a function (__inference_EfficientNetB2_Nesterov_layer_call_and_return_conditional_losses_879347) with ops with custom gradients. Will likely fail if a gradient is requested.\n",
      "WARNING:absl:Importing a function (__inference_EfficientNetB2_Nesterov_layer_call_and_return_conditional_losses_879347) with ops with custom gradients. Will likely fail if a gradient is requested.\n",
      "WARNING:absl:Importing a function (__inference_EfficientNetB2_Nesterov_layer_call_and_return_conditional_losses_879347) with ops with custom gradients. Will likely fail if a gradient is requested.\n",
      "WARNING:absl:Importing a function (__inference_EfficientNetB2_Nesterov_layer_call_and_return_conditional_losses_879347) with ops with custom gradients. Will likely fail if a gradient is requested.\n",
      "WARNING:absl:Importing a function (__inference_EfficientNetB2_Nesterov_layer_call_and_return_conditional_losses_879347) with ops with custom gradients. Will likely fail if a gradient is requested.\n",
      "WARNING:absl:Importing a function (__inference_EfficientNetB2_Nesterov_layer_call_and_return_conditional_losses_879347) with ops with custom gradients. Will likely fail if a gradient is requested.\n",
      "WARNING:absl:Importing a function (__inference_EfficientNetB2_Nesterov_layer_call_and_return_conditional_losses_879347) with ops with custom gradients. Will likely fail if a gradient is requested.\n",
      "WARNING:absl:Importing a function (__inference_EfficientNetB2_Nesterov_layer_call_and_return_conditional_losses_879347) with ops with custom gradients. Will likely fail if a gradient is requested.\n",
      "WARNING:absl:Importing a function (__inference_EfficientNetB2_Nesterov_layer_call_and_return_conditional_losses_879347) with ops with custom gradients. Will likely fail if a gradient is requested.\n",
      "WARNING:absl:Importing a function (__inference_EfficientNetB2_Nesterov_layer_call_and_return_conditional_losses_879347) with ops with custom gradients. Will likely fail if a gradient is requested.\n",
      "WARNING:absl:Importing a function (__inference_EfficientNetB2_Nesterov_layer_call_and_return_conditional_losses_879347) with ops with custom gradients. Will likely fail if a gradient is requested.\n",
      "WARNING:absl:Importing a function (__inference_EfficientNetB2_Nesterov_layer_call_and_return_conditional_losses_879347) with ops with custom gradients. Will likely fail if a gradient is requested.\n",
      "WARNING:absl:Importing a function (__inference_EfficientNetB2_Nesterov_layer_call_and_return_conditional_losses_879347) with ops with custom gradients. Will likely fail if a gradient is requested.\n",
      "WARNING:absl:Importing a function (__inference_EfficientNetB2_Nesterov_layer_call_and_return_conditional_losses_879347) with ops with custom gradients. Will likely fail if a gradient is requested.\n",
      "WARNING:absl:Importing a function (__inference_EfficientNetB2_Nesterov_layer_call_and_return_conditional_losses_879347) with ops with custom gradients. Will likely fail if a gradient is requested.\n",
      "WARNING:absl:Importing a function (__inference_EfficientNetB2_Nesterov_layer_call_and_return_conditional_losses_879347) with ops with custom gradients. Will likely fail if a gradient is requested.\n",
      "WARNING:absl:Importing a function (__inference_EfficientNetB2_Nesterov_layer_call_and_return_conditional_losses_879347) with ops with custom gradients. Will likely fail if a gradient is requested.\n",
      "WARNING:absl:Importing a function (__inference_EfficientNetB2_Nesterov_layer_call_and_return_conditional_losses_879347) with ops with custom gradients. Will likely fail if a gradient is requested.\n",
      "WARNING:absl:Importing a function (__inference_EfficientNetB2_Nesterov_layer_call_and_return_conditional_losses_879347) with ops with custom gradients. Will likely fail if a gradient is requested.\n",
      "WARNING:absl:Importing a function (__inference_EfficientNetB2_Nesterov_layer_call_and_return_conditional_losses_879347) with ops with custom gradients. Will likely fail if a gradient is requested.\n",
      "WARNING:absl:Importing a function (__inference_EfficientNetB2_Nesterov_layer_call_and_return_conditional_losses_879347) with ops with custom gradients. Will likely fail if a gradient is requested.\n"
     ]
    },
    {
     "name": "stderr",
     "output_type": "stream",
     "text": [
      "WARNING:absl:Importing a function (__inference_EfficientNetB2_Nesterov_layer_call_and_return_conditional_losses_879347) with ops with custom gradients. Will likely fail if a gradient is requested.\n",
      "WARNING:absl:Importing a function (__inference_EfficientNetB2_Nesterov_layer_call_and_return_conditional_losses_879347) with ops with custom gradients. Will likely fail if a gradient is requested.\n",
      "WARNING:absl:Importing a function (__inference_EfficientNetB2_Nesterov_layer_call_and_return_conditional_losses_879347) with ops with custom gradients. Will likely fail if a gradient is requested.\n",
      "WARNING:absl:Importing a function (__inference_EfficientNetB2_Nesterov_layer_call_and_return_conditional_losses_879347) with ops with custom gradients. Will likely fail if a gradient is requested.\n",
      "WARNING:absl:Importing a function (__inference_EfficientNetB2_Nesterov_layer_call_and_return_conditional_losses_879347) with ops with custom gradients. Will likely fail if a gradient is requested.\n",
      "WARNING:absl:Importing a function (__inference_EfficientNetB2_Nesterov_layer_call_and_return_conditional_losses_879347) with ops with custom gradients. Will likely fail if a gradient is requested.\n",
      "WARNING:absl:Importing a function (__inference_EfficientNetB2_Nesterov_layer_call_and_return_conditional_losses_879347) with ops with custom gradients. Will likely fail if a gradient is requested.\n",
      "WARNING:absl:Importing a function (__inference_EfficientNetB2_Nesterov_layer_call_and_return_conditional_losses_879347) with ops with custom gradients. Will likely fail if a gradient is requested.\n",
      "WARNING:absl:Importing a function (__inference_EfficientNetB2_Nesterov_layer_call_and_return_conditional_losses_879347) with ops with custom gradients. Will likely fail if a gradient is requested.\n",
      "WARNING:absl:Importing a function (__inference_EfficientNetB2_Nesterov_layer_call_and_return_conditional_losses_879347) with ops with custom gradients. Will likely fail if a gradient is requested.\n",
      "WARNING:absl:Importing a function (__inference_EfficientNetB2_Nesterov_layer_call_and_return_conditional_losses_879347) with ops with custom gradients. Will likely fail if a gradient is requested.\n",
      "WARNING:absl:Importing a function (__inference_EfficientNetB2_Nesterov_layer_call_and_return_conditional_losses_879347) with ops with custom gradients. Will likely fail if a gradient is requested.\n",
      "WARNING:absl:Importing a function (__inference_EfficientNetB2_Nesterov_layer_call_and_return_conditional_losses_879347) with ops with custom gradients. Will likely fail if a gradient is requested.\n",
      "WARNING:absl:Importing a function (__inference_EfficientNetB2_Nesterov_layer_call_and_return_conditional_losses_879347) with ops with custom gradients. Will likely fail if a gradient is requested.\n",
      "WARNING:absl:Importing a function (__inference_EfficientNetB2_Nesterov_layer_call_and_return_conditional_losses_879347) with ops with custom gradients. Will likely fail if a gradient is requested.\n",
      "WARNING:absl:Importing a function (__inference_EfficientNetB2_Nesterov_layer_call_and_return_conditional_losses_879347) with ops with custom gradients. Will likely fail if a gradient is requested.\n",
      "WARNING:absl:Importing a function (__inference_block4d_expand_activation_layer_call_and_return_conditional_losses_866263) with ops with custom gradients. Will likely fail if a gradient is requested.\n",
      "WARNING:absl:Importing a function (__inference_block3a_expand_activation_layer_call_and_return_conditional_losses_885223) with ops with custom gradients. Will likely fail if a gradient is requested.\n",
      "WARNING:absl:Importing a function (__inference_block1a_se_reduce_layer_call_and_return_conditional_losses_862995) with ops with custom gradients. Will likely fail if a gradient is requested.\n",
      "WARNING:absl:Importing a function (__inference_block6a_expand_activation_layer_call_and_return_conditional_losses_867870) with ops with custom gradients. Will likely fail if a gradient is requested.\n",
      "WARNING:absl:Importing a function (__inference_block5b_expand_activation_layer_call_and_return_conditional_losses_866874) with ops with custom gradients. Will likely fail if a gradient is requested.\n",
      "WARNING:absl:Importing a function (__inference_block3c_se_reduce_layer_call_and_return_conditional_losses_886041) with ops with custom gradients. Will likely fail if a gradient is requested.\n",
      "WARNING:absl:Importing a function (__inference_block4b_expand_activation_layer_call_and_return_conditional_losses_865599) with ops with custom gradients. Will likely fail if a gradient is requested.\n",
      "WARNING:absl:Importing a function (__inference_block5d_expand_activation_layer_call_and_return_conditional_losses_888812) with ops with custom gradients. Will likely fail if a gradient is requested.\n",
      "WARNING:absl:Importing a function (__inference_block4c_expand_activation_layer_call_and_return_conditional_losses_865931) with ops with custom gradients. Will likely fail if a gradient is requested.\n",
      "WARNING:absl:Importing a function (__inference_block3b_activation_layer_call_and_return_conditional_losses_864711) with ops with custom gradients. Will likely fail if a gradient is requested.\n",
      "WARNING:absl:Importing a function (__inference_block2b_se_reduce_layer_call_and_return_conditional_losses_863814) with ops with custom gradients. Will likely fail if a gradient is requested.\n",
      "WARNING:absl:Importing a function (__inference_block4b_se_reduce_layer_call_and_return_conditional_losses_886740) with ops with custom gradients. Will likely fail if a gradient is requested.\n",
      "WARNING:absl:Importing a function (__inference_block7a_activation_layer_call_and_return_conditional_losses_869534) with ops with custom gradients. Will likely fail if a gradient is requested.\n",
      "WARNING:absl:Importing a function (__inference_block6a_se_reduce_layer_call_and_return_conditional_losses_889304) with ops with custom gradients. Will likely fail if a gradient is requested.\n",
      "WARNING:absl:Importing a function (__inference_block5d_se_reduce_layer_call_and_return_conditional_losses_888931) with ops with custom gradients. Will likely fail if a gradient is requested.\n"
     ]
    }
   ],
   "source": [
    "model = keras.models.load_model(\n",
    "    \"./models/nesterov/effNetB2_nesterovFull47\")"
   ]
  },
  {
   "cell_type": "code",
   "execution_count": 45,
   "metadata": {
    "colab": {
     "base_uri": "https://localhost:8080/"
    },
    "executionInfo": {
     "elapsed": 63501,
     "status": "ok",
     "timestamp": 1635522658853,
     "user": {
      "displayName": "Pedro Torres",
      "photoUrl": "https://lh3.googleusercontent.com/a-/AOh14GiOC_XQxtwkufSV38J42QN0teV5PKC9LlYXQ2mCEA=s64",
      "userId": "01891466493932664969"
     },
     "user_tz": 180
    },
    "id": "burcgsMkwEf3",
    "outputId": "060a2e1a-1f25-4e10-ba7a-d3a40771bc85"
   },
   "outputs": [
    {
     "name": "stdout",
     "output_type": "stream",
     "text": [
      "159/159 [==============================] - 45s 283ms/step\n",
      "              precision    recall  f1-score   support\n",
      "\n",
      "           0       0.17      0.24      0.20       904\n",
      "           1       0.51      0.50      0.50      2575\n",
      "           2       0.13      0.11      0.12       665\n",
      "           3       0.03      0.05      0.04       173\n",
      "           4       0.12      0.05      0.07       525\n",
      "           5       0.00      0.00      0.00        48\n",
      "           6       0.03      0.04      0.04        51\n",
      "           7       0.02      0.04      0.03       125\n",
      "\n",
      "    accuracy                           0.32      5066\n",
      "   macro avg       0.13      0.13      0.12      5066\n",
      "weighted avg       0.32      0.32      0.32      5066\n",
      "\n"
     ]
    }
   ],
   "source": [
    "# Predicts labels\n",
    "val_predictions = model.predict(val_generator, verbose=1)\n",
    "\n",
    "print(classification_report(val_generator.labels.argmax(1),\n",
    "                            val_predictions.argmax(1), zero_division=0))"
   ]
  },
  {
   "cell_type": "code",
   "execution_count": 46,
   "metadata": {
    "colab": {
     "base_uri": "https://localhost:8080/",
     "height": 292
    },
    "executionInfo": {
     "elapsed": 594,
     "status": "ok",
     "timestamp": 1635522659445,
     "user": {
      "displayName": "Pedro Torres",
      "photoUrl": "https://lh3.googleusercontent.com/a-/AOh14GiOC_XQxtwkufSV38J42QN0teV5PKC9LlYXQ2mCEA=s64",
      "userId": "01891466493932664969"
     },
     "user_tz": 180
    },
    "id": "0EChZnOsveCQ",
    "outputId": "b5a2e1f3-9acd-4a02-b548-047e0cb8229b"
   },
   "outputs": [
    {
     "data": {
      "text/plain": [
       "[Text(0.5, 0, 'MEL'),\n",
       " Text(1.5, 0, 'NV'),\n",
       " Text(2.5, 0, 'BCC'),\n",
       " Text(3.5, 0, 'AK'),\n",
       " Text(4.5, 0, 'BKL'),\n",
       " Text(5.5, 0, 'DF'),\n",
       " Text(6.5, 0, 'VASC'),\n",
       " Text(7.5, 0, 'SCC')]"
      ]
     },
     "execution_count": 46,
     "metadata": {},
     "output_type": "execute_result"
    },
    {
     "data": {
      "image/png": "[encoded data removed]",
      "text/plain": [
       "<Figure size 360x360 with 2 Axes>"
      ]
     },
     "metadata": {
      "needs_background": "light"
     },
     "output_type": "display_data"
    }
   ],
   "source": [
    "import seaborn as sns\n",
    "\n",
    "# Confusion matrix\n",
    "confusion = tf.math.confusion_matrix(val_generator.labels.argmax(1),\n",
    "                                     val_predictions.argmax(1))\n",
    "\n",
    "# Confusion matrix (for printing)\n",
    "confusion_matrix = confusion.numpy()\n",
    "\n",
    "con_matrix = plt.figure(figsize=(5, 5))\n",
    "ax_matrix = plt.subplot()\n",
    "\n",
    "matrix = sns.heatmap(confusion_matrix, annot=True, fmt=\"d\", linewidths=.25)\n",
    "\n",
    "classes = [\"MEL\", \"NV\", \"BCC\",  \"AK\", \"BKL\", \"DF\", \"VASC\", \"SCC\"]\n",
    "\n",
    "plt.xlabel(\"Rótulos preditos\", fontsize=12)\n",
    "plt.ylabel('Rótulos verdadeiros', fontsize=12)\n",
    "\n",
    "ax_matrix.set_yticklabels(classes)\n",
    "ax_matrix.set_xticklabels(classes)\n",
    "\n",
    "# plt.savefig(\"nesterov_val_confusion5.png\")"
   ]
  },
  {
   "cell_type": "code",
   "execution_count": 47,
   "metadata": {
    "colab": {
     "base_uri": "https://localhost:8080/"
    },
    "executionInfo": {
     "elapsed": 2621,
     "status": "ok",
     "timestamp": 1635522662062,
     "user": {
      "displayName": "Pedro Torres",
      "photoUrl": "https://lh3.googleusercontent.com/a-/AOh14GiOC_XQxtwkufSV38J42QN0teV5PKC9LlYXQ2mCEA=s64",
      "userId": "01891466493932664969"
     },
     "user_tz": 180
    },
    "id": "4DllgMj_v120",
    "outputId": "68b8e3dd-62eb-4914-c6bd-f3d58f9dfac4"
   },
   "outputs": [
    {
     "name": "stdout",
     "output_type": "stream",
     "text": [
      "True positive:  [ 215 1277   72    8   24    0    2    5]\n",
      "True negative:  [3128 1254 3903 4652 4365 5018 4955 4724]\n",
      "False positive: [1034 1237  498  241  176    0   60  217]\n",
      "False negative: [ 689 1298  593  165  501   48   49  120]\n",
      "\n",
      "Sensibilidade:  [0.23783186 0.49592233 0.10827068 0.04624277 0.04571429 0.\n",
      " 0.03921569 0.04      ]\n",
      "Especificidade: [0.75156175 0.50341228 0.8868439  0.95074596 0.96124202 1.\n",
      " 0.98803589 0.95608176]\n",
      "Precisão:       [0.17213771 0.50795545 0.12631579 0.03212851 0.12       0.\n",
      " 0.03225806 0.02252252]\n",
      "Acurácia:       [0.65988946 0.49960521 0.78464272 0.91985788 0.866364   0.99052507\n",
      " 0.97848401 0.93347809]\n"
     ]
    }
   ],
   "source": [
    "confusion_matrix = confusion.numpy()\n",
    "\n",
    "FP = confusion_matrix.sum(axis=0) - np.diag(confusion_matrix)  \n",
    "FN = confusion_matrix.sum(axis=1) - np.diag(confusion_matrix)\n",
    "TP = np.diag(confusion_matrix)\n",
    "TN = confusion_matrix.sum() - (FP + FN + TP)\n",
    "\n",
    "# Sensitivity, hit rate, recall, or true positive rate\n",
    "TPR = np.divide(TP, (TP+FN),\n",
    "                out=np.zeros(TP.shape, dtype=float),\n",
    "                where=((TP+FN) != 0))\n",
    "\n",
    "# Specificity or true negative rate\n",
    "TNR = np.divide(TN, (TN+FP),\n",
    "                out=np.zeros(TN.shape, dtype=float),\n",
    "                where=((TN+FP) != 0))\n",
    "\n",
    "# Precision or positive predictive value\n",
    "PPV = np.divide(TP, (TP+FP),\n",
    "                out=np.zeros(TP.shape, dtype=float),\n",
    "                where=((TP+FP) != 0))\n",
    "\n",
    "# Negative predictive value\n",
    "NPV = np.divide(TN, (TN+FN),\n",
    "                out=np.zeros(TN.shape, dtype=float),\n",
    "                where=((TN+FN) != 0))\n",
    "\n",
    "# Fall out or false positive rate\n",
    "FPR = np.divide(FP, (FP+TN),\n",
    "                out=np.zeros(FP.shape, dtype=float),\n",
    "                where=((FP+TN) != 0))\n",
    "\n",
    "# False negative rate\n",
    "FNR = np.divide(FN, (TP+FN),\n",
    "                out=np.zeros(FN.shape, dtype=float),\n",
    "                where=((TP+FN) != 0))\n",
    "\n",
    "# False discovery rate\n",
    "FDR = np.divide(FP, (TP+FP),\n",
    "                out=np.zeros(FP.shape, dtype=float),\n",
    "                where=((TP+FP) != 0))\n",
    "\n",
    "# Overall accuracy\n",
    "ACC = np.divide((TP+TN), (TP+FP+FN+TN),\n",
    "                out=np.zeros((TP+TN).shape, dtype=float),\n",
    "                where=((TP+FP+FN+TN) != 0))\n",
    "\n",
    "# c = np.divide(a, b, out=np.zeros_like(a), where=b!=0)\n",
    "print(\"True positive:  {}\".format(TP))\n",
    "print(\"True negative:  {}\".format(TN))\n",
    "print(\"False positive: {}\".format(FP))\n",
    "print(\"False negative: {}\".format(FN), end=\"\\n\\n\")\n",
    "\n",
    "print(\"Sensibilidade:  {}\".format(TPR))\n",
    "print(\"Especificidade: {}\".format(TNR))\n",
    "print(\"Precisão:       {}\".format(PPV))\n",
    "print(\"Acurácia:       {}\".format(ACC))"
   ]
  },
  {
   "cell_type": "code",
   "execution_count": 50,
   "metadata": {},
   "outputs": [
    {
     "name": "stdout",
     "output_type": "stream",
     "text": [
      "Médias aritméticas:\n",
      "Sensibilidade:  0.12664970146889573\n",
      "Especificidade: 0.8747404463052997\n",
      "Precisão:       0.1266647562774489\n",
      "F1-score:       0.12665722842580884\n",
      "Acurácia:       0.8291058033951835\n"
     ]
    }
   ],
   "source": [
    "f1_val = 2*(np.mean(TPR) * np.mean(PPV))/(np.mean(TPR) + np.mean(PPV))\n",
    "\n",
    "\n",
    "print(\"Médias aritméticas:\")\n",
    "print(\"Sensibilidade:  {}\".format(np.mean(TPR)))\n",
    "print(\"Especificidade: {}\".format(np.mean(TNR)))\n",
    "print(\"Precisão:       {}\".format(np.mean(PPV)))\n",
    "print(\"F1-score:       {}\".format(f1_val))\n",
    "print(\"Acurácia:       {}\".format(np.mean(ACC)))"
   ]
  },
  {
   "cell_type": "markdown",
   "metadata": {},
   "source": [
    "#### Conjunto de teste"
   ]
  },
  {
   "cell_type": "code",
   "execution_count": 51,
   "metadata": {},
   "outputs": [
    {
     "name": "stdout",
     "output_type": "stream",
     "text": [
      "80/80 [==============================] - 23s 286ms/step\n",
      "              precision    recall  f1-score   support\n",
      "\n",
      "           0       0.17      0.23      0.19       453\n",
      "           1       0.50      0.48      0.49      1288\n",
      "           2       0.11      0.11      0.11       332\n",
      "           3       0.02      0.03      0.03        87\n",
      "           4       0.15      0.05      0.08       262\n",
      "           5       0.00      0.00      0.00        24\n",
      "           6       0.00      0.00      0.00        25\n",
      "           7       0.03      0.05      0.04        63\n",
      "\n",
      "    accuracy                           0.31      2534\n",
      "   macro avg       0.12      0.12      0.12      2534\n",
      "weighted avg       0.32      0.31      0.31      2534\n",
      "\n"
     ]
    }
   ],
   "source": [
    "# Predicts labels\n",
    "test_predictions = model.predict(test_generator, verbose=1)\n",
    "\n",
    "print(classification_report(test_generator.labels.argmax(1),\n",
    "                            test_predictions.argmax(1), zero_division=0))"
   ]
  },
  {
   "cell_type": "code",
   "execution_count": 52,
   "metadata": {},
   "outputs": [
    {
     "data": {
      "image/png": "[encoded data removed]",
      "text/plain": [
       "<Figure size 360x360 with 2 Axes>"
      ]
     },
     "metadata": {
      "needs_background": "light"
     },
     "output_type": "display_data"
    }
   ],
   "source": [
    "import seaborn as sns\n",
    "\n",
    "# Confusion matrix\n",
    "confusion = tf.math.confusion_matrix(test_generator.labels.argmax(1),\n",
    "                                     test_predictions.argmax(1))\n",
    "\n",
    "# Confusion matrix (for printing)\n",
    "confusion_matrix = confusion.numpy()\n",
    "\n",
    "con_matrix = plt.figure(figsize=(5, 5))\n",
    "ax_matrix = plt.subplot()\n",
    "\n",
    "matrix = sns.heatmap(confusion_matrix, annot=True, fmt=\"d\", linewidths=.25)\n",
    "\n",
    "classes = [\"MEL\", \"NV\", \"BCC\",  \"AK\", \"BKL\", \"DF\", \"VASC\", \"SCC\"]\n",
    "\n",
    "plt.xlabel(\"Rótulos preditos\", fontsize=12)\n",
    "plt.ylabel('Rótulos verdadeiros', fontsize=12)\n",
    "\n",
    "ax_matrix.set_yticklabels(classes)\n",
    "ax_matrix.set_xticklabels(classes)\n",
    "\n",
    "# plt.savefig(\"nesterov_test_confusion5.png\")"
   ]
  },
  {
   "cell_type": "code",
   "execution_count": 53,
   "metadata": {},
   "outputs": [
    {
     "name": "stdout",
     "output_type": "stream",
     "text": [
      "True positive:  [105 622  35   3  14   0   0   3]\n",
      "True negative:  [1550  634 1929 2329 2191 2508 2475 2370]\n",
      "False positive: [531 612 273 118  81   2  34 101]\n",
      "False negative: [348 666 297  84 248  24  25  60]\n",
      "\n",
      "Sensibilidade:  [0.23178808 0.48291925 0.10542169 0.03448276 0.05343511 0.\n",
      " 0.         0.04761905]\n",
      "Especificidade: [0.74483421 0.50882825 0.8760218  0.95177769 0.96434859 0.99920319\n",
      " 0.98644878 0.95912586]\n",
      "Precisão:       [0.16509434 0.50405186 0.11363636 0.02479339 0.14736842 0.\n",
      " 0.         0.02884615]\n",
      "Acurácia:       [0.6531176  0.49565904 0.77505919 0.92028414 0.87016575 0.98973954\n",
      " 0.97671665 0.93646409]\n"
     ]
    }
   ],
   "source": [
    "confusion_matrix = confusion.numpy()\n",
    "\n",
    "FP = confusion_matrix.sum(axis=0) - np.diag(confusion_matrix)  \n",
    "FN = confusion_matrix.sum(axis=1) - np.diag(confusion_matrix)\n",
    "TP = np.diag(confusion_matrix)\n",
    "TN = confusion_matrix.sum() - (FP + FN + TP)\n",
    "\n",
    "# Sensitivity, hit rate, recall, or true positive rate\n",
    "TPR = np.divide(TP, (TP+FN),\n",
    "                out=np.zeros(TP.shape, dtype=float),\n",
    "                where=((TP+FN) != 0))\n",
    "\n",
    "# Specificity or true negative rate\n",
    "TNR = np.divide(TN, (TN+FP),\n",
    "                out=np.zeros(TN.shape, dtype=float),\n",
    "                where=((TN+FP) != 0))\n",
    "\n",
    "# Precision or positive predictive value\n",
    "PPV = np.divide(TP, (TP+FP),\n",
    "                out=np.zeros(TP.shape, dtype=float),\n",
    "                where=((TP+FP) != 0))\n",
    "\n",
    "# Negative predictive value\n",
    "NPV = np.divide(TN, (TN+FN),\n",
    "                out=np.zeros(TN.shape, dtype=float),\n",
    "                where=((TN+FN) != 0))\n",
    "\n",
    "# Fall out or false positive rate\n",
    "FPR = np.divide(FP, (FP+TN),\n",
    "                out=np.zeros(FP.shape, dtype=float),\n",
    "                where=((FP+TN) != 0))\n",
    "\n",
    "# False negative rate\n",
    "FNR = np.divide(FN, (TP+FN),\n",
    "                out=np.zeros(FN.shape, dtype=float),\n",
    "                where=((TP+FN) != 0))\n",
    "\n",
    "# False discovery rate\n",
    "FDR = np.divide(FP, (TP+FP),\n",
    "                out=np.zeros(FP.shape, dtype=float),\n",
    "                where=((TP+FP) != 0))\n",
    "\n",
    "# Overall accuracy\n",
    "ACC = np.divide((TP+TN), (TP+FP+FN+TN),\n",
    "                out=np.zeros((TP+TN).shape, dtype=float),\n",
    "                where=((TP+FP+FN+TN) != 0))\n",
    "\n",
    "# c = np.divide(a, b, out=np.zeros_like(a), where=b!=0)\n",
    "print(\"True positive:  {}\".format(TP))\n",
    "print(\"True negative:  {}\".format(TN))\n",
    "print(\"False positive: {}\".format(FP))\n",
    "print(\"False negative: {}\".format(FN), end=\"\\n\\n\")\n",
    "\n",
    "print(\"Sensibilidade:  {}\".format(TPR))\n",
    "print(\"Especificidade: {}\".format(TNR))\n",
    "print(\"Precisão:       {}\".format(PPV))\n",
    "print(\"Acurácia:       {}\".format(ACC))"
   ]
  },
  {
   "cell_type": "code",
   "execution_count": 54,
   "metadata": {},
   "outputs": [
    {
     "name": "stdout",
     "output_type": "stream",
     "text": [
      "Médias aritméticas:\n",
      "Sensibilidade:  0.11945824270239072\n",
      "Especificidade: 0.8738235466502913\n",
      "Precisão:       0.12297381630561464\n",
      "F1-score:       0.12119053935676256\n",
      "Acurácia:       0.8271507498026835\n"
     ]
    }
   ],
   "source": [
    "f1_test = 2*(np.mean(TPR) * np.mean(PPV))/(np.mean(TPR) + np.mean(PPV))\n",
    "\n",
    "print(\"Médias aritméticas:\")\n",
    "print(\"Sensibilidade:  {}\".format(np.mean(TPR)))\n",
    "print(\"Especificidade: {}\".format(np.mean(TNR)))\n",
    "print(\"Precisão:       {}\".format(np.mean(PPV)))\n",
    "print(\"F1-score:       {}\".format(f1_test))\n",
    "print(\"Acurácia:       {}\".format(np.mean(ACC)))"
   ]
  },
  {
   "cell_type": "markdown",
   "metadata": {},
   "source": [
    "### Oversampled"
   ]
  },
  {
   "cell_type": "code",
   "execution_count": 24,
   "metadata": {},
   "outputs": [
    {
     "name": "stderr",
     "output_type": "stream",
     "text": [
      "WARNING:absl:Importing a function (__inference_block4a_se_reduce_layer_call_and_return_conditional_losses_2285272) with ops with custom gradients. Will likely fail if a gradient is requested.\n",
      "WARNING:absl:Importing a function (__inference_block4c_expand_activation_layer_call_and_return_conditional_losses_2285852) with ops with custom gradients. Will likely fail if a gradient is requested.\n",
      "WARNING:absl:Importing a function (__inference_block6b_expand_activation_layer_call_and_return_conditional_losses_2288369) with ops with custom gradients. Will likely fail if a gradient is requested.\n",
      "WARNING:absl:Importing a function (__inference_block4d_expand_activation_layer_call_and_return_conditional_losses_2265121) with ops with custom gradients. Will likely fail if a gradient is requested.\n",
      "WARNING:absl:Importing a function (__inference_block5c_se_reduce_layer_call_and_return_conditional_losses_2266167) with ops with custom gradients. Will likely fail if a gradient is requested.\n",
      "WARNING:absl:Importing a function (__inference_block6b_activation_layer_call_and_return_conditional_losses_2267064) with ops with custom gradients. Will likely fail if a gradient is requested.\n",
      "WARNING:absl:Importing a function (__inference_block6d_se_reduce_layer_call_and_return_conditional_losses_2289234) with ops with custom gradients. Will likely fail if a gradient is requested.\n",
      "WARNING:absl:Importing a function (__inference_block5c_expand_activation_layer_call_and_return_conditional_losses_2287297) with ops with custom gradients. Will likely fail if a gradient is requested.\n",
      "WARNING:absl:Importing a function (__inference_block6b_se_reduce_layer_call_and_return_conditional_losses_2267111) with ops with custom gradients. Will likely fail if a gradient is requested.\n",
      "WARNING:absl:Importing a function (__inference_block7a_se_reduce_layer_call_and_return_conditional_losses_2289980) with ops with custom gradients. Will likely fail if a gradient is requested.\n",
      "WARNING:absl:Importing a function (__inference_block7b_expand_activation_layer_call_and_return_conditional_losses_2290187) with ops with custom gradients. Will likely fail if a gradient is requested.\n",
      "WARNING:absl:Importing a function (__inference_block4b_activation_layer_call_and_return_conditional_losses_2285558) with ops with custom gradients. Will likely fail if a gradient is requested.\n",
      "WARNING:absl:Importing a function (__inference_block5a_activation_layer_call_and_return_conditional_losses_2265509) with ops with custom gradients. Will likely fail if a gradient is requested.\n",
      "WARNING:absl:Importing a function (__inference_block7b_activation_layer_call_and_return_conditional_losses_2268671) with ops with custom gradients. Will likely fail if a gradient is requested.\n",
      "WARNING:absl:Importing a function (__inference_block3a_activation_layer_call_and_return_conditional_losses_2263290) with ops with custom gradients. Will likely fail if a gradient is requested.\n",
      "WARNING:absl:Importing a function (__inference_block6c_activation_layer_call_and_return_conditional_losses_2288821) with ops with custom gradients. Will likely fail if a gradient is requested.\n",
      "WARNING:absl:Importing a function (__inference_block4b_expand_activation_layer_call_and_return_conditional_losses_2285479) with ops with custom gradients. Will likely fail if a gradient is requested.\n",
      "WARNING:absl:Importing a function (__inference_block5a_se_reduce_layer_call_and_return_conditional_losses_2286717) with ops with custom gradients. Will likely fail if a gradient is requested.\n",
      "WARNING:absl:Importing a function (__inference_block4d_activation_layer_call_and_return_conditional_losses_2286304) with ops with custom gradients. Will likely fail if a gradient is requested.\n",
      "WARNING:absl:Importing a function (__inference_block6d_se_reduce_layer_call_and_return_conditional_losses_2267775) with ops with custom gradients. Will likely fail if a gradient is requested.\n",
      "WARNING:absl:Importing a function (__inference_block3b_expand_activation_layer_call_and_return_conditional_losses_2284407) with ops with custom gradients. Will likely fail if a gradient is requested.\n",
      "WARNING:absl:Importing a function (__inference_block3a_se_reduce_layer_call_and_return_conditional_losses_2263337) with ops with custom gradients. Will likely fail if a gradient is requested.\n",
      "WARNING:absl:Importing a function (__inference_block5c_expand_activation_layer_call_and_return_conditional_losses_2266064) with ops with custom gradients. Will likely fail if a gradient is requested.\n",
      "WARNING:absl:Importing a function (__inference_block3c_expand_activation_layer_call_and_return_conditional_losses_2284780) with ops with custom gradients. Will likely fail if a gradient is requested.\n",
      "WARNING:absl:Importing a function (__inference_block6c_expand_activation_layer_call_and_return_conditional_losses_2288742) with ops with custom gradients. Will likely fail if a gradient is requested.\n",
      "WARNING:absl:Importing a function (__inference_block1b_se_reduce_layer_call_and_return_conditional_losses_2262060) with ops with custom gradients. Will likely fail if a gradient is requested.\n",
      "WARNING:absl:Importing a function (__inference_block7b_se_reduce_layer_call_and_return_conditional_losses_2290306) with ops with custom gradients. Will likely fail if a gradient is requested.\n",
      "WARNING:absl:Importing a function (__inference_block6a_activation_layer_call_and_return_conditional_losses_2266785) with ops with custom gradients. Will likely fail if a gradient is requested.\n",
      "WARNING:absl:Importing a function (__inference_block6a_se_reduce_layer_call_and_return_conditional_losses_2288162) with ops with custom gradients. Will likely fail if a gradient is requested.\n",
      "WARNING:absl:Importing a function (__inference_block6a_expand_activation_layer_call_and_return_conditional_losses_2266728) with ops with custom gradients. Will likely fail if a gradient is requested.\n",
      "WARNING:absl:Importing a function (__inference_block7b_activation_layer_call_and_return_conditional_losses_2290266) with ops with custom gradients. Will likely fail if a gradient is requested.\n",
      "WARNING:absl:Importing a function (__inference_block7a_expand_activation_layer_call_and_return_conditional_losses_2289861) with ops with custom gradients. Will likely fail if a gradient is requested.\n",
      "WARNING:absl:Importing a function (__inference_block3c_se_reduce_layer_call_and_return_conditional_losses_2284899) with ops with custom gradients. Will likely fail if a gradient is requested.\n",
      "WARNING:absl:Importing a function (__inference_block2a_se_reduce_layer_call_and_return_conditional_losses_2262393) with ops with custom gradients. Will likely fail if a gradient is requested.\n",
      "WARNING:absl:Importing a function (__inference_block5c_activation_layer_call_and_return_conditional_losses_2287376) with ops with custom gradients. Will likely fail if a gradient is requested.\n",
      "WARNING:absl:Importing a function (__inference_top_activation_layer_call_and_return_conditional_losses_2268947) with ops with custom gradients. Will likely fail if a gradient is requested.\n",
      "WARNING:absl:Importing a function (__inference_block5d_activation_layer_call_and_return_conditional_losses_2266452) with ops with custom gradients. Will likely fail if a gradient is requested.\n",
      "WARNING:absl:Importing a function (__inference_block1a_activation_layer_call_and_return_conditional_losses_2261806) with ops with custom gradients. Will likely fail if a gradient is requested.\n",
      "WARNING:absl:Importing a function (__inference_block2b_expand_activation_layer_call_and_return_conditional_losses_2262569) with ops with custom gradients. Will likely fail if a gradient is requested.\n",
      "WARNING:absl:Importing a function (__inference_block2a_expand_activation_layer_call_and_return_conditional_losses_2262289) with ops with custom gradients. Will likely fail if a gradient is requested.\n",
      "WARNING:absl:Importing a function (__inference_block5a_se_reduce_layer_call_and_return_conditional_losses_2265556) with ops with custom gradients. Will likely fail if a gradient is requested.\n",
      "WARNING:absl:Importing a function (__inference_block4d_se_reduce_layer_call_and_return_conditional_losses_2286344) with ops with custom gradients. Will likely fail if a gradient is requested.\n",
      "WARNING:absl:Importing a function (__inference_block4d_expand_activation_layer_call_and_return_conditional_losses_2286225) with ops with custom gradients. Will likely fail if a gradient is requested.\n"
     ]
    },
    {
     "name": "stderr",
     "output_type": "stream",
     "text": [
      "WARNING:absl:Importing a function (__inference_top_activation_layer_call_and_return_conditional_losses_2290560) with ops with custom gradients. Will likely fail if a gradient is requested.\n",
      "WARNING:absl:Importing a function (__inference_stem_activation_layer_call_and_return_conditional_losses_2282403) with ops with custom gradients. Will likely fail if a gradient is requested.\n",
      "WARNING:absl:Importing a function (__inference_block2c_activation_layer_call_and_return_conditional_losses_2262957) with ops with custom gradients. Will likely fail if a gradient is requested.\n",
      "WARNING:absl:Importing a function (__inference_block3c_activation_layer_call_and_return_conditional_losses_2284859) with ops with custom gradients. Will likely fail if a gradient is requested.\n",
      "WARNING:absl:Importing a function (__inference_block2b_expand_activation_layer_call_and_return_conditional_losses_2283335) with ops with custom gradients. Will likely fail if a gradient is requested.\n",
      "WARNING:absl:Importing a function (__inference_block4c_se_reduce_layer_call_and_return_conditional_losses_2264892) with ops with custom gradients. Will likely fail if a gradient is requested.\n",
      "WARNING:absl:Importing a function (__inference_block3a_expand_activation_layer_call_and_return_conditional_losses_2284081) with ops with custom gradients. Will likely fail if a gradient is requested.\n",
      "WARNING:absl:Importing a function (__inference_block3a_se_reduce_layer_call_and_return_conditional_losses_2284200) with ops with custom gradients. Will likely fail if a gradient is requested.\n",
      "WARNING:absl:Importing a function (__inference_block5d_expand_activation_layer_call_and_return_conditional_losses_2287670) with ops with custom gradients. Will likely fail if a gradient is requested.\n",
      "WARNING:absl:Importing a function (__inference_block6b_activation_layer_call_and_return_conditional_losses_2288448) with ops with custom gradients. Will likely fail if a gradient is requested.\n",
      "WARNING:absl:Importing a function (__inference_block2c_expand_activation_layer_call_and_return_conditional_losses_2262901) with ops with custom gradients. Will likely fail if a gradient is requested.\n",
      "WARNING:absl:Importing a function (__inference_block5b_expand_activation_layer_call_and_return_conditional_losses_2265732) with ops with custom gradients. Will likely fail if a gradient is requested.\n",
      "WARNING:absl:Importing a function (__inference_block2a_activation_layer_call_and_return_conditional_losses_2262346) with ops with custom gradients. Will likely fail if a gradient is requested.\n",
      "WARNING:absl:Importing a function (__inference_block6a_activation_layer_call_and_return_conditional_losses_2288122) with ops with custom gradients. Will likely fail if a gradient is requested.\n",
      "WARNING:absl:Importing a function (__inference_block5c_se_reduce_layer_call_and_return_conditional_losses_2287416) with ops with custom gradients. Will likely fail if a gradient is requested.\n",
      "WARNING:absl:Importing a function (__inference_block1b_activation_layer_call_and_return_conditional_losses_2262013) with ops with custom gradients. Will likely fail if a gradient is requested.\n",
      "WARNING:absl:Importing a function (__inference_block5a_expand_activation_layer_call_and_return_conditional_losses_2286598) with ops with custom gradients. Will likely fail if a gradient is requested.\n",
      "WARNING:absl:Importing a function (__inference_block4c_se_reduce_layer_call_and_return_conditional_losses_2285971) with ops with custom gradients. Will likely fail if a gradient is requested.\n",
      "WARNING:absl:Importing a function (__inference_block5b_expand_activation_layer_call_and_return_conditional_losses_2286924) with ops with custom gradients. Will likely fail if a gradient is requested.\n",
      "WARNING:absl:Importing a function (__inference_block4b_activation_layer_call_and_return_conditional_losses_2264513) with ops with custom gradients. Will likely fail if a gradient is requested.\n",
      "WARNING:absl:Importing a function (__inference_block2b_activation_layer_call_and_return_conditional_losses_2262625) with ops with custom gradients. Will likely fail if a gradient is requested.\n",
      "WARNING:absl:Importing a function (__inference_block4c_activation_layer_call_and_return_conditional_losses_2264845) with ops with custom gradients. Will likely fail if a gradient is requested.\n",
      "WARNING:absl:Importing a function (__inference_block6c_activation_layer_call_and_return_conditional_losses_2267396) with ops with custom gradients. Will likely fail if a gradient is requested.\n",
      "WARNING:absl:Importing a function (__inference_block3b_activation_layer_call_and_return_conditional_losses_2284486) with ops with custom gradients. Will likely fail if a gradient is requested.\n",
      "WARNING:absl:Importing a function (__inference_block6d_expand_activation_layer_call_and_return_conditional_losses_2289115) with ops with custom gradients. Will likely fail if a gradient is requested.\n",
      "WARNING:absl:Importing a function (__inference_block5a_activation_layer_call_and_return_conditional_losses_2286677) with ops with custom gradients. Will likely fail if a gradient is requested.\n",
      "WARNING:absl:Importing a function (__inference_block3b_se_reduce_layer_call_and_return_conditional_losses_2263616) with ops with custom gradients. Will likely fail if a gradient is requested.\n",
      "WARNING:absl:Importing a function (__inference_block3b_se_reduce_layer_call_and_return_conditional_losses_2284526) with ops with custom gradients. Will likely fail if a gradient is requested.\n",
      "WARNING:absl:Importing a function (__inference_block3c_activation_layer_call_and_return_conditional_losses_2263901) with ops with custom gradients. Will likely fail if a gradient is requested.\n",
      "WARNING:absl:Importing a function (__inference_block1b_activation_layer_call_and_return_conditional_losses_2282715) with ops with custom gradients. Will likely fail if a gradient is requested.\n",
      "WARNING:absl:Importing a function (__inference_block4c_activation_layer_call_and_return_conditional_losses_2285931) with ops with custom gradients. Will likely fail if a gradient is requested.\n",
      "WARNING:absl:Importing a function (__inference_stem_activation_layer_call_and_return_conditional_losses_2261750) with ops with custom gradients. Will likely fail if a gradient is requested.\n",
      "WARNING:absl:Importing a function (__inference_block7a_expand_activation_layer_call_and_return_conditional_losses_2268336) with ops with custom gradients. Will likely fail if a gradient is requested.\n",
      "WARNING:absl:Importing a function (__inference_block6e_activation_layer_call_and_return_conditional_losses_2268060) with ops with custom gradients. Will likely fail if a gradient is requested.\n",
      "WARNING:absl:Importing a function (__inference_block4a_expand_activation_layer_call_and_return_conditional_losses_2285153) with ops with custom gradients. Will likely fail if a gradient is requested.\n",
      "WARNING:absl:Importing a function (__inference_block2b_activation_layer_call_and_return_conditional_losses_2283414) with ops with custom gradients. Will likely fail if a gradient is requested.\n",
      "WARNING:absl:Importing a function (__inference_block2a_se_reduce_layer_call_and_return_conditional_losses_2283128) with ops with custom gradients. Will likely fail if a gradient is requested.\n",
      "WARNING:absl:Importing a function (__inference_block5b_se_reduce_layer_call_and_return_conditional_losses_2287043) with ops with custom gradients. Will likely fail if a gradient is requested.\n",
      "WARNING:absl:Importing a function (__inference_block4b_expand_activation_layer_call_and_return_conditional_losses_2264457) with ops with custom gradients. Will likely fail if a gradient is requested.\n",
      "WARNING:absl:Importing a function (__inference_block4a_se_reduce_layer_call_and_return_conditional_losses_2264281) with ops with custom gradients. Will likely fail if a gradient is requested.\n",
      "WARNING:absl:Importing a function (__inference_block5b_activation_layer_call_and_return_conditional_losses_2287003) with ops with custom gradients. Will likely fail if a gradient is requested.\n",
      "WARNING:absl:Importing a function (__inference_block6c_se_reduce_layer_call_and_return_conditional_losses_2267443) with ops with custom gradients. Will likely fail if a gradient is requested.\n",
      "WARNING:absl:Importing a function (__inference_block2a_activation_layer_call_and_return_conditional_losses_2283088) with ops with custom gradients. Will likely fail if a gradient is requested.\n"
     ]
    },
    {
     "name": "stderr",
     "output_type": "stream",
     "text": [
      "WARNING:absl:Importing a function (__inference_block7b_se_reduce_layer_call_and_return_conditional_losses_2268718) with ops with custom gradients. Will likely fail if a gradient is requested.\n",
      "WARNING:absl:Importing a function (__inference_block5d_activation_layer_call_and_return_conditional_losses_2287749) with ops with custom gradients. Will likely fail if a gradient is requested.\n",
      "WARNING:absl:Importing a function (__inference_block6b_expand_activation_layer_call_and_return_conditional_losses_2267008) with ops with custom gradients. Will likely fail if a gradient is requested.\n",
      "WARNING:absl:Importing a function (__inference_block6a_expand_activation_layer_call_and_return_conditional_losses_2288043) with ops with custom gradients. Will likely fail if a gradient is requested.\n",
      "WARNING:absl:Importing a function (__inference_block4b_se_reduce_layer_call_and_return_conditional_losses_2285598) with ops with custom gradients. Will likely fail if a gradient is requested.\n",
      "WARNING:absl:Importing a function (__inference_block4d_se_reduce_layer_call_and_return_conditional_losses_2265224) with ops with custom gradients. Will likely fail if a gradient is requested.\n",
      "WARNING:absl:Importing a function (__inference_block4d_activation_layer_call_and_return_conditional_losses_2265177) with ops with custom gradients. Will likely fail if a gradient is requested.\n",
      "WARNING:absl:Importing a function (__inference_block4a_activation_layer_call_and_return_conditional_losses_2264234) with ops with custom gradients. Will likely fail if a gradient is requested.\n",
      "WARNING:absl:Importing a function (__inference_block5d_expand_activation_layer_call_and_return_conditional_losses_2266396) with ops with custom gradients. Will likely fail if a gradient is requested.\n",
      "WARNING:absl:Importing a function (__inference_block5c_activation_layer_call_and_return_conditional_losses_2266120) with ops with custom gradients. Will likely fail if a gradient is requested.\n",
      "WARNING:absl:Importing a function (__inference_block4a_activation_layer_call_and_return_conditional_losses_2285232) with ops with custom gradients. Will likely fail if a gradient is requested.\n",
      "WARNING:absl:Importing a function (__inference_block2a_expand_activation_layer_call_and_return_conditional_losses_2283009) with ops with custom gradients. Will likely fail if a gradient is requested.\n",
      "WARNING:absl:Importing a function (__inference_block2b_se_reduce_layer_call_and_return_conditional_losses_2262672) with ops with custom gradients. Will likely fail if a gradient is requested.\n",
      "WARNING:absl:Importing a function (__inference_block7a_activation_layer_call_and_return_conditional_losses_2268392) with ops with custom gradients. Will likely fail if a gradient is requested.\n",
      "WARNING:absl:Importing a function (__inference_EfficientNetB2_Oversampled_layer_call_and_return_conditional_losses_2278205) with ops with custom gradients. Will likely fail if a gradient is requested.\n",
      "WARNING:absl:Importing a function (__inference_EfficientNetB2_Oversampled_layer_call_and_return_conditional_losses_2278205) with ops with custom gradients. Will likely fail if a gradient is requested.\n",
      "WARNING:absl:Importing a function (__inference_EfficientNetB2_Oversampled_layer_call_and_return_conditional_losses_2278205) with ops with custom gradients. Will likely fail if a gradient is requested.\n",
      "WARNING:absl:Importing a function (__inference_EfficientNetB2_Oversampled_layer_call_and_return_conditional_losses_2278205) with ops with custom gradients. Will likely fail if a gradient is requested.\n",
      "WARNING:absl:Importing a function (__inference_EfficientNetB2_Oversampled_layer_call_and_return_conditional_losses_2278205) with ops with custom gradients. Will likely fail if a gradient is requested.\n",
      "WARNING:absl:Importing a function (__inference_EfficientNetB2_Oversampled_layer_call_and_return_conditional_losses_2278205) with ops with custom gradients. Will likely fail if a gradient is requested.\n",
      "WARNING:absl:Importing a function (__inference_EfficientNetB2_Oversampled_layer_call_and_return_conditional_losses_2278205) with ops with custom gradients. Will likely fail if a gradient is requested.\n",
      "WARNING:absl:Importing a function (__inference_EfficientNetB2_Oversampled_layer_call_and_return_conditional_losses_2278205) with ops with custom gradients. Will likely fail if a gradient is requested.\n",
      "WARNING:absl:Importing a function (__inference_EfficientNetB2_Oversampled_layer_call_and_return_conditional_losses_2278205) with ops with custom gradients. Will likely fail if a gradient is requested.\n",
      "WARNING:absl:Importing a function (__inference_EfficientNetB2_Oversampled_layer_call_and_return_conditional_losses_2278205) with ops with custom gradients. Will likely fail if a gradient is requested.\n",
      "WARNING:absl:Importing a function (__inference_EfficientNetB2_Oversampled_layer_call_and_return_conditional_losses_2278205) with ops with custom gradients. Will likely fail if a gradient is requested.\n",
      "WARNING:absl:Importing a function (__inference_EfficientNetB2_Oversampled_layer_call_and_return_conditional_losses_2278205) with ops with custom gradients. Will likely fail if a gradient is requested.\n",
      "WARNING:absl:Importing a function (__inference_EfficientNetB2_Oversampled_layer_call_and_return_conditional_losses_2278205) with ops with custom gradients. Will likely fail if a gradient is requested.\n",
      "WARNING:absl:Importing a function (__inference_EfficientNetB2_Oversampled_layer_call_and_return_conditional_losses_2278205) with ops with custom gradients. Will likely fail if a gradient is requested.\n",
      "WARNING:absl:Importing a function (__inference_EfficientNetB2_Oversampled_layer_call_and_return_conditional_losses_2278205) with ops with custom gradients. Will likely fail if a gradient is requested.\n",
      "WARNING:absl:Importing a function (__inference_EfficientNetB2_Oversampled_layer_call_and_return_conditional_losses_2278205) with ops with custom gradients. Will likely fail if a gradient is requested.\n",
      "WARNING:absl:Importing a function (__inference_EfficientNetB2_Oversampled_layer_call_and_return_conditional_losses_2278205) with ops with custom gradients. Will likely fail if a gradient is requested.\n",
      "WARNING:absl:Importing a function (__inference_EfficientNetB2_Oversampled_layer_call_and_return_conditional_losses_2278205) with ops with custom gradients. Will likely fail if a gradient is requested.\n",
      "WARNING:absl:Importing a function (__inference_EfficientNetB2_Oversampled_layer_call_and_return_conditional_losses_2278205) with ops with custom gradients. Will likely fail if a gradient is requested.\n",
      "WARNING:absl:Importing a function (__inference_EfficientNetB2_Oversampled_layer_call_and_return_conditional_losses_2278205) with ops with custom gradients. Will likely fail if a gradient is requested.\n",
      "WARNING:absl:Importing a function (__inference_EfficientNetB2_Oversampled_layer_call_and_return_conditional_losses_2278205) with ops with custom gradients. Will likely fail if a gradient is requested.\n",
      "WARNING:absl:Importing a function (__inference_EfficientNetB2_Oversampled_layer_call_and_return_conditional_losses_2278205) with ops with custom gradients. Will likely fail if a gradient is requested.\n",
      "WARNING:absl:Importing a function (__inference_EfficientNetB2_Oversampled_layer_call_and_return_conditional_losses_2278205) with ops with custom gradients. Will likely fail if a gradient is requested.\n",
      "WARNING:absl:Importing a function (__inference_EfficientNetB2_Oversampled_layer_call_and_return_conditional_losses_2278205) with ops with custom gradients. Will likely fail if a gradient is requested.\n",
      "WARNING:absl:Importing a function (__inference_EfficientNetB2_Oversampled_layer_call_and_return_conditional_losses_2278205) with ops with custom gradients. Will likely fail if a gradient is requested.\n",
      "WARNING:absl:Importing a function (__inference_EfficientNetB2_Oversampled_layer_call_and_return_conditional_losses_2278205) with ops with custom gradients. Will likely fail if a gradient is requested.\n",
      "WARNING:absl:Importing a function (__inference_EfficientNetB2_Oversampled_layer_call_and_return_conditional_losses_2278205) with ops with custom gradients. Will likely fail if a gradient is requested.\n",
      "WARNING:absl:Importing a function (__inference_EfficientNetB2_Oversampled_layer_call_and_return_conditional_losses_2278205) with ops with custom gradients. Will likely fail if a gradient is requested.\n"
     ]
    },
    {
     "name": "stderr",
     "output_type": "stream",
     "text": [
      "WARNING:absl:Importing a function (__inference_EfficientNetB2_Oversampled_layer_call_and_return_conditional_losses_2278205) with ops with custom gradients. Will likely fail if a gradient is requested.\n",
      "WARNING:absl:Importing a function (__inference_EfficientNetB2_Oversampled_layer_call_and_return_conditional_losses_2278205) with ops with custom gradients. Will likely fail if a gradient is requested.\n",
      "WARNING:absl:Importing a function (__inference_EfficientNetB2_Oversampled_layer_call_and_return_conditional_losses_2278205) with ops with custom gradients. Will likely fail if a gradient is requested.\n",
      "WARNING:absl:Importing a function (__inference_EfficientNetB2_Oversampled_layer_call_and_return_conditional_losses_2278205) with ops with custom gradients. Will likely fail if a gradient is requested.\n",
      "WARNING:absl:Importing a function (__inference_EfficientNetB2_Oversampled_layer_call_and_return_conditional_losses_2278205) with ops with custom gradients. Will likely fail if a gradient is requested.\n",
      "WARNING:absl:Importing a function (__inference_EfficientNetB2_Oversampled_layer_call_and_return_conditional_losses_2278205) with ops with custom gradients. Will likely fail if a gradient is requested.\n",
      "WARNING:absl:Importing a function (__inference_EfficientNetB2_Oversampled_layer_call_and_return_conditional_losses_2278205) with ops with custom gradients. Will likely fail if a gradient is requested.\n",
      "WARNING:absl:Importing a function (__inference_EfficientNetB2_Oversampled_layer_call_and_return_conditional_losses_2278205) with ops with custom gradients. Will likely fail if a gradient is requested.\n",
      "WARNING:absl:Importing a function (__inference_EfficientNetB2_Oversampled_layer_call_and_return_conditional_losses_2278205) with ops with custom gradients. Will likely fail if a gradient is requested.\n",
      "WARNING:absl:Importing a function (__inference_EfficientNetB2_Oversampled_layer_call_and_return_conditional_losses_2278205) with ops with custom gradients. Will likely fail if a gradient is requested.\n",
      "WARNING:absl:Importing a function (__inference_EfficientNetB2_Oversampled_layer_call_and_return_conditional_losses_2278205) with ops with custom gradients. Will likely fail if a gradient is requested.\n",
      "WARNING:absl:Importing a function (__inference_EfficientNetB2_Oversampled_layer_call_and_return_conditional_losses_2278205) with ops with custom gradients. Will likely fail if a gradient is requested.\n",
      "WARNING:absl:Importing a function (__inference_EfficientNetB2_Oversampled_layer_call_and_return_conditional_losses_2278205) with ops with custom gradients. Will likely fail if a gradient is requested.\n",
      "WARNING:absl:Importing a function (__inference_EfficientNetB2_Oversampled_layer_call_and_return_conditional_losses_2278205) with ops with custom gradients. Will likely fail if a gradient is requested.\n",
      "WARNING:absl:Importing a function (__inference_EfficientNetB2_Oversampled_layer_call_and_return_conditional_losses_2278205) with ops with custom gradients. Will likely fail if a gradient is requested.\n",
      "WARNING:absl:Importing a function (__inference_EfficientNetB2_Oversampled_layer_call_and_return_conditional_losses_2278205) with ops with custom gradients. Will likely fail if a gradient is requested.\n",
      "WARNING:absl:Importing a function (__inference_EfficientNetB2_Oversampled_layer_call_and_return_conditional_losses_2278205) with ops with custom gradients. Will likely fail if a gradient is requested.\n",
      "WARNING:absl:Importing a function (__inference_EfficientNetB2_Oversampled_layer_call_and_return_conditional_losses_2278205) with ops with custom gradients. Will likely fail if a gradient is requested.\n",
      "WARNING:absl:Importing a function (__inference_EfficientNetB2_Oversampled_layer_call_and_return_conditional_losses_2278205) with ops with custom gradients. Will likely fail if a gradient is requested.\n",
      "WARNING:absl:Importing a function (__inference_EfficientNetB2_Oversampled_layer_call_and_return_conditional_losses_2278205) with ops with custom gradients. Will likely fail if a gradient is requested.\n",
      "WARNING:absl:Importing a function (__inference_EfficientNetB2_Oversampled_layer_call_and_return_conditional_losses_2278205) with ops with custom gradients. Will likely fail if a gradient is requested.\n",
      "WARNING:absl:Importing a function (__inference_EfficientNetB2_Oversampled_layer_call_and_return_conditional_losses_2278205) with ops with custom gradients. Will likely fail if a gradient is requested.\n",
      "WARNING:absl:Importing a function (__inference_EfficientNetB2_Oversampled_layer_call_and_return_conditional_losses_2278205) with ops with custom gradients. Will likely fail if a gradient is requested.\n",
      "WARNING:absl:Importing a function (__inference_EfficientNetB2_Oversampled_layer_call_and_return_conditional_losses_2278205) with ops with custom gradients. Will likely fail if a gradient is requested.\n",
      "WARNING:absl:Importing a function (__inference_EfficientNetB2_Oversampled_layer_call_and_return_conditional_losses_2278205) with ops with custom gradients. Will likely fail if a gradient is requested.\n",
      "WARNING:absl:Importing a function (__inference_EfficientNetB2_Oversampled_layer_call_and_return_conditional_losses_2278205) with ops with custom gradients. Will likely fail if a gradient is requested.\n",
      "WARNING:absl:Importing a function (__inference_EfficientNetB2_Oversampled_layer_call_and_return_conditional_losses_2278205) with ops with custom gradients. Will likely fail if a gradient is requested.\n",
      "WARNING:absl:Importing a function (__inference_EfficientNetB2_Oversampled_layer_call_and_return_conditional_losses_2278205) with ops with custom gradients. Will likely fail if a gradient is requested.\n",
      "WARNING:absl:Importing a function (__inference_EfficientNetB2_Oversampled_layer_call_and_return_conditional_losses_2278205) with ops with custom gradients. Will likely fail if a gradient is requested.\n",
      "WARNING:absl:Importing a function (__inference_EfficientNetB2_Oversampled_layer_call_and_return_conditional_losses_2278205) with ops with custom gradients. Will likely fail if a gradient is requested.\n",
      "WARNING:absl:Importing a function (__inference_EfficientNetB2_Oversampled_layer_call_and_return_conditional_losses_2278205) with ops with custom gradients. Will likely fail if a gradient is requested.\n",
      "WARNING:absl:Importing a function (__inference_EfficientNetB2_Oversampled_layer_call_and_return_conditional_losses_2278205) with ops with custom gradients. Will likely fail if a gradient is requested.\n",
      "WARNING:absl:Importing a function (__inference_EfficientNetB2_Oversampled_layer_call_and_return_conditional_losses_2278205) with ops with custom gradients. Will likely fail if a gradient is requested.\n",
      "WARNING:absl:Importing a function (__inference_EfficientNetB2_Oversampled_layer_call_and_return_conditional_losses_2278205) with ops with custom gradients. Will likely fail if a gradient is requested.\n",
      "WARNING:absl:Importing a function (__inference_EfficientNetB2_Oversampled_layer_call_and_return_conditional_losses_2278205) with ops with custom gradients. Will likely fail if a gradient is requested.\n",
      "WARNING:absl:Importing a function (__inference_EfficientNetB2_Oversampled_layer_call_and_return_conditional_losses_2278205) with ops with custom gradients. Will likely fail if a gradient is requested.\n",
      "WARNING:absl:Importing a function (__inference_EfficientNetB2_Oversampled_layer_call_and_return_conditional_losses_2278205) with ops with custom gradients. Will likely fail if a gradient is requested.\n",
      "WARNING:absl:Importing a function (__inference_EfficientNetB2_Oversampled_layer_call_and_return_conditional_losses_2278205) with ops with custom gradients. Will likely fail if a gradient is requested.\n",
      "WARNING:absl:Importing a function (__inference_EfficientNetB2_Oversampled_layer_call_and_return_conditional_losses_2278205) with ops with custom gradients. Will likely fail if a gradient is requested.\n",
      "WARNING:absl:Importing a function (__inference_EfficientNetB2_Oversampled_layer_call_and_return_conditional_losses_2278205) with ops with custom gradients. Will likely fail if a gradient is requested.\n",
      "WARNING:absl:Importing a function (__inference_EfficientNetB2_Oversampled_layer_call_and_return_conditional_losses_2278205) with ops with custom gradients. Will likely fail if a gradient is requested.\n"
     ]
    },
    {
     "name": "stderr",
     "output_type": "stream",
     "text": [
      "WARNING:absl:Importing a function (__inference_block6d_activation_layer_call_and_return_conditional_losses_2267728) with ops with custom gradients. Will likely fail if a gradient is requested.\n",
      "WARNING:absl:Importing a function (__inference_block1a_se_reduce_layer_call_and_return_conditional_losses_2282522) with ops with custom gradients. Will likely fail if a gradient is requested.\n",
      "WARNING:absl:Importing a function (__inference_block1a_activation_layer_call_and_return_conditional_losses_2282482) with ops with custom gradients. Will likely fail if a gradient is requested.\n",
      "WARNING:absl:Importing a function (__inference_block6d_expand_activation_layer_call_and_return_conditional_losses_2267672) with ops with custom gradients. Will likely fail if a gradient is requested.\n",
      "WARNING:absl:Importing a function (__inference_block2c_activation_layer_call_and_return_conditional_losses_2283787) with ops with custom gradients. Will likely fail if a gradient is requested.\n",
      "WARNING:absl:Importing a function (__inference_block2b_se_reduce_layer_call_and_return_conditional_losses_2283454) with ops with custom gradients. Will likely fail if a gradient is requested.\n",
      "WARNING:absl:Importing a function (__inference_block3b_expand_activation_layer_call_and_return_conditional_losses_2263513) with ops with custom gradients. Will likely fail if a gradient is requested.\n",
      "WARNING:absl:Importing a function (__inference_block6a_se_reduce_layer_call_and_return_conditional_losses_2266832) with ops with custom gradients. Will likely fail if a gradient is requested.\n",
      "WARNING:absl:Importing a function (__inference_block6d_activation_layer_call_and_return_conditional_losses_2289194) with ops with custom gradients. Will likely fail if a gradient is requested.\n",
      "WARNING:absl:Importing a function (__inference_block5d_se_reduce_layer_call_and_return_conditional_losses_2287789) with ops with custom gradients. Will likely fail if a gradient is requested.\n",
      "WARNING:absl:Importing a function (__inference_block4b_se_reduce_layer_call_and_return_conditional_losses_2264560) with ops with custom gradients. Will likely fail if a gradient is requested.\n",
      "WARNING:absl:Importing a function (__inference_block5b_se_reduce_layer_call_and_return_conditional_losses_2265835) with ops with custom gradients. Will likely fail if a gradient is requested.\n",
      "WARNING:absl:Importing a function (__inference_block5a_expand_activation_layer_call_and_return_conditional_losses_2265453) with ops with custom gradients. Will likely fail if a gradient is requested.\n",
      "WARNING:absl:Importing a function (__inference_block6e_activation_layer_call_and_return_conditional_losses_2289567) with ops with custom gradients. Will likely fail if a gradient is requested.\n",
      "WARNING:absl:Importing a function (__inference__wrapped_model_2253557) with ops with custom gradients. Will likely fail if a gradient is requested.\n",
      "WARNING:absl:Importing a function (__inference__wrapped_model_2253557) with ops with custom gradients. Will likely fail if a gradient is requested.\n",
      "WARNING:absl:Importing a function (__inference__wrapped_model_2253557) with ops with custom gradients. Will likely fail if a gradient is requested.\n",
      "WARNING:absl:Importing a function (__inference__wrapped_model_2253557) with ops with custom gradients. Will likely fail if a gradient is requested.\n",
      "WARNING:absl:Importing a function (__inference__wrapped_model_2253557) with ops with custom gradients. Will likely fail if a gradient is requested.\n",
      "WARNING:absl:Importing a function (__inference__wrapped_model_2253557) with ops with custom gradients. Will likely fail if a gradient is requested.\n",
      "WARNING:absl:Importing a function (__inference__wrapped_model_2253557) with ops with custom gradients. Will likely fail if a gradient is requested.\n",
      "WARNING:absl:Importing a function (__inference__wrapped_model_2253557) with ops with custom gradients. Will likely fail if a gradient is requested.\n",
      "WARNING:absl:Importing a function (__inference__wrapped_model_2253557) with ops with custom gradients. Will likely fail if a gradient is requested.\n",
      "WARNING:absl:Importing a function (__inference__wrapped_model_2253557) with ops with custom gradients. Will likely fail if a gradient is requested.\n",
      "WARNING:absl:Importing a function (__inference__wrapped_model_2253557) with ops with custom gradients. Will likely fail if a gradient is requested.\n",
      "WARNING:absl:Importing a function (__inference__wrapped_model_2253557) with ops with custom gradients. Will likely fail if a gradient is requested.\n",
      "WARNING:absl:Importing a function (__inference__wrapped_model_2253557) with ops with custom gradients. Will likely fail if a gradient is requested.\n",
      "WARNING:absl:Importing a function (__inference__wrapped_model_2253557) with ops with custom gradients. Will likely fail if a gradient is requested.\n",
      "WARNING:absl:Importing a function (__inference__wrapped_model_2253557) with ops with custom gradients. Will likely fail if a gradient is requested.\n",
      "WARNING:absl:Importing a function (__inference__wrapped_model_2253557) with ops with custom gradients. Will likely fail if a gradient is requested.\n",
      "WARNING:absl:Importing a function (__inference__wrapped_model_2253557) with ops with custom gradients. Will likely fail if a gradient is requested.\n",
      "WARNING:absl:Importing a function (__inference__wrapped_model_2253557) with ops with custom gradients. Will likely fail if a gradient is requested.\n",
      "WARNING:absl:Importing a function (__inference__wrapped_model_2253557) with ops with custom gradients. Will likely fail if a gradient is requested.\n",
      "WARNING:absl:Importing a function (__inference__wrapped_model_2253557) with ops with custom gradients. Will likely fail if a gradient is requested.\n",
      "WARNING:absl:Importing a function (__inference__wrapped_model_2253557) with ops with custom gradients. Will likely fail if a gradient is requested.\n",
      "WARNING:absl:Importing a function (__inference__wrapped_model_2253557) with ops with custom gradients. Will likely fail if a gradient is requested.\n",
      "WARNING:absl:Importing a function (__inference__wrapped_model_2253557) with ops with custom gradients. Will likely fail if a gradient is requested.\n",
      "WARNING:absl:Importing a function (__inference__wrapped_model_2253557) with ops with custom gradients. Will likely fail if a gradient is requested.\n",
      "WARNING:absl:Importing a function (__inference__wrapped_model_2253557) with ops with custom gradients. Will likely fail if a gradient is requested.\n",
      "WARNING:absl:Importing a function (__inference__wrapped_model_2253557) with ops with custom gradients. Will likely fail if a gradient is requested.\n",
      "WARNING:absl:Importing a function (__inference__wrapped_model_2253557) with ops with custom gradients. Will likely fail if a gradient is requested.\n",
      "WARNING:absl:Importing a function (__inference__wrapped_model_2253557) with ops with custom gradients. Will likely fail if a gradient is requested.\n",
      "WARNING:absl:Importing a function (__inference__wrapped_model_2253557) with ops with custom gradients. Will likely fail if a gradient is requested.\n",
      "WARNING:absl:Importing a function (__inference__wrapped_model_2253557) with ops with custom gradients. Will likely fail if a gradient is requested.\n",
      "WARNING:absl:Importing a function (__inference__wrapped_model_2253557) with ops with custom gradients. Will likely fail if a gradient is requested.\n",
      "WARNING:absl:Importing a function (__inference__wrapped_model_2253557) with ops with custom gradients. Will likely fail if a gradient is requested.\n",
      "WARNING:absl:Importing a function (__inference__wrapped_model_2253557) with ops with custom gradients. Will likely fail if a gradient is requested.\n",
      "WARNING:absl:Importing a function (__inference__wrapped_model_2253557) with ops with custom gradients. Will likely fail if a gradient is requested.\n",
      "WARNING:absl:Importing a function (__inference__wrapped_model_2253557) with ops with custom gradients. Will likely fail if a gradient is requested.\n",
      "WARNING:absl:Importing a function (__inference__wrapped_model_2253557) with ops with custom gradients. Will likely fail if a gradient is requested.\n",
      "WARNING:absl:Importing a function (__inference__wrapped_model_2253557) with ops with custom gradients. Will likely fail if a gradient is requested.\n"
     ]
    },
    {
     "name": "stderr",
     "output_type": "stream",
     "text": [
      "WARNING:absl:Importing a function (__inference__wrapped_model_2253557) with ops with custom gradients. Will likely fail if a gradient is requested.\n",
      "WARNING:absl:Importing a function (__inference__wrapped_model_2253557) with ops with custom gradients. Will likely fail if a gradient is requested.\n",
      "WARNING:absl:Importing a function (__inference__wrapped_model_2253557) with ops with custom gradients. Will likely fail if a gradient is requested.\n",
      "WARNING:absl:Importing a function (__inference__wrapped_model_2253557) with ops with custom gradients. Will likely fail if a gradient is requested.\n",
      "WARNING:absl:Importing a function (__inference__wrapped_model_2253557) with ops with custom gradients. Will likely fail if a gradient is requested.\n",
      "WARNING:absl:Importing a function (__inference__wrapped_model_2253557) with ops with custom gradients. Will likely fail if a gradient is requested.\n",
      "WARNING:absl:Importing a function (__inference__wrapped_model_2253557) with ops with custom gradients. Will likely fail if a gradient is requested.\n",
      "WARNING:absl:Importing a function (__inference__wrapped_model_2253557) with ops with custom gradients. Will likely fail if a gradient is requested.\n",
      "WARNING:absl:Importing a function (__inference__wrapped_model_2253557) with ops with custom gradients. Will likely fail if a gradient is requested.\n",
      "WARNING:absl:Importing a function (__inference__wrapped_model_2253557) with ops with custom gradients. Will likely fail if a gradient is requested.\n",
      "WARNING:absl:Importing a function (__inference__wrapped_model_2253557) with ops with custom gradients. Will likely fail if a gradient is requested.\n",
      "WARNING:absl:Importing a function (__inference__wrapped_model_2253557) with ops with custom gradients. Will likely fail if a gradient is requested.\n",
      "WARNING:absl:Importing a function (__inference__wrapped_model_2253557) with ops with custom gradients. Will likely fail if a gradient is requested.\n",
      "WARNING:absl:Importing a function (__inference__wrapped_model_2253557) with ops with custom gradients. Will likely fail if a gradient is requested.\n",
      "WARNING:absl:Importing a function (__inference__wrapped_model_2253557) with ops with custom gradients. Will likely fail if a gradient is requested.\n",
      "WARNING:absl:Importing a function (__inference__wrapped_model_2253557) with ops with custom gradients. Will likely fail if a gradient is requested.\n",
      "WARNING:absl:Importing a function (__inference__wrapped_model_2253557) with ops with custom gradients. Will likely fail if a gradient is requested.\n",
      "WARNING:absl:Importing a function (__inference__wrapped_model_2253557) with ops with custom gradients. Will likely fail if a gradient is requested.\n",
      "WARNING:absl:Importing a function (__inference__wrapped_model_2253557) with ops with custom gradients. Will likely fail if a gradient is requested.\n",
      "WARNING:absl:Importing a function (__inference__wrapped_model_2253557) with ops with custom gradients. Will likely fail if a gradient is requested.\n",
      "WARNING:absl:Importing a function (__inference__wrapped_model_2253557) with ops with custom gradients. Will likely fail if a gradient is requested.\n",
      "WARNING:absl:Importing a function (__inference__wrapped_model_2253557) with ops with custom gradients. Will likely fail if a gradient is requested.\n",
      "WARNING:absl:Importing a function (__inference__wrapped_model_2253557) with ops with custom gradients. Will likely fail if a gradient is requested.\n",
      "WARNING:absl:Importing a function (__inference__wrapped_model_2253557) with ops with custom gradients. Will likely fail if a gradient is requested.\n",
      "WARNING:absl:Importing a function (__inference__wrapped_model_2253557) with ops with custom gradients. Will likely fail if a gradient is requested.\n",
      "WARNING:absl:Importing a function (__inference__wrapped_model_2253557) with ops with custom gradients. Will likely fail if a gradient is requested.\n",
      "WARNING:absl:Importing a function (__inference__wrapped_model_2253557) with ops with custom gradients. Will likely fail if a gradient is requested.\n",
      "WARNING:absl:Importing a function (__inference__wrapped_model_2253557) with ops with custom gradients. Will likely fail if a gradient is requested.\n",
      "WARNING:absl:Importing a function (__inference__wrapped_model_2253557) with ops with custom gradients. Will likely fail if a gradient is requested.\n",
      "WARNING:absl:Importing a function (__inference__wrapped_model_2253557) with ops with custom gradients. Will likely fail if a gradient is requested.\n",
      "WARNING:absl:Importing a function (__inference__wrapped_model_2253557) with ops with custom gradients. Will likely fail if a gradient is requested.\n",
      "WARNING:absl:Importing a function (__inference__wrapped_model_2253557) with ops with custom gradients. Will likely fail if a gradient is requested.\n",
      "WARNING:absl:Importing a function (__inference_block6e_expand_activation_layer_call_and_return_conditional_losses_2289488) with ops with custom gradients. Will likely fail if a gradient is requested.\n",
      "WARNING:absl:Importing a function (__inference_block5b_activation_layer_call_and_return_conditional_losses_2265788) with ops with custom gradients. Will likely fail if a gradient is requested.\n",
      "WARNING:absl:Importing a function (__inference_block4a_expand_activation_layer_call_and_return_conditional_losses_2264177) with ops with custom gradients. Will likely fail if a gradient is requested.\n",
      "WARNING:absl:Importing a function (__inference_block2c_expand_activation_layer_call_and_return_conditional_losses_2283708) with ops with custom gradients. Will likely fail if a gradient is requested.\n",
      "WARNING:absl:Importing a function (__inference_block6e_se_reduce_layer_call_and_return_conditional_losses_2268107) with ops with custom gradients. Will likely fail if a gradient is requested.\n",
      "WARNING:absl:Importing a function (__inference_block1a_se_reduce_layer_call_and_return_conditional_losses_2261853) with ops with custom gradients. Will likely fail if a gradient is requested.\n",
      "WARNING:absl:Importing a function (__inference_block7a_se_reduce_layer_call_and_return_conditional_losses_2268439) with ops with custom gradients. Will likely fail if a gradient is requested.\n",
      "WARNING:absl:Importing a function (__inference_block2c_se_reduce_layer_call_and_return_conditional_losses_2283827) with ops with custom gradients. Will likely fail if a gradient is requested.\n",
      "WARNING:absl:Importing a function (__inference_block5d_se_reduce_layer_call_and_return_conditional_losses_2266499) with ops with custom gradients. Will likely fail if a gradient is requested.\n",
      "WARNING:absl:Importing a function (__inference_block6e_se_reduce_layer_call_and_return_conditional_losses_2289607) with ops with custom gradients. Will likely fail if a gradient is requested.\n",
      "WARNING:absl:Importing a function (__inference_block6b_se_reduce_layer_call_and_return_conditional_losses_2288488) with ops with custom gradients. Will likely fail if a gradient is requested.\n",
      "WARNING:absl:Importing a function (__inference_block3b_activation_layer_call_and_return_conditional_losses_2263569) with ops with custom gradients. Will likely fail if a gradient is requested.\n",
      "WARNING:absl:Importing a function (__inference_block7b_expand_activation_layer_call_and_return_conditional_losses_2268615) with ops with custom gradients. Will likely fail if a gradient is requested.\n",
      "WARNING:absl:Importing a function (__inference_block3c_expand_activation_layer_call_and_return_conditional_losses_2263845) with ops with custom gradients. Will likely fail if a gradient is requested.\n",
      "WARNING:absl:Importing a function (__inference_block3a_activation_layer_call_and_return_conditional_losses_2284160) with ops with custom gradients. Will likely fail if a gradient is requested.\n",
      "WARNING:absl:Importing a function (__inference_block4c_expand_activation_layer_call_and_return_conditional_losses_2264789) with ops with custom gradients. Will likely fail if a gradient is requested.\n",
      "WARNING:absl:Importing a function (__inference_block3c_se_reduce_layer_call_and_return_conditional_losses_2263948) with ops with custom gradients. Will likely fail if a gradient is requested.\n",
      "WARNING:absl:Importing a function (__inference_block3a_expand_activation_layer_call_and_return_conditional_losses_2263233) with ops with custom gradients. Will likely fail if a gradient is requested.\n"
     ]
    },
    {
     "name": "stderr",
     "output_type": "stream",
     "text": [
      "WARNING:absl:Importing a function (__inference_block6e_expand_activation_layer_call_and_return_conditional_losses_2268004) with ops with custom gradients. Will likely fail if a gradient is requested.\n",
      "WARNING:absl:Importing a function (__inference_block7a_activation_layer_call_and_return_conditional_losses_2289940) with ops with custom gradients. Will likely fail if a gradient is requested.\n",
      "WARNING:absl:Importing a function (__inference_block1b_se_reduce_layer_call_and_return_conditional_losses_2282755) with ops with custom gradients. Will likely fail if a gradient is requested.\n",
      "WARNING:absl:Importing a function (__inference_EfficientNetB2_Oversampled_layer_call_and_return_conditional_losses_2280525) with ops with custom gradients. Will likely fail if a gradient is requested.\n",
      "WARNING:absl:Importing a function (__inference_EfficientNetB2_Oversampled_layer_call_and_return_conditional_losses_2280525) with ops with custom gradients. Will likely fail if a gradient is requested.\n",
      "WARNING:absl:Importing a function (__inference_EfficientNetB2_Oversampled_layer_call_and_return_conditional_losses_2280525) with ops with custom gradients. Will likely fail if a gradient is requested.\n",
      "WARNING:absl:Importing a function (__inference_EfficientNetB2_Oversampled_layer_call_and_return_conditional_losses_2280525) with ops with custom gradients. Will likely fail if a gradient is requested.\n",
      "WARNING:absl:Importing a function (__inference_EfficientNetB2_Oversampled_layer_call_and_return_conditional_losses_2280525) with ops with custom gradients. Will likely fail if a gradient is requested.\n",
      "WARNING:absl:Importing a function (__inference_EfficientNetB2_Oversampled_layer_call_and_return_conditional_losses_2280525) with ops with custom gradients. Will likely fail if a gradient is requested.\n",
      "WARNING:absl:Importing a function (__inference_EfficientNetB2_Oversampled_layer_call_and_return_conditional_losses_2280525) with ops with custom gradients. Will likely fail if a gradient is requested.\n",
      "WARNING:absl:Importing a function (__inference_EfficientNetB2_Oversampled_layer_call_and_return_conditional_losses_2280525) with ops with custom gradients. Will likely fail if a gradient is requested.\n",
      "WARNING:absl:Importing a function (__inference_EfficientNetB2_Oversampled_layer_call_and_return_conditional_losses_2280525) with ops with custom gradients. Will likely fail if a gradient is requested.\n",
      "WARNING:absl:Importing a function (__inference_EfficientNetB2_Oversampled_layer_call_and_return_conditional_losses_2280525) with ops with custom gradients. Will likely fail if a gradient is requested.\n",
      "WARNING:absl:Importing a function (__inference_EfficientNetB2_Oversampled_layer_call_and_return_conditional_losses_2280525) with ops with custom gradients. Will likely fail if a gradient is requested.\n",
      "WARNING:absl:Importing a function (__inference_EfficientNetB2_Oversampled_layer_call_and_return_conditional_losses_2280525) with ops with custom gradients. Will likely fail if a gradient is requested.\n",
      "WARNING:absl:Importing a function (__inference_EfficientNetB2_Oversampled_layer_call_and_return_conditional_losses_2280525) with ops with custom gradients. Will likely fail if a gradient is requested.\n",
      "WARNING:absl:Importing a function (__inference_EfficientNetB2_Oversampled_layer_call_and_return_conditional_losses_2280525) with ops with custom gradients. Will likely fail if a gradient is requested.\n",
      "WARNING:absl:Importing a function (__inference_EfficientNetB2_Oversampled_layer_call_and_return_conditional_losses_2280525) with ops with custom gradients. Will likely fail if a gradient is requested.\n",
      "WARNING:absl:Importing a function (__inference_EfficientNetB2_Oversampled_layer_call_and_return_conditional_losses_2280525) with ops with custom gradients. Will likely fail if a gradient is requested.\n",
      "WARNING:absl:Importing a function (__inference_EfficientNetB2_Oversampled_layer_call_and_return_conditional_losses_2280525) with ops with custom gradients. Will likely fail if a gradient is requested.\n",
      "WARNING:absl:Importing a function (__inference_EfficientNetB2_Oversampled_layer_call_and_return_conditional_losses_2280525) with ops with custom gradients. Will likely fail if a gradient is requested.\n",
      "WARNING:absl:Importing a function (__inference_EfficientNetB2_Oversampled_layer_call_and_return_conditional_losses_2280525) with ops with custom gradients. Will likely fail if a gradient is requested.\n",
      "WARNING:absl:Importing a function (__inference_EfficientNetB2_Oversampled_layer_call_and_return_conditional_losses_2280525) with ops with custom gradients. Will likely fail if a gradient is requested.\n",
      "WARNING:absl:Importing a function (__inference_EfficientNetB2_Oversampled_layer_call_and_return_conditional_losses_2280525) with ops with custom gradients. Will likely fail if a gradient is requested.\n",
      "WARNING:absl:Importing a function (__inference_EfficientNetB2_Oversampled_layer_call_and_return_conditional_losses_2280525) with ops with custom gradients. Will likely fail if a gradient is requested.\n",
      "WARNING:absl:Importing a function (__inference_EfficientNetB2_Oversampled_layer_call_and_return_conditional_losses_2280525) with ops with custom gradients. Will likely fail if a gradient is requested.\n",
      "WARNING:absl:Importing a function (__inference_EfficientNetB2_Oversampled_layer_call_and_return_conditional_losses_2280525) with ops with custom gradients. Will likely fail if a gradient is requested.\n",
      "WARNING:absl:Importing a function (__inference_EfficientNetB2_Oversampled_layer_call_and_return_conditional_losses_2280525) with ops with custom gradients. Will likely fail if a gradient is requested.\n",
      "WARNING:absl:Importing a function (__inference_EfficientNetB2_Oversampled_layer_call_and_return_conditional_losses_2280525) with ops with custom gradients. Will likely fail if a gradient is requested.\n",
      "WARNING:absl:Importing a function (__inference_EfficientNetB2_Oversampled_layer_call_and_return_conditional_losses_2280525) with ops with custom gradients. Will likely fail if a gradient is requested.\n",
      "WARNING:absl:Importing a function (__inference_EfficientNetB2_Oversampled_layer_call_and_return_conditional_losses_2280525) with ops with custom gradients. Will likely fail if a gradient is requested.\n",
      "WARNING:absl:Importing a function (__inference_EfficientNetB2_Oversampled_layer_call_and_return_conditional_losses_2280525) with ops with custom gradients. Will likely fail if a gradient is requested.\n",
      "WARNING:absl:Importing a function (__inference_EfficientNetB2_Oversampled_layer_call_and_return_conditional_losses_2280525) with ops with custom gradients. Will likely fail if a gradient is requested.\n",
      "WARNING:absl:Importing a function (__inference_EfficientNetB2_Oversampled_layer_call_and_return_conditional_losses_2280525) with ops with custom gradients. Will likely fail if a gradient is requested.\n",
      "WARNING:absl:Importing a function (__inference_EfficientNetB2_Oversampled_layer_call_and_return_conditional_losses_2280525) with ops with custom gradients. Will likely fail if a gradient is requested.\n",
      "WARNING:absl:Importing a function (__inference_EfficientNetB2_Oversampled_layer_call_and_return_conditional_losses_2280525) with ops with custom gradients. Will likely fail if a gradient is requested.\n",
      "WARNING:absl:Importing a function (__inference_EfficientNetB2_Oversampled_layer_call_and_return_conditional_losses_2280525) with ops with custom gradients. Will likely fail if a gradient is requested.\n",
      "WARNING:absl:Importing a function (__inference_EfficientNetB2_Oversampled_layer_call_and_return_conditional_losses_2280525) with ops with custom gradients. Will likely fail if a gradient is requested.\n",
      "WARNING:absl:Importing a function (__inference_EfficientNetB2_Oversampled_layer_call_and_return_conditional_losses_2280525) with ops with custom gradients. Will likely fail if a gradient is requested.\n",
      "WARNING:absl:Importing a function (__inference_EfficientNetB2_Oversampled_layer_call_and_return_conditional_losses_2280525) with ops with custom gradients. Will likely fail if a gradient is requested.\n",
      "WARNING:absl:Importing a function (__inference_EfficientNetB2_Oversampled_layer_call_and_return_conditional_losses_2280525) with ops with custom gradients. Will likely fail if a gradient is requested.\n"
     ]
    },
    {
     "name": "stderr",
     "output_type": "stream",
     "text": [
      "WARNING:absl:Importing a function (__inference_EfficientNetB2_Oversampled_layer_call_and_return_conditional_losses_2280525) with ops with custom gradients. Will likely fail if a gradient is requested.\n",
      "WARNING:absl:Importing a function (__inference_EfficientNetB2_Oversampled_layer_call_and_return_conditional_losses_2280525) with ops with custom gradients. Will likely fail if a gradient is requested.\n",
      "WARNING:absl:Importing a function (__inference_EfficientNetB2_Oversampled_layer_call_and_return_conditional_losses_2280525) with ops with custom gradients. Will likely fail if a gradient is requested.\n",
      "WARNING:absl:Importing a function (__inference_EfficientNetB2_Oversampled_layer_call_and_return_conditional_losses_2280525) with ops with custom gradients. Will likely fail if a gradient is requested.\n",
      "WARNING:absl:Importing a function (__inference_EfficientNetB2_Oversampled_layer_call_and_return_conditional_losses_2280525) with ops with custom gradients. Will likely fail if a gradient is requested.\n",
      "WARNING:absl:Importing a function (__inference_EfficientNetB2_Oversampled_layer_call_and_return_conditional_losses_2280525) with ops with custom gradients. Will likely fail if a gradient is requested.\n",
      "WARNING:absl:Importing a function (__inference_EfficientNetB2_Oversampled_layer_call_and_return_conditional_losses_2280525) with ops with custom gradients. Will likely fail if a gradient is requested.\n",
      "WARNING:absl:Importing a function (__inference_EfficientNetB2_Oversampled_layer_call_and_return_conditional_losses_2280525) with ops with custom gradients. Will likely fail if a gradient is requested.\n",
      "WARNING:absl:Importing a function (__inference_EfficientNetB2_Oversampled_layer_call_and_return_conditional_losses_2280525) with ops with custom gradients. Will likely fail if a gradient is requested.\n",
      "WARNING:absl:Importing a function (__inference_EfficientNetB2_Oversampled_layer_call_and_return_conditional_losses_2280525) with ops with custom gradients. Will likely fail if a gradient is requested.\n",
      "WARNING:absl:Importing a function (__inference_EfficientNetB2_Oversampled_layer_call_and_return_conditional_losses_2280525) with ops with custom gradients. Will likely fail if a gradient is requested.\n",
      "WARNING:absl:Importing a function (__inference_EfficientNetB2_Oversampled_layer_call_and_return_conditional_losses_2280525) with ops with custom gradients. Will likely fail if a gradient is requested.\n",
      "WARNING:absl:Importing a function (__inference_EfficientNetB2_Oversampled_layer_call_and_return_conditional_losses_2280525) with ops with custom gradients. Will likely fail if a gradient is requested.\n",
      "WARNING:absl:Importing a function (__inference_EfficientNetB2_Oversampled_layer_call_and_return_conditional_losses_2280525) with ops with custom gradients. Will likely fail if a gradient is requested.\n",
      "WARNING:absl:Importing a function (__inference_EfficientNetB2_Oversampled_layer_call_and_return_conditional_losses_2280525) with ops with custom gradients. Will likely fail if a gradient is requested.\n",
      "WARNING:absl:Importing a function (__inference_EfficientNetB2_Oversampled_layer_call_and_return_conditional_losses_2280525) with ops with custom gradients. Will likely fail if a gradient is requested.\n",
      "WARNING:absl:Importing a function (__inference_EfficientNetB2_Oversampled_layer_call_and_return_conditional_losses_2280525) with ops with custom gradients. Will likely fail if a gradient is requested.\n",
      "WARNING:absl:Importing a function (__inference_EfficientNetB2_Oversampled_layer_call_and_return_conditional_losses_2280525) with ops with custom gradients. Will likely fail if a gradient is requested.\n",
      "WARNING:absl:Importing a function (__inference_EfficientNetB2_Oversampled_layer_call_and_return_conditional_losses_2280525) with ops with custom gradients. Will likely fail if a gradient is requested.\n",
      "WARNING:absl:Importing a function (__inference_EfficientNetB2_Oversampled_layer_call_and_return_conditional_losses_2280525) with ops with custom gradients. Will likely fail if a gradient is requested.\n",
      "WARNING:absl:Importing a function (__inference_EfficientNetB2_Oversampled_layer_call_and_return_conditional_losses_2280525) with ops with custom gradients. Will likely fail if a gradient is requested.\n",
      "WARNING:absl:Importing a function (__inference_EfficientNetB2_Oversampled_layer_call_and_return_conditional_losses_2280525) with ops with custom gradients. Will likely fail if a gradient is requested.\n",
      "WARNING:absl:Importing a function (__inference_EfficientNetB2_Oversampled_layer_call_and_return_conditional_losses_2280525) with ops with custom gradients. Will likely fail if a gradient is requested.\n",
      "WARNING:absl:Importing a function (__inference_EfficientNetB2_Oversampled_layer_call_and_return_conditional_losses_2280525) with ops with custom gradients. Will likely fail if a gradient is requested.\n",
      "WARNING:absl:Importing a function (__inference_EfficientNetB2_Oversampled_layer_call_and_return_conditional_losses_2280525) with ops with custom gradients. Will likely fail if a gradient is requested.\n",
      "WARNING:absl:Importing a function (__inference_EfficientNetB2_Oversampled_layer_call_and_return_conditional_losses_2280525) with ops with custom gradients. Will likely fail if a gradient is requested.\n",
      "WARNING:absl:Importing a function (__inference_EfficientNetB2_Oversampled_layer_call_and_return_conditional_losses_2280525) with ops with custom gradients. Will likely fail if a gradient is requested.\n",
      "WARNING:absl:Importing a function (__inference_EfficientNetB2_Oversampled_layer_call_and_return_conditional_losses_2280525) with ops with custom gradients. Will likely fail if a gradient is requested.\n",
      "WARNING:absl:Importing a function (__inference_EfficientNetB2_Oversampled_layer_call_and_return_conditional_losses_2280525) with ops with custom gradients. Will likely fail if a gradient is requested.\n",
      "WARNING:absl:Importing a function (__inference_EfficientNetB2_Oversampled_layer_call_and_return_conditional_losses_2280525) with ops with custom gradients. Will likely fail if a gradient is requested.\n",
      "WARNING:absl:Importing a function (__inference_EfficientNetB2_Oversampled_layer_call_and_return_conditional_losses_2280525) with ops with custom gradients. Will likely fail if a gradient is requested.\n",
      "WARNING:absl:Importing a function (__inference_block2c_se_reduce_layer_call_and_return_conditional_losses_2263004) with ops with custom gradients. Will likely fail if a gradient is requested.\n",
      "WARNING:absl:Importing a function (__inference_block6c_expand_activation_layer_call_and_return_conditional_losses_2267340) with ops with custom gradients. Will likely fail if a gradient is requested.\n",
      "WARNING:absl:Importing a function (__inference_block6c_se_reduce_layer_call_and_return_conditional_losses_2288861) with ops with custom gradients. Will likely fail if a gradient is requested.\n"
     ]
    }
   ],
   "source": [
    "model = keras.models.load_model(\n",
    "    \"./models/oversampled/effNetB2_oversFull99\")"
   ]
  },
  {
   "cell_type": "markdown",
   "metadata": {},
   "source": [
    "#### Validação"
   ]
  },
  {
   "cell_type": "code",
   "execution_count": null,
   "metadata": {
    "executionInfo": {
     "elapsed": 14,
     "status": "ok",
     "timestamp": 1635522662063,
     "user": {
      "displayName": "Pedro Torres",
      "photoUrl": "https://lh3.googleusercontent.com/a-/AOh14GiOC_XQxtwkufSV38J42QN0teV5PKC9LlYXQ2mCEA=s64",
      "userId": "01891466493932664969"
     },
     "user_tz": 180
    },
    "id": "rLutRSJ15TuI"
   },
   "outputs": [
    {
     "name": "stdout",
     "output_type": "stream",
     "text": [
      " 39/159 [======>.......................] - ETA: 30s"
     ]
    }
   ],
   "source": [
    "# Predicts labels\n",
    "val_predictions = model.predict(val_generator, verbose=1)\n",
    "\n",
    "print(classification_report(val_generator.labels.argmax(1),\n",
    "                            val_predictions.argmax(1), zero_division=0))"
   ]
  },
  {
   "cell_type": "code",
   "execution_count": 38,
   "metadata": {
    "executionInfo": {
     "elapsed": 13,
     "status": "ok",
     "timestamp": 1635522662063,
     "user": {
      "displayName": "Pedro Torres",
      "photoUrl": "https://lh3.googleusercontent.com/a-/AOh14GiOC_XQxtwkufSV38J42QN0teV5PKC9LlYXQ2mCEA=s64",
      "userId": "01891466493932664969"
     },
     "user_tz": 180
    },
    "id": "vCzEwwcZ5pdr"
   },
   "outputs": [
    {
     "data": {
      "image/png": "[encoded data removed]",
      "text/plain": [
       "<Figure size 360x360 with 2 Axes>"
      ]
     },
     "metadata": {
      "needs_background": "light"
     },
     "output_type": "display_data"
    }
   ],
   "source": [
    "import seaborn as sns\n",
    "\n",
    "# Confusion matrix\n",
    "confusion = tf.math.confusion_matrix(val_generator.labels.argmax(1),\n",
    "                                     val_predictions.argmax(1))\n",
    "\n",
    "# Confusion matrix (for printing)\n",
    "confusion_matrix = confusion.numpy()\n",
    "\n",
    "con_matrix = plt.figure(figsize=(5, 5))\n",
    "ax_matrix = plt.subplot()\n",
    "\n",
    "matrix = sns.heatmap(confusion_matrix, annot=True, fmt=\"d\", linewidths=.25)\n",
    "\n",
    "classes = [\"MEL\", \"NV\", \"BCC\",  \"AK\", \"BKL\", \"DF\", \"VASC\", \"SCC\"]\n",
    "\n",
    "plt.xlabel(\"Rótulos preditos\", fontsize=12)\n",
    "plt.ylabel('Rótulos verdadeiros', fontsize=12)\n",
    "\n",
    "ax_matrix.set_yticklabels(classes)\n",
    "ax_matrix.set_xticklabels(classes)\n",
    "\n",
    "plt.savefig(\"./figures/overs_validation_confusion5.png\")"
   ]
  },
  {
   "cell_type": "code",
   "execution_count": 27,
   "metadata": {
    "executionInfo": {
     "elapsed": 14,
     "status": "ok",
     "timestamp": 1635522662064,
     "user": {
      "displayName": "Pedro Torres",
      "photoUrl": "https://lh3.googleusercontent.com/a-/AOh14GiOC_XQxtwkufSV38J42QN0teV5PKC9LlYXQ2mCEA=s64",
      "userId": "01891466493932664969"
     },
     "user_tz": 180
    },
    "id": "MA9Vyufp5vvV"
   },
   "outputs": [
    {
     "name": "stdout",
     "output_type": "stream",
     "text": [
      "True positive:  [  85 1707   84    1   17    1    2    3]\n",
      "True negative:  [3675  853 3836 4811 4327 4965 4910 4919]\n",
      "False positive: [ 487 1638  565   82  214   53  105   22]\n",
      "False negative: [819 868 581 172 508  47  49 122]\n",
      "\n",
      "Sensibilidade:  [0.09402655 0.66291262 0.12631579 0.00578035 0.03238095 0.02083333\n",
      " 0.03921569 0.024     ]\n",
      "Especificidade: [0.88298895 0.34243276 0.87162009 0.98324137 0.95287382 0.98943802\n",
      " 0.97906281 0.99554746]\n",
      "Precisão:       [0.1486014  0.5103139  0.12942989 0.01204819 0.07359307 0.01851852\n",
      " 0.01869159 0.12      ]\n",
      "F1-score:       [0.11517615 0.57668919 0.12785388 0.0078125  0.04497354 0.\n",
      " 0.         0.        ]\n",
      "Acurácia:       [0.74220292 0.50532965 0.77378602 0.94986182 0.85748125 0.98026056\n",
      " 0.96960126 0.97157521]\n"
     ]
    }
   ],
   "source": [
    "# Per class metrics\n",
    "\n",
    "FP = confusion_matrix.sum(axis=0) - np.diag(confusion_matrix)  \n",
    "FN = confusion_matrix.sum(axis=1) - np.diag(confusion_matrix)\n",
    "TP = np.diag(confusion_matrix)\n",
    "TN = confusion_matrix.sum() - (FP + FN + TP)\n",
    "\n",
    "# Sensitivity, hit rate, recall, or true positive rate\n",
    "TPR = np.divide(TP, (TP+FN),\n",
    "                out=np.zeros(TP.shape, dtype=float),\n",
    "                where=((TP+FN) != 0))\n",
    "\n",
    "# Specificity or true negative rate\n",
    "TNR = np.divide(TN, (TN+FP),\n",
    "                out=np.zeros(TN.shape, dtype=float),\n",
    "                where=((TN+FP) != 0))\n",
    "\n",
    "# Precision or positive predictive value\n",
    "PPV = np.divide(TP, (TP+FP),\n",
    "                out=np.zeros(TP.shape, dtype=float),\n",
    "                where=((TP+FP) != 0))\n",
    "\n",
    "# Negative predictive value\n",
    "NPV = np.divide(TN, (TN+FN),\n",
    "                out=np.zeros(TN.shape, dtype=float),\n",
    "                where=((TN+FN) != 0))\n",
    "\n",
    "# Fall out or false positive rate\n",
    "FPR = np.divide(FP, (FP+TN),\n",
    "                out=np.zeros(FP.shape, dtype=float),\n",
    "                where=((FP+TN) != 0))\n",
    "\n",
    "# False negative rate\n",
    "FNR = np.divide(FN, (TP+FN),\n",
    "                out=np.zeros(FN.shape, dtype=float),\n",
    "                where=((TP+FN) != 0))\n",
    "\n",
    "# False discovery rate\n",
    "FDR = np.divide(FP, (TP+FP),\n",
    "                out=np.zeros(FP.shape, dtype=float),\n",
    "                where=((TP+FP) != 0))\n",
    "\n",
    "# Overall accuracy\n",
    "ACC = np.divide((TP+TN), (TP+FP+FN+TN),\n",
    "                out=np.zeros((TP+TN).shape, dtype=float),\n",
    "                where=((TP+FP+FN+TN) != 0))\n",
    "\n",
    "# F1-score\n",
    "F1 = 2*np.divide(np.multiply(TPR, PPV), (TPR+PPV),\n",
    "                 out=np.zeros(dividend.shape, dtype=float),\n",
    "                 where=(divisor != 0))\n",
    "\n",
    "print(\"True positive:  {}\".format(TP))\n",
    "print(\"True negative:  {}\".format(TN))\n",
    "print(\"False positive: {}\".format(FP))\n",
    "print(\"False negative: {}\".format(FN), end=\"\\n\\n\")\n",
    "\n",
    "print(\"Sensibilidade:  {}\".format(TPR))\n",
    "print(\"Especificidade: {}\".format(TNR))\n",
    "print(\"Precisão:       {}\".format(PPV))\n",
    "print(\"F1-score:       {}\".format(F1))\n",
    "print(\"Acurácia:       {}\".format(ACC))"
   ]
  },
  {
   "cell_type": "code",
   "execution_count": 28,
   "metadata": {},
   "outputs": [
    {
     "name": "stdout",
     "output_type": "stream",
     "text": [
      "Médias aritméticas:\n",
      "Sensibilidade:  0.12568315978938482\n",
      "Especificidade: 0.8746506585199921\n",
      "Precisão:       0.1288995707195212\n",
      "F1-score:       0.10906315840034883\n",
      "Acurácia:       0.843762337149625\n"
     ]
    }
   ],
   "source": [
    "# Averaged metrics\n",
    "\n",
    "print(\"Médias aritméticas:\")\n",
    "print(\"Sensibilidade:  {}\".format(np.mean(TPR)))\n",
    "print(\"Especificidade: {}\".format(np.mean(TNR)))\n",
    "print(\"Precisão:       {}\".format(np.mean(PPV)))\n",
    "print(\"F1-score:       {}\".format(np.mean(F1)))\n",
    "print(\"Acurácia:       {}\".format(np.mean(ACC)))"
   ]
  },
  {
   "cell_type": "markdown",
   "metadata": {},
   "source": [
    "#### Teste"
   ]
  },
  {
   "cell_type": "code",
   "execution_count": 39,
   "metadata": {
    "executionInfo": {
     "elapsed": 14,
     "status": "ok",
     "timestamp": 1635522662063,
     "user": {
      "displayName": "Pedro Torres",
      "photoUrl": "https://lh3.googleusercontent.com/a-/AOh14GiOC_XQxtwkufSV38J42QN0teV5PKC9LlYXQ2mCEA=s64",
      "userId": "01891466493932664969"
     },
     "user_tz": 180
    },
    "id": "rLutRSJ15TuI"
   },
   "outputs": [
    {
     "name": "stdout",
     "output_type": "stream",
     "text": [
      "80/80 [==============================] - 21s 258ms/step\n",
      "              precision    recall  f1-score   support\n",
      "\n",
      "           0       0.18      0.12      0.15       453\n",
      "           1       0.50      0.64      0.56      1288\n",
      "           2       0.10      0.10      0.10       332\n",
      "           3       0.03      0.02      0.03        87\n",
      "           4       0.09      0.03      0.05       262\n",
      "           5       0.00      0.00      0.00        24\n",
      "           6       0.04      0.08      0.05        25\n",
      "           7       0.00      0.00      0.00        63\n",
      "\n",
      "    accuracy                           0.37      2534\n",
      "   macro avg       0.12      0.13      0.12      2534\n",
      "weighted avg       0.31      0.37      0.33      2534\n",
      "\n"
     ]
    }
   ],
   "source": [
    "# Predicts labels\n",
    "test_predictions = model.predict(test_generator, verbose=1)\n",
    "\n",
    "print(classification_report(test_generator.labels.argmax(1),\n",
    "                            test_predictions.argmax(1), zero_division=0))"
   ]
  },
  {
   "cell_type": "code",
   "execution_count": 40,
   "metadata": {
    "executionInfo": {
     "elapsed": 13,
     "status": "ok",
     "timestamp": 1635522662063,
     "user": {
      "displayName": "Pedro Torres",
      "photoUrl": "https://lh3.googleusercontent.com/a-/AOh14GiOC_XQxtwkufSV38J42QN0teV5PKC9LlYXQ2mCEA=s64",
      "userId": "01891466493932664969"
     },
     "user_tz": 180
    },
    "id": "vCzEwwcZ5pdr"
   },
   "outputs": [
    {
     "data": {
      "image/png": "[encoded data removed]",
      "text/plain": [
       "<Figure size 360x360 with 2 Axes>"
      ]
     },
     "metadata": {
      "needs_background": "light"
     },
     "output_type": "display_data"
    }
   ],
   "source": [
    "import seaborn as sns\n",
    "\n",
    "# Confusion matrix\n",
    "confusion = tf.math.confusion_matrix(test_generator.labels.argmax(1),\n",
    "                                     test_predictions.argmax(1))\n",
    "\n",
    "# Confusion matrix (for printing)\n",
    "confusion_matrix = confusion.numpy()\n",
    "\n",
    "con_matrix = plt.figure(figsize=(5, 5))\n",
    "ax_matrix = plt.subplot()\n",
    "\n",
    "matrix = sns.heatmap(confusion_matrix, annot=True, fmt=\"d\", linewidths=.25)\n",
    "\n",
    "classes = [\"MEL\", \"NV\", \"BCC\",  \"AK\", \"BKL\", \"DF\", \"VASC\", \"SCC\"]\n",
    "\n",
    "plt.xlabel(\"Rótulos preditos\", fontsize=12)\n",
    "plt.ylabel('Rótulos verdadeiros', fontsize=12)\n",
    "\n",
    "ax_matrix.set_yticklabels(classes)\n",
    "ax_matrix.set_xticklabels(classes)\n",
    "\n",
    "plt.savefig(\"./figures/overs_test_confusion5.png\")"
   ]
  },
  {
   "cell_type": "code",
   "execution_count": 41,
   "metadata": {
    "executionInfo": {
     "elapsed": 14,
     "status": "ok",
     "timestamp": 1635522662064,
     "user": {
      "displayName": "Pedro Torres",
      "photoUrl": "https://lh3.googleusercontent.com/a-/AOh14GiOC_XQxtwkufSV38J42QN0teV5PKC9LlYXQ2mCEA=s64",
      "userId": "01891466493932664969"
     },
     "user_tz": 180
    },
    "id": "MA9Vyufp5vvV"
   },
   "outputs": [
    {
     "name": "stdout",
     "output_type": "stream",
     "text": [
      "True positive:  [ 56 829  33   2   9   0   2   0]\n",
      "True negative:  [1829  426 1920 2386 2184 2481 2460 2449]\n",
      "False positive: [252 820 282  61  88  29  49  22]\n",
      "False negative: [397 459 299  85 253  24  23  63]\n",
      "\n",
      "Sensibilidade:  [0.12362031 0.64363354 0.09939759 0.02298851 0.03435115 0.\n",
      " 0.08       0.        ]\n",
      "Especificidade: [0.87890437 0.34189406 0.8719346  0.97507152 0.96126761 0.98844622\n",
      " 0.98047031 0.99109672]\n",
      "Precisão:       [0.18181818 0.50272893 0.1047619  0.03174603 0.09278351 0.\n",
      " 0.03921569 0.        ]\n",
      "F1-score:       [0.14717477 0.56452162 0.10200927 0.02666667 0.05013928 0.\n",
      " 0.         0.        ]\n",
      "Acurácia:       [0.74388319 0.4952644  0.77071823 0.94238358 0.86543015 0.97908445\n",
      " 0.97158642 0.9664562 ]\n"
     ]
    }
   ],
   "source": [
    "# Per class metrics\n",
    "\n",
    "FP = confusion_matrix.sum(axis=0) - np.diag(confusion_matrix)  \n",
    "FN = confusion_matrix.sum(axis=1) - np.diag(confusion_matrix)\n",
    "TP = np.diag(confusion_matrix)\n",
    "TN = confusion_matrix.sum() - (FP + FN + TP)\n",
    "\n",
    "# Sensitivity, hit rate, recall, or true positive rate\n",
    "TPR = np.divide(TP, (TP+FN),\n",
    "                out=np.zeros(TP.shape, dtype=float),\n",
    "                where=((TP+FN) != 0))\n",
    "\n",
    "# Specificity or true negative rate\n",
    "TNR = np.divide(TN, (TN+FP),\n",
    "                out=np.zeros(TN.shape, dtype=float),\n",
    "                where=((TN+FP) != 0))\n",
    "\n",
    "# Precision or positive predictive value\n",
    "PPV = np.divide(TP, (TP+FP),\n",
    "                out=np.zeros(TP.shape, dtype=float),\n",
    "                where=((TP+FP) != 0))\n",
    "\n",
    "# Negative predictive value\n",
    "NPV = np.divide(TN, (TN+FN),\n",
    "                out=np.zeros(TN.shape, dtype=float),\n",
    "                where=((TN+FN) != 0))\n",
    "\n",
    "# Fall out or false positive rate\n",
    "FPR = np.divide(FP, (FP+TN),\n",
    "                out=np.zeros(FP.shape, dtype=float),\n",
    "                where=((FP+TN) != 0))\n",
    "\n",
    "# False negative rate\n",
    "FNR = np.divide(FN, (TP+FN),\n",
    "                out=np.zeros(FN.shape, dtype=float),\n",
    "                where=((TP+FN) != 0))\n",
    "\n",
    "# False discovery rate\n",
    "FDR = np.divide(FP, (TP+FP),\n",
    "                out=np.zeros(FP.shape, dtype=float),\n",
    "                where=((TP+FP) != 0))\n",
    "\n",
    "# Overall accuracy\n",
    "ACC = np.divide((TP+TN), (TP+FP+FN+TN),\n",
    "                out=np.zeros((TP+TN).shape, dtype=float),\n",
    "                where=((TP+FP+FN+TN) != 0))\n",
    "\n",
    "# F1-score\n",
    "F1 = 2*np.divide(np.multiply(TPR, PPV), (TPR+PPV),\n",
    "                 out=np.zeros(dividend.shape, dtype=float),\n",
    "                 where=(divisor != 0))\n",
    "\n",
    "# c = np.divide(a, b, out=np.zeros_like(a), where=b!=0)\n",
    "print(\"True positive:  {}\".format(TP))\n",
    "print(\"True negative:  {}\".format(TN))\n",
    "print(\"False positive: {}\".format(FP))\n",
    "print(\"False negative: {}\".format(FN), end=\"\\n\\n\")\n",
    "\n",
    "print(\"Sensibilidade:  {}\".format(TPR))\n",
    "print(\"Especificidade: {}\".format(TNR))\n",
    "print(\"Precisão:       {}\".format(PPV))\n",
    "print(\"F1-score:       {}\".format(F1))\n",
    "print(\"Acurácia:       {}\".format(ACC))"
   ]
  },
  {
   "cell_type": "code",
   "execution_count": 42,
   "metadata": {},
   "outputs": [
    {
     "name": "stdout",
     "output_type": "stream",
     "text": [
      "Médias aritméticas:\n",
      "Sensibilidade:  0.12549888632127296\n",
      "Especificidade: 0.873635675572876\n",
      "Precisão:       0.11913177954718282\n",
      "F1-score:       0.11131395084297821\n",
      "Acurácia:       0.8418508287292819\n"
     ]
    }
   ],
   "source": [
    "# Averaged metrics\n",
    "\n",
    "print(\"Médias aritméticas:\")\n",
    "print(\"Sensibilidade:  {}\".format(np.mean(TPR)))\n",
    "print(\"Especificidade: {}\".format(np.mean(TNR)))\n",
    "print(\"Precisão:       {}\".format(np.mean(PPV)))\n",
    "print(\"F1-score:       {}\".format(np.mean(F1)))\n",
    "print(\"Acurácia:       {}\".format(np.mean(ACC)))"
   ]
  },
  {
   "cell_type": "markdown",
   "metadata": {
    "id": "GDXKUuxK-Bnd"
   },
   "source": [
    "### Modelo p/ copiar e colar"
   ]
  },
  {
   "cell_type": "markdown",
   "metadata": {
    "id": "L8ab8p4O-ITd"
   },
   "source": [
    "*   Batch size: 32;\n",
    "*   Topo treinado por XX épocas;\n",
    "*   Número de épocas de treinamento: YY;\n",
    "*   *Learning rate*: ZZ;"
   ]
  },
  {
   "cell_type": "code",
   "execution_count": null,
   "metadata": {},
   "outputs": [],
   "source": [
    "# # Load model\n",
    "# model = keras.models.load_model(\"path/to/model\")"
   ]
  },
  {
   "cell_type": "code",
   "execution_count": 27,
   "metadata": {
    "executionInfo": {
     "elapsed": 14,
     "status": "ok",
     "timestamp": 1635522662063,
     "user": {
      "displayName": "Pedro Torres",
      "photoUrl": "https://lh3.googleusercontent.com/a-/AOh14GiOC_XQxtwkufSV38J42QN0teV5PKC9LlYXQ2mCEA=s64",
      "userId": "01891466493932664969"
     },
     "user_tz": 180
    },
    "id": "rLutRSJ15TuI"
   },
   "outputs": [],
   "source": [
    "# # Predicts labels\n",
    "# test_predictions = model.predict(test_generator, verbose=1)\n",
    "\n",
    "# print(classification_report(test_generator.labels.argmax(1),\n",
    "#                             test_predictions.argmax(1), zero_division=0))"
   ]
  },
  {
   "cell_type": "code",
   "execution_count": 27,
   "metadata": {
    "executionInfo": {
     "elapsed": 13,
     "status": "ok",
     "timestamp": 1635522662063,
     "user": {
      "displayName": "Pedro Torres",
      "photoUrl": "https://lh3.googleusercontent.com/a-/AOh14GiOC_XQxtwkufSV38J42QN0teV5PKC9LlYXQ2mCEA=s64",
      "userId": "01891466493932664969"
     },
     "user_tz": 180
    },
    "id": "vCzEwwcZ5pdr"
   },
   "outputs": [],
   "source": [
    "# import seaborn as sns\n",
    "\n",
    "# # Confusion matrix\n",
    "# confusion = tf.math.confusion_matrix(test_generator.labels.argmax(1),\n",
    "#                                      test_predictions.argmax(1))\n",
    "\n",
    "# # Confusion matrix (for printing)\n",
    "# confusion_matrix = confusion.numpy()\n",
    "\n",
    "# con_matrix = plt.figure(figsize=(5, 5))\n",
    "# ax_matrix = plt.subplot()\n",
    "\n",
    "# matrix = sns.heatmap(confusion_matrix, annot=True, fmt=\"d\", linewidths=.25)\n",
    "\n",
    "# classes = [\"MEL\", \"NV\", \"BCC\",  \"AK\", \"BKL\", \"DF\", \"VASC\", \"SCC\"]\n",
    "\n",
    "# plt.xlabel(\"Rótulos preditos\", fontsize=12)\n",
    "# plt.ylabel('Rótulos verdadeiros', fontsize=12)\n",
    "\n",
    "# ax_matrix.set_yticklabels(classes)\n",
    "# ax_matrix.set_xticklabels(classes)\n",
    "\n",
    "# # plt.savefig(\"nesterov_test_confusion5.png\")"
   ]
  },
  {
   "cell_type": "code",
   "execution_count": 28,
   "metadata": {
    "executionInfo": {
     "elapsed": 14,
     "status": "ok",
     "timestamp": 1635522662064,
     "user": {
      "displayName": "Pedro Torres",
      "photoUrl": "https://lh3.googleusercontent.com/a-/AOh14GiOC_XQxtwkufSV38J42QN0teV5PKC9LlYXQ2mCEA=s64",
      "userId": "01891466493932664969"
     },
     "user_tz": 180
    },
    "id": "MA9Vyufp5vvV"
   },
   "outputs": [],
   "source": [
    "# # Per class metrics\n",
    "\n",
    "# FP = confusion_matrix.sum(axis=0) - np.diag(confusion_matrix)  \n",
    "# FN = confusion_matrix.sum(axis=1) - np.diag(confusion_matrix)\n",
    "# TP = np.diag(confusion_matrix)\n",
    "# TN = confusion_matrix.sum() - (FP + FN + TP)\n",
    "\n",
    "# # Sensitivity, hit rate, recall, or true positive rate\n",
    "# TPR = np.divide(TP, (TP+FN),\n",
    "#                 out=np.zeros(TP.shape, dtype=float),\n",
    "#                 where=((TP+FN) != 0))\n",
    "\n",
    "# # Specificity or true negative rate\n",
    "# TNR = np.divide(TN, (TN+FP),\n",
    "#                 out=np.zeros(TN.shape, dtype=float),\n",
    "#                 where=((TN+FP) != 0))\n",
    "\n",
    "# # Precision or positive predictive value\n",
    "# PPV = np.divide(TP, (TP+FP),\n",
    "#                 out=np.zeros(TP.shape, dtype=float),\n",
    "#                 where=((TP+FP) != 0))\n",
    "\n",
    "# # Negative predictive value\n",
    "# NPV = np.divide(TN, (TN+FN),\n",
    "#                 out=np.zeros(TN.shape, dtype=float),\n",
    "#                 where=((TN+FN) != 0))\n",
    "\n",
    "# # Fall out or false positive rate\n",
    "# FPR = np.divide(FP, (FP+TN),\n",
    "#                 out=np.zeros(FP.shape, dtype=float),\n",
    "#                 where=((FP+TN) != 0))\n",
    "\n",
    "# # False negative rate\n",
    "# FNR = np.divide(FN, (TP+FN),\n",
    "#                 out=np.zeros(FN.shape, dtype=float),\n",
    "#                 where=((TP+FN) != 0))\n",
    "\n",
    "# # False discovery rate\n",
    "# FDR = np.divide(FP, (TP+FP),\n",
    "#                 out=np.zeros(FP.shape, dtype=float),\n",
    "#                 where=((TP+FP) != 0))\n",
    "\n",
    "# # Overall accuracy\n",
    "# ACC = np.divide((TP+TN), (TP+FP+FN+TN),\n",
    "#                 out=np.zeros((TP+TN).shape, dtype=float),\n",
    "#                 where=((TP+FP+FN+TN) != 0))\n",
    "\n",
    "# # F1-score\n",
    "# F1 = 2*np.divide(np.multiply(TPR, PPV), (TPR+PPV),\n",
    "#                  out=np.zeros(dividend.shape, dtype=float),\n",
    "#                  where=(divisor != 0))\n",
    "\n",
    "# # c = np.divide(a, b, out=np.zeros_like(a), where=b!=0)\n",
    "# print(\"True positive:  {}\".format(TP))\n",
    "# print(\"True negative:  {}\".format(TN))\n",
    "# print(\"False positive: {}\".format(FP))\n",
    "# print(\"False negative: {}\".format(FN), end=\"\\n\\n\")\n",
    "\n",
    "# print(\"Sensibilidade:  {}\".format(TPR))\n",
    "# print(\"Especificidade: {}\".format(TNR))\n",
    "# print(\"Precisão:       {}\".format(PPV))\n",
    "# print(\"F1-score:       {}\".format(F1))\n",
    "# print(\"Acurácia:       {}\".format(ACC))"
   ]
  },
  {
   "cell_type": "code",
   "execution_count": null,
   "metadata": {},
   "outputs": [],
   "source": [
    "# # Averaged metrics\n",
    "\n",
    "# print(\"Médias aritméticas:\")\n",
    "# print(\"Sensibilidade:  {}\".format(np.mean(TPR)))\n",
    "# print(\"Especificidade: {}\".format(np.mean(TNR)))\n",
    "# print(\"Precisão:       {}\".format(np.mean(PPV)))\n",
    "# print(\"F1-score:       {}\".format(np.mean(F1)))\n",
    "# print(\"Acurácia:       {}\".format(np.mean(ACC)))"
   ]
  }
 ],
 "metadata": {
  "accelerator": "GPU",
  "colab": {
   "name": "effNet-B2_nesterov_trainingPipeline.ipynb",
   "provenance": []
  },
  "kernelspec": {
   "display_name": "Python 3 (ipykernel)",
   "language": "python",
   "name": "python3"
  },
  "language_info": {
   "codemirror_mode": {
    "name": "ipython",
    "version": 3
   },
   "file_extension": ".py",
   "mimetype": "text/x-python",
   "name": "python",
   "nbconvert_exporter": "python",
   "pygments_lexer": "ipython3",
   "version": "3.8.3"
  }
 },
 "nbformat": 4,
 "nbformat_minor": 1
}
